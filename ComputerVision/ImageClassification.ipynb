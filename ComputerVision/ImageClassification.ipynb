{
  "nbformat": 4,
  "nbformat_minor": 0,
  "metadata": {
    "colab": {
      "name": "ImageClassification.ipynb",
      "provenance": [],
      "authorship_tag": "ABX9TyP9CpRyIv4MylcWIJ1FnisC",
      "include_colab_link": true
    },
    "kernelspec": {
      "name": "python3",
      "display_name": "Python 3"
    },
    "language_info": {
      "name": "python"
    },
    "accelerator": "GPU"
  },
  "cells": [
    {
      "cell_type": "markdown",
      "metadata": {
        "id": "view-in-github",
        "colab_type": "text"
      },
      "source": [
        "<a href=\"https://colab.research.google.com/github/mateopolancecofficial/DeepLearningProjects/blob/main/ComputerVision/ImageClassification.ipynb\" target=\"_parent\"><img src=\"https://colab.research.google.com/assets/colab-badge.svg\" alt=\"Open In Colab\"/></a>"
      ]
    },
    {
      "cell_type": "code",
      "metadata": {
        "id": "6V7z6qIHEZrY"
      },
      "source": [
        "import matplotlib.pyplot as plt\n",
        "import numpy as np\n",
        "import os\n",
        "import PIL\n",
        "import tensorflow as tf\n",
        "import PIL.Image\n",
        "import tensorflow_datasets as tfds\n",
        "import pathlib\n",
        "\n",
        "from tensorflow import keras\n",
        "from tensorflow.keras import layers\n",
        "from tensorflow.keras.models import Sequential"
      ],
      "execution_count": 34,
      "outputs": []
    },
    {
      "cell_type": "code",
      "metadata": {
        "colab": {
          "base_uri": "https://localhost:8080/"
        },
        "id": "e7Rfe6s1Mnty",
        "outputId": "c1905edd-c1bd-4e0e-c5ab-2325253d82f3"
      },
      "source": [
        "tf.debugging.set_log_device_placement(True)\n",
        "\n",
        "if tf.config.list_physical_devices('GPU'):\n",
        "  if len(tf.config.list_physical_devices('GPU')) > 1:\n",
        "    strategy = tf.distribute.MirroredStrategy()\n",
        "    print(\"Num GPUs Available: \", len(tf.config.list_physical_devices('GPU')))\n",
        "  else:\n",
        "    print(\"Num GPUs Available: \", len(tf.config.list_physical_devices('GPU')))"
      ],
      "execution_count": 35,
      "outputs": [
        {
          "output_type": "stream",
          "text": [
            "Num GPUs Available:  1\n"
          ],
          "name": "stdout"
        }
      ]
    },
    {
      "cell_type": "code",
      "metadata": {
        "colab": {
          "base_uri": "https://localhost:8080/"
        },
        "id": "TzkCfDG9Qi1Q",
        "outputId": "c959a7db-0523-4a12-acb8-e07e191a26f9"
      },
      "source": [
        "# download images folder\n",
        "#!wget https://storage.googleapis.com/download.tensorflow.org/example_images/flower_photos.tgz\n",
        "#from shutil import unpack_archive\n",
        "#unpack_archive('/content/flower_photos.tgz', '/content/')"
      ],
      "execution_count": 7,
      "outputs": [
        {
          "output_type": "stream",
          "text": [
            "--2021-06-11 20:41:40--  https://storage.googleapis.com/download.tensorflow.org/example_images/flower_photos.tgz\n",
            "Resolving storage.googleapis.com (storage.googleapis.com)... 74.125.20.128, 108.177.98.128, 74.125.195.128, ...\n",
            "Connecting to storage.googleapis.com (storage.googleapis.com)|74.125.20.128|:443... connected.\n",
            "HTTP request sent, awaiting response... 200 OK\n",
            "Length: 228813984 (218M) [application/x-compressed-tar]\n",
            "Saving to: ‘flower_photos.tgz’\n",
            "\n",
            "flower_photos.tgz   100%[===================>] 218.21M   191MB/s    in 1.1s    \n",
            "\n",
            "2021-06-11 20:41:42 (191 MB/s) - ‘flower_photos.tgz’ saved [228813984/228813984]\n",
            "\n"
          ],
          "name": "stdout"
        }
      ]
    },
    {
      "cell_type": "code",
      "metadata": {
        "id": "JN4UgX-jE94e"
      },
      "source": [
        "# set parameters\n",
        "\n",
        "# load data parameters\n",
        "#origin = \"https://storage.googleapis.com/download.tensorflow.org/example_images/flower_photos.tgz\"\n",
        "origin = '/content/'\n",
        "fname = 'flower_photos'\n",
        "untar = False\n",
        "color_mode = \"rgb\"\n",
        "source_folder_path = origin + fname\n"
      ],
      "execution_count": 47,
      "outputs": []
    },
    {
      "cell_type": "code",
      "metadata": {
        "colab": {
          "base_uri": "https://localhost:8080/"
        },
        "id": "s0072p5n6U8s",
        "outputId": "a88fb47a-97a2-4adc-8f79-f4c367678ecd"
      },
      "source": [
        "def get_min_img_size(source_folder_path):\n",
        "  \"\"\"\n",
        "  Check if all images are of the same size and get min image width and min image\n",
        "  height.\n",
        "  param source_folder_path:      path of a source folder\n",
        "  return img_width, img_height:  min image width and height scalar values\n",
        "  \"\"\"\n",
        "\n",
        "  img_width, img_height = None, None\n",
        "  dirs = os.listdir(source_folder_path)\n",
        "\n",
        "  for dir in dirs:\n",
        "    for file in dir:\n",
        "      image = tf.keras.preprocessing.image.load_img(image_path)\n",
        "      image = keras.preprocessing.image.img_to_array(image)\n",
        "      if img_width = None:\n",
        "        img_width, img_height = image.shape[0], image.shape[1]\n",
        "      else:\n",
        "        if image.shape[0] < img_width:\n",
        "          img_width = image.shape[0]\n",
        "        if image.shape[1] < img_height:\n",
        "          img_width = image.shape[0] "
      ],
      "execution_count": 45,
      "outputs": [
        {
          "output_type": "execute_result",
          "data": {
            "text/plain": [
              "(241, 320, 3)"
            ]
          },
          "metadata": {
            "tags": []
          },
          "execution_count": 45
        }
      ]
    },
    {
      "cell_type": "code",
      "metadata": {
        "id": "auBaRSrBbrsh"
      },
      "source": [
        "def set_resize_image_parameters(image):\n",
        "  \"\"\"\n",
        "  Set parameters for resizing input images.\n",
        "  param image:                   numpy array like input image\n",
        "  return img_height, img_width:  image height and image with scalar values     \n",
        "  \"\"\"\n",
        "\n",
        "  img_height = image.shape[0]\n",
        "  img_width = image.shape[1]\n",
        "\n",
        "  if image.shape[0] > 250 and image.shape[1] > 250:\n",
        "    img_height = 250\n",
        "    img_width = 250\n",
        "    print(img_height)\n",
        "\n",
        "  elif image.shape[0] > 125 and image.shape[1] > 125:\n",
        "    img_height = 125\n",
        "    img_width = 125\n",
        "    print(img_height)\n",
        "\n",
        "  else:\n",
        "    img_height = img_height\n",
        "    img_width = img_width\n",
        "    print(img_height)\n",
        "  \n",
        "  return img_height, img_width\n",
        "\n"
      ],
      "execution_count": 40,
      "outputs": []
    },
    {
      "cell_type": "code",
      "metadata": {
        "colab": {
          "base_uri": "https://localhost:8080/"
        },
        "id": "ION3btx9esdX",
        "outputId": "23c7a854-9e0b-43b7-d72e-f5338f634fa5"
      },
      "source": [
        "# set tensorflow dataset parameters\n",
        "batch_size = 32\n",
        "img_height, img_width = set_resize_image_parameters(image)"
      ],
      "execution_count": 41,
      "outputs": [
        {
          "output_type": "stream",
          "text": [
            "125\n"
          ],
          "name": "stdout"
        }
      ]
    },
    {
      "cell_type": "code",
      "metadata": {
        "id": "H2V96MaJRkIt"
      },
      "source": [
        "def get_image_dataset(data_path, color_mode, image_size, subset = None, \n",
        "                      validation_split = None, seed = None):\n",
        "  \"\"\"\n",
        "  Create tensorflow dataset from data directory object.\n",
        "  param data_path:        string, source folder path\n",
        "  param color_mode:       available color modes are \"grayscale\", \"rgb\", \"rgba\", \n",
        "                          (images will be converted to have 1, 3, or 4 channels)\n",
        "  param image_size:       touple (image_with, image_height)\n",
        "  param subset:           name of subset ('train', 'validation')\n",
        "  param validation_split: validation set percentage (float)\n",
        "  \"\"\"\n",
        "    \n",
        "  if subset:\n",
        "        validation_split = validation_split\n",
        "  dataset = tf.keras.preprocessing.image_dataset_from_directory(\n",
        "      data_path,\n",
        "      color_mode=color_mode,\n",
        "      image_size=image_size,\n",
        "      seed=seed,\n",
        "      validation_split=validation_split, \n",
        "      subset=subset\n",
        "    )\n",
        "    \n",
        "  dataset.class_names.sort()\n",
        "    \n",
        "  return {\n",
        "      \"data\": dataset.cache().prefetch(\n",
        "      buffer_size = tf.data.experimental.AUTOTUNE\n",
        "      ),\n",
        "      \"classNames\": dataset.class_names\n",
        "        }"
      ],
      "execution_count": 32,
      "outputs": []
    },
    {
      "cell_type": "code",
      "metadata": {
        "colab": {
          "base_uri": "https://localhost:8080/"
        },
        "id": "GE9YzOR-LSdZ",
        "outputId": "5f34173f-e796-48d2-9e40-bc3a9cb05c80"
      },
      "source": [
        "training_data_path = \"/content/flower_photos/\"\n",
        "image_size = (100, 100)\n",
        "validation_split = 0.2\n",
        "seed = 100\n",
        "\n",
        "training_ds = get_image_dataset(\n",
        "    training_data_path,\n",
        "    color_mode,\n",
        "    image_size,\n",
        "    subset = \"training\",\n",
        "    validation_split = validation_split, \n",
        "    seed=seed\n",
        ")\n",
        "\n",
        "validation_ds = get_image_dataset(\n",
        "    training_data_path,\n",
        "    color_mode,\n",
        "    image_size,\n",
        "    subset = \"validation\",\n",
        "    validation_split = validation_split,\n",
        "    seed=seed\n",
        ")\n",
        "\n",
        "#test_ds = get_image_data(\n",
        "#    test_data_path,\n",
        "#    color_mode,\n",
        "#    image_size\n",
        "#)"
      ],
      "execution_count": 36,
      "outputs": [
        {
          "output_type": "stream",
          "text": [
            "Found 3670 files belonging to 5 classes.\n",
            "Using 2936 files for training.\n",
            "Executing op TensorSliceDataset in device /job:localhost/replica:0/task:0/device:CPU:0\n",
            "Executing op MapDataset in device /job:localhost/replica:0/task:0/device:CPU:0\n",
            "Executing op TensorSliceDataset in device /job:localhost/replica:0/task:0/device:CPU:0\n",
            "Executing op ZipDataset in device /job:localhost/replica:0/task:0/device:CPU:0\n",
            "Executing op Equal in device /job:localhost/replica:0/task:0/device:GPU:0\n",
            "Executing op Equal in device /job:localhost/replica:0/task:0/device:GPU:0\n",
            "Executing op LogicalAnd in device /job:localhost/replica:0/task:0/device:GPU:0\n",
            "Executing op SelectV2 in device /job:localhost/replica:0/task:0/device:GPU:0\n",
            "Executing op DummySeedGenerator in device /job:localhost/replica:0/task:0/device:CPU:0\n",
            "Executing op ShuffleDatasetV3 in device /job:localhost/replica:0/task:0/device:CPU:0\n",
            "Executing op BatchDatasetV2 in device /job:localhost/replica:0/task:0/device:CPU:0\n",
            "Executing op DummyMemoryCache in device /job:localhost/replica:0/task:0/device:CPU:0\n",
            "Executing op CacheDatasetV2 in device /job:localhost/replica:0/task:0/device:CPU:0\n",
            "Executing op PrefetchDataset in device /job:localhost/replica:0/task:0/device:CPU:0\n",
            "Found 3670 files belonging to 5 classes.\n",
            "Using 734 files for validation.\n",
            "Executing op TensorSliceDataset in device /job:localhost/replica:0/task:0/device:CPU:0\n",
            "Executing op MapDataset in device /job:localhost/replica:0/task:0/device:CPU:0\n",
            "Executing op TensorSliceDataset in device /job:localhost/replica:0/task:0/device:CPU:0\n",
            "Executing op ZipDataset in device /job:localhost/replica:0/task:0/device:CPU:0\n",
            "Executing op Equal in device /job:localhost/replica:0/task:0/device:GPU:0\n",
            "Executing op Equal in device /job:localhost/replica:0/task:0/device:GPU:0\n",
            "Executing op LogicalAnd in device /job:localhost/replica:0/task:0/device:GPU:0\n",
            "Executing op SelectV2 in device /job:localhost/replica:0/task:0/device:GPU:0\n",
            "Executing op DummySeedGenerator in device /job:localhost/replica:0/task:0/device:CPU:0\n",
            "Executing op ShuffleDatasetV3 in device /job:localhost/replica:0/task:0/device:CPU:0\n",
            "Executing op BatchDatasetV2 in device /job:localhost/replica:0/task:0/device:CPU:0\n",
            "Executing op DummyMemoryCache in device /job:localhost/replica:0/task:0/device:CPU:0\n",
            "Executing op CacheDatasetV2 in device /job:localhost/replica:0/task:0/device:CPU:0\n",
            "Executing op PrefetchDataset in device /job:localhost/replica:0/task:0/device:CPU:0\n"
          ],
          "name": "stdout"
        }
      ]
    },
    {
      "cell_type": "code",
      "metadata": {
        "id": "S3jMS-Co12sM"
      },
      "source": [
        ""
      ],
      "execution_count": null,
      "outputs": []
    }
  ]
}