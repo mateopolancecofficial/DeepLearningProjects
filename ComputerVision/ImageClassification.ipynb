{
  "nbformat": 4,
  "nbformat_minor": 0,
  "metadata": {
    "colab": {
      "name": "ImageClassification.ipynb",
      "provenance": [],
      "authorship_tag": "ABX9TyN7yc8u+anGKtjydvGST9Yz",
      "include_colab_link": true
    },
    "kernelspec": {
      "name": "python3",
      "display_name": "Python 3"
    },
    "language_info": {
      "name": "python"
    },
    "accelerator": "GPU"
  },
  "cells": [
    {
      "cell_type": "markdown",
      "metadata": {
        "id": "view-in-github",
        "colab_type": "text"
      },
      "source": [
        "<a href=\"https://colab.research.google.com/github/mateopolancecofficial/DeepLearningProjects/blob/main/ComputerVision/ImageClassification.ipynb\" target=\"_parent\"><img src=\"https://colab.research.google.com/assets/colab-badge.svg\" alt=\"Open In Colab\"/></a>"
      ]
    },
    {
      "cell_type": "code",
      "metadata": {
        "id": "6V7z6qIHEZrY",
        "colab": {
          "base_uri": "https://localhost:8080/"
        },
        "outputId": "742f13b2-c7c9-4d69-c5b8-ca366d19f74e"
      },
      "source": [
        "!pip install -q -U keras-tuner"
      ],
      "execution_count": 1,
      "outputs": [
        {
          "output_type": "stream",
          "text": [
            "\u001b[?25l\r\u001b[K     |█████▏                          | 10kB 18.3MB/s eta 0:00:01\r\u001b[K     |██████████▍                     | 20kB 9.2MB/s eta 0:00:01\r\u001b[K     |███████████████▋                | 30kB 7.7MB/s eta 0:00:01\r\u001b[K     |████████████████████▉           | 40kB 7.4MB/s eta 0:00:01\r\u001b[K     |██████████████████████████      | 51kB 4.1MB/s eta 0:00:01\r\u001b[K     |███████████████████████████████▎| 61kB 4.3MB/s eta 0:00:01\r\u001b[K     |████████████████████████████████| 71kB 3.3MB/s \n",
            "\u001b[?25h  Building wheel for keras-tuner (setup.py) ... \u001b[?25l\u001b[?25hdone\n",
            "  Building wheel for terminaltables (setup.py) ... \u001b[?25l\u001b[?25hdone\n"
          ],
          "name": "stdout"
        }
      ]
    },
    {
      "cell_type": "code",
      "metadata": {
        "id": "tjmcYGwuZRgR"
      },
      "source": [
        "# set installation txt file with all relevant packages\n",
        "import matplotlib.pyplot as plt\n",
        "import matplotlib.image as mpimg\n",
        "import numpy as np\n",
        "import os\n",
        "import PIL\n",
        "import PIL.Image\n",
        "import pathlib\n",
        "import shutil\n",
        "import random\n",
        "import imghdr\n",
        "\n",
        "import tensorflow as tf\n",
        "import tensorflow_datasets as tfds\n",
        "from tensorflow import keras\n",
        "from tensorflow.keras import layers\n",
        "from tensorflow.keras.models import Sequential\n",
        "import kerastuner as kt"
      ],
      "execution_count": 2,
      "outputs": []
    },
    {
      "cell_type": "code",
      "metadata": {
        "colab": {
          "base_uri": "https://localhost:8080/"
        },
        "id": "e7Rfe6s1Mnty",
        "outputId": "d35a4a69-a071-499c-c67d-a200ee440fb9"
      },
      "source": [
        "#tf.debugging.set_log_device_placement(True)\n",
        "\n",
        "if tf.config.list_physical_devices('GPU'):\n",
        "  if len(tf.config.list_physical_devices('GPU')) > 1:\n",
        "    strategy = tf.distribute.MirroredStrategy()\n",
        "    print(\"Num GPUs Available: \", len(tf.config.list_physical_devices('GPU')))\n",
        "  else:\n",
        "    print(\"Num GPUs Available: \", len(tf.config.list_physical_devices('GPU')))\n",
        "    strategy = None"
      ],
      "execution_count": 3,
      "outputs": [
        {
          "output_type": "stream",
          "text": [
            "Num GPUs Available:  1\n"
          ],
          "name": "stdout"
        }
      ]
    },
    {
      "cell_type": "code",
      "metadata": {
        "id": "TzkCfDG9Qi1Q",
        "colab": {
          "base_uri": "https://localhost:8080/"
        },
        "outputId": "bae50e41-5346-4ca2-c97c-bc38e2919a46"
      },
      "source": [
        "# download images folder\n",
        "!wget https://storage.googleapis.com/download.tensorflow.org/example_images/flower_photos.tgz\n",
        "from shutil import unpack_archive\n",
        "unpack_archive('/content/flower_photos.tgz', '/content/')"
      ],
      "execution_count": 4,
      "outputs": [
        {
          "output_type": "stream",
          "text": [
            "--2021-06-14 17:49:18--  https://storage.googleapis.com/download.tensorflow.org/example_images/flower_photos.tgz\n",
            "Resolving storage.googleapis.com (storage.googleapis.com)... 108.177.97.128, 142.250.157.128, 74.125.23.128, ...\n",
            "Connecting to storage.googleapis.com (storage.googleapis.com)|108.177.97.128|:443... connected.\n",
            "HTTP request sent, awaiting response... 200 OK\n",
            "Length: 228813984 (218M) [application/x-compressed-tar]\n",
            "Saving to: ‘flower_photos.tgz’\n",
            "\n",
            "flower_photos.tgz   100%[===================>] 218.21M  45.2MB/s    in 4.8s    \n",
            "\n",
            "2021-06-14 17:49:23 (45.2 MB/s) - ‘flower_photos.tgz’ saved [228813984/228813984]\n",
            "\n"
          ],
          "name": "stdout"
        }
      ]
    },
    {
      "cell_type": "code",
      "metadata": {
        "colab": {
          "base_uri": "https://localhost:8080/"
        },
        "id": "JN4UgX-jE94e",
        "outputId": "f03f15b8-cca7-4a3b-c065-4b53045ddcb8"
      },
      "source": [
        "# load data parameters\n",
        "\n",
        "MAX_WIDTH, MAX_HEIGHT = 100, 100\n",
        "ORIGIN = os.path.dirname(os.path.abspath(\"ImageClassification.ipynb\"))\n",
        "print(ORIGIN)\n",
        "SOURCE = 'flower_photos'\n",
        "#test_path = ''\n",
        "# available color modes are \"grayscale\", \"rgb\", \"rgba\", \n",
        "# (images will be converted to have 1, 3, or 4 channels)\n",
        "COLOR_MODE = \"rgb\"\n",
        "SOURCE_PATH = os.path.join(ORIGIN, SOURCE)\n",
        "#test_source_folder_path = os.path.join(ORIGIN, test_path)\n",
        "print(SOURCE_PATH)\n",
        "\n",
        "BATCH_SIZE = 32\n",
        "TEST_SPLIT = 0.2\n",
        "VALIDATION_SPLIT = 0.2\n",
        "SEED = 100\n",
        "\n",
        "IMAGE_EXTENSIONS = ['png', 'jpg', 'jpeg', 'tiff', 'bmp', 'gif']\n"
      ],
      "execution_count": 6,
      "outputs": [
        {
          "output_type": "stream",
          "text": [
            "/content\n",
            "/content/flower_photos\n"
          ],
          "name": "stdout"
        }
      ]
    },
    {
      "cell_type": "code",
      "metadata": {
        "id": "cGefBXnuLNeo"
      },
      "source": [
        "# split dataset on test and train if is not currently\n",
        "\n",
        "def train_test_split():\n",
        "  \"\"\"\n",
        "  Create train and test subsets from source dataset.\n",
        "  \"\"\"\n",
        "\n",
        "  source_path = os.path.join(ORIGIN, SOURCE_PATH)\n",
        "  train_path = \"train_data\"\n",
        "  test_path = \"test_data\"\n",
        "  train_path = os.path.join(ORIGIN, train_path)\n",
        "  test_path = os.path.join(ORIGIN, test_path)\n",
        "\n",
        "  if os.path.exists(train_path):\n",
        "    shutil.rmtree(train_path)\n",
        "  os.mkdir(train_path)\n",
        "\n",
        "  if os.path.exists(test_path):\n",
        "    shutil.rmtree(test_path)\n",
        "  os.mkdir(test_path)\n",
        "\n",
        "  num_of_classes = len(os.listdir(source_path))\n",
        "\n",
        "  for dir in os.listdir(source_path):\n",
        "    files = os.listdir(os.path.join(source_path, dir))\n",
        "    if len(files) > 0:\n",
        "      # create train dataset dir\n",
        "      if not os.path.exists(os.path.join(train_path, dir)):\n",
        "        os.mkdir(os.path.join(train_path, dir))\n",
        "      # create test dataset dir\n",
        "      if not os.path.exists(os.path.join(test_path, dir)):\n",
        "        os.mkdir(os.path.join(test_path, dir))\n",
        "      # extract names of test subset files\n",
        "      test_num = len(files) * TEST_SPLIT\n",
        "      indicies = random.sample(range(len(files)), round(test_num))\n",
        "      test_files_names = [files[i] for i in indicies]\n",
        "      \n",
        "      for f in files:\n",
        "        if f in test_files_names:\n",
        "          # move file from source dataset to test dataset\n",
        "          image_type = imghdr.what(os.path.join(os.path.join(source_path, dir), f))\n",
        "          if image_type in IMAGE_EXTENSIONS:\n",
        "            os.replace(os.path.join(os.path.join(source_path, dir), f), \n",
        "                       os.path.join(os.path.join(test_path, dir), f))\n",
        "        \n",
        "        else:\n",
        "          # move file from source dataset to test dataset\n",
        "          image_type = imghdr.what(os.path.join(os.path.join(source_path, dir), f))\n",
        "          if image_type in IMAGE_EXTENSIONS:\n",
        "            os.replace(os.path.join(os.path.join(source_path, dir), f), \n",
        "                       os.path.join(os.path.join(train_path, dir), f))\n",
        "      \n",
        "      \n",
        "\n",
        "  return train_path, test_path, num_of_classes\n"
      ],
      "execution_count": 7,
      "outputs": []
    },
    {
      "cell_type": "code",
      "metadata": {
        "id": "s0072p5n6U8s"
      },
      "source": [
        "def get_min_img_size(train_path, test_path=None):\n",
        "  \"\"\"\n",
        "  Check if all images are of the same size and get min image width and min image\n",
        "  height.\n",
        "  param train_path:              path of a train source folder\n",
        "  param test_path:               path of a test source folder\n",
        "  return img_width, img_height:  min image width and height scalar values\n",
        "  \"\"\"\n",
        "\n",
        "  img_width_list = []\n",
        "  img_height_list = []\n",
        "\n",
        "  def get_image_params(data_path):\n",
        "    img_width, img_height = None, None\n",
        "    dirs = os.listdir(data_path)\n",
        "    for dir in dirs:\n",
        "      files = os.listdir(data_path + \"/\" + dir)\n",
        "      for f in files:\n",
        "        image_path = data_path + \"/\" + dir + \"/\" + f\n",
        "        image = tf.keras.preprocessing.image.load_img(image_path)\n",
        "        image = keras.preprocessing.image.img_to_array(image)\n",
        "        if img_width == None:\n",
        "          img_width, img_height = image.shape[0], image.shape[1]\n",
        "        else:\n",
        "          if image.shape[0] < img_width:\n",
        "            img_width = image.shape[0]\n",
        "          if image.shape[1] < img_height:\n",
        "            img_height = image.shape[1]\n",
        "\n",
        "    return img_width, img_height\n",
        "\n",
        "  if test_path == None:\n",
        "    return get_image_params(train_path)\n",
        "    \n",
        "  else:\n",
        "    img_width_train, img_height_train = get_image_params(train_path)\n",
        "    img_width_list.append(img_width_train)\n",
        "    img_height_list.append(img_height_train)\n",
        "\n",
        "    img_width_test, img_height_test = get_image_params(test_path)\n",
        "    img_width_list.append(img_width_test)\n",
        "    img_height_list.append(img_height_test)\n",
        "  \n",
        "    return min(img_width_list), min(img_height_list)"
      ],
      "execution_count": 8,
      "outputs": []
    },
    {
      "cell_type": "code",
      "metadata": {
        "id": "auBaRSrBbrsh"
      },
      "source": [
        "def set_resize_image_parameters(img_width, img_height):\n",
        "  \"\"\"\n",
        "  Set parameters for resizing input images.\n",
        "  param img_width, img_height:   image height and image with scalar values\n",
        "  return img_width, img_height:  resized image height and image with scalar values     \n",
        "  \"\"\"\n",
        "\n",
        "  if img_width > MAX_WIDTH:\n",
        "    img_width = MAX_WIDTH\n",
        "\n",
        "  if img_height > MAX_HEIGHT:\n",
        "    img_height = MAX_HEIGHT\n",
        "  \n",
        "  return img_height, img_width\n",
        "\n"
      ],
      "execution_count": 9,
      "outputs": []
    },
    {
      "cell_type": "code",
      "metadata": {
        "colab": {
          "base_uri": "https://localhost:8080/"
        },
        "id": "ION3btx9esdX",
        "outputId": "c9c216b8-5264-43fb-d4ef-7ca3ac09f98c"
      },
      "source": [
        "# set tensorflow dataset parameters\n",
        "# remove unneccessary files from source directory\n",
        "train_path, test_path, num_of_classes = train_test_split()\n",
        "img_width, img_height = get_min_img_size(train_path, test_path=test_path)\n",
        "img_width, img_height = set_resize_image_parameters(img_height, img_width)\n",
        "image_size = (img_width, img_height)\n",
        "print(image_size)"
      ],
      "execution_count": 10,
      "outputs": [
        {
          "output_type": "stream",
          "text": [
            "(100, 100)\n"
          ],
          "name": "stdout"
        }
      ]
    },
    {
      "cell_type": "code",
      "metadata": {
        "id": "H2V96MaJRkIt"
      },
      "source": [
        "def get_image_dataset(data_path, image_size, num_of_classes, subset = None):\n",
        "  \"\"\"\n",
        "  Create tensorflow dataset from data directory object.\n",
        "  param data_path:        string, source folder path\n",
        "  param image_size:       touple (image_with, image_height)\n",
        "  param subset:           optional, name of subset ('train', 'validation')\n",
        "  return dataset:         dict, tensorflow dataset and class names\n",
        "  \"\"\"\n",
        "\n",
        "  def input_preprocess(image, label):\n",
        "    label = tf.one_hot(label, num_of_classes)\n",
        "    return image, label\n",
        "    \n",
        "  if subset:\n",
        "    validation_split = VALIDATION_SPLIT\n",
        "    seed = SEED\n",
        "  \n",
        "  else:\n",
        "    validation_split = None\n",
        "    seed = None\n",
        "\n",
        "  dataset = tf.keras.preprocessing.image_dataset_from_directory(\n",
        "      data_path,\n",
        "      color_mode=COLOR_MODE,\n",
        "      image_size=image_size,\n",
        "      batch_size=BATCH_SIZE,\n",
        "      seed=seed,\n",
        "      validation_split=validation_split, \n",
        "      subset=subset\n",
        "    )\n",
        "    \n",
        "  dataset.class_names.sort()\n",
        "  class_names = dataset.class_names\n",
        "\n",
        "  dataset = dataset.map(\n",
        "    input_preprocess\n",
        "  )\n",
        "  \n",
        "    \n",
        "  return {\n",
        "      \"data\": dataset,\n",
        "      \"classNames\": class_names\n",
        "        }"
      ],
      "execution_count": 11,
      "outputs": []
    },
    {
      "cell_type": "code",
      "metadata": {
        "id": "GE9YzOR-LSdZ",
        "colab": {
          "base_uri": "https://localhost:8080/",
          "height": 229
        },
        "outputId": "0908115e-533a-4c5a-eab3-e6b40350a4e3"
      },
      "source": [
        "\n",
        "training_ds = get_image_dataset(\n",
        "    train_path,\n",
        "    image_size,\n",
        "    num_of_classes,\n",
        "    subset = \"training\"\n",
        ")\n",
        "\n",
        "validation_ds = get_image_dataset(\n",
        "    train_path,\n",
        "    image_size,\n",
        "    num_of_classes,\n",
        "    subset = \"validation\"\n",
        ")\n",
        "\n",
        "\n",
        "test_ds = get_image_dataset(\n",
        "    test_path,\n",
        "    image_size,\n",
        "    num_of_classes\n",
        ")\n"
      ],
      "execution_count": 12,
      "outputs": [
        {
          "output_type": "error",
          "ename": "NameError",
          "evalue": "ignored",
          "traceback": [
            "\u001b[0;31m---------------------------------------------------------------------------\u001b[0m",
            "\u001b[0;31mNameError\u001b[0m                                 Traceback (most recent call last)",
            "\u001b[0;32m<ipython-input-12-c222d3085120>\u001b[0m in \u001b[0;36m<module>\u001b[0;34m()\u001b[0m\n\u001b[1;32m      3\u001b[0m     \u001b[0mtrain_path\u001b[0m\u001b[0;34m,\u001b[0m\u001b[0;34m\u001b[0m\u001b[0;34m\u001b[0m\u001b[0m\n\u001b[1;32m      4\u001b[0m     \u001b[0mimage_size\u001b[0m\u001b[0;34m,\u001b[0m\u001b[0;34m\u001b[0m\u001b[0;34m\u001b[0m\u001b[0m\n\u001b[0;32m----> 5\u001b[0;31m     \u001b[0mlen\u001b[0m\u001b[0;34m(\u001b[0m\u001b[0mclass_names\u001b[0m\u001b[0;34m)\u001b[0m\u001b[0;34m,\u001b[0m\u001b[0;34m\u001b[0m\u001b[0;34m\u001b[0m\u001b[0m\n\u001b[0m\u001b[1;32m      6\u001b[0m     \u001b[0msubset\u001b[0m \u001b[0;34m=\u001b[0m \u001b[0;34m\"training\"\u001b[0m\u001b[0;34m\u001b[0m\u001b[0;34m\u001b[0m\u001b[0m\n\u001b[1;32m      7\u001b[0m )\n",
            "\u001b[0;31mNameError\u001b[0m: name 'class_names' is not defined"
          ]
        }
      ]
    },
    {
      "cell_type": "code",
      "metadata": {
        "id": "S3jMS-Co12sM"
      },
      "source": [
        "def check_data(training_ds, validation_ds, test_ds):\n",
        "\n",
        "  # check does training and validation datasets contains same classes\n",
        "  validation_check = training_ds[\"classNames\"] == validation_ds[\"classNames\"]\n",
        "  assert_fail_message = \"Training and Validation classes should match. \"\n",
        "  assert(validation_check), assert_fail_message\n",
        "\n",
        "  # check does training and test datasets contains same classes\n",
        "  test_check = training_ds[\"classNames\"] == test_ds[\"classNames\"]\n",
        "  assert_fail_message = \"Training and Test classes should match. \"\n",
        "  assert(test_check), assert_fail_message\n",
        "\n",
        "  class_names = training_ds[\"classNames\"]\n",
        "  number_classes = len(class_names)\n",
        "  print(training_ds[\"classNames\"])\n",
        "  print(validation_ds[\"classNames\"])\n",
        "  print(test_ds[\"classNames\"])\n",
        "\n",
        "  return class_names"
      ],
      "execution_count": 166,
      "outputs": []
    },
    {
      "cell_type": "code",
      "metadata": {
        "id": "akRe9TGnsM2i",
        "colab": {
          "base_uri": "https://localhost:8080/"
        },
        "outputId": "2a0f3525-48b7-49b4-9802-7673257a20b0"
      },
      "source": [
        "class_names = check_data(training_ds, validation_ds, test_ds)"
      ],
      "execution_count": 167,
      "outputs": [
        {
          "output_type": "stream",
          "text": [
            "['daisy', 'dandelion', 'roses', 'sunflowers', 'tulips']\n",
            "['daisy', 'dandelion', 'roses', 'sunflowers', 'tulips']\n",
            "['daisy', 'dandelion', 'roses', 'sunflowers', 'tulips']\n"
          ],
          "name": "stdout"
        }
      ]
    },
    {
      "cell_type": "code",
      "metadata": {
        "id": "drC96ZYX5C8P"
      },
      "source": [
        "def visualize_dataset(dataset):\n",
        "  \"\"\"\n",
        "  Visualize input images.\n",
        "  param dataset: tensorflow dataset objects\n",
        "  \"\"\"\n",
        "\n",
        "  image_shape = []\n",
        "  plt.figure(figsize=(10, 10))\n",
        "  \n",
        "  # take first batch (batch_size = num_of_images = num_of_labels)\n",
        "  # labels are label encoded\n",
        "  # images are unscaled (0 - 255) 4D tensors (batch_size, width, height, chanells)\n",
        "  for images, labels in dataset.take(1):\n",
        "    # take first 9 images and labels from first batch\n",
        "    for i in range(9):\n",
        "      ax = plt.subplot(3, 3, i + 1)\n",
        "      plt.imshow(images[i].numpy().astype(\"uint8\"))\n",
        "      plt.title(class_names[labels[i]])\n",
        "      plt.axis(\"off\")\n",
        "  \n",
        "  for image_batch, labels_batch in dataset.take(1):\n",
        "    image_shape = [image_batch.shape[1], image_batch.shape[1], \n",
        "                   image_batch.shape[2], image_batch.shape[3]]\n",
        "    print(\"Image batch shape is {}\".format(image_batch.shape))\n",
        "    print(\"Label batch shape is {}\".format(labels_batch.shape))\n",
        "    break\n",
        "  \n",
        "  return image_shape"
      ],
      "execution_count": 168,
      "outputs": []
    },
    {
      "cell_type": "code",
      "metadata": {
        "colab": {
          "base_uri": "https://localhost:8080/",
          "height": 498
        },
        "id": "D4k_GP_G67eJ",
        "outputId": "284c08b8-627d-446d-9f76-3be1af723988"
      },
      "source": [
        "image_shape = visualize_dataset(training_ds['data'])"
      ],
      "execution_count": 66,
      "outputs": [
        {
          "output_type": "error",
          "ename": "TypeError",
          "evalue": "ignored",
          "traceback": [
            "\u001b[0;31m---------------------------------------------------------------------------\u001b[0m",
            "\u001b[0;31mTypeError\u001b[0m                                 Traceback (most recent call last)",
            "\u001b[0;32m<ipython-input-66-19263f937c82>\u001b[0m in \u001b[0;36m<module>\u001b[0;34m()\u001b[0m\n\u001b[0;32m----> 1\u001b[0;31m \u001b[0mimage_shape\u001b[0m \u001b[0;34m=\u001b[0m \u001b[0mvisualize_dataset\u001b[0m\u001b[0;34m(\u001b[0m\u001b[0mtraining_ds\u001b[0m\u001b[0;34m[\u001b[0m\u001b[0;34m'data'\u001b[0m\u001b[0;34m]\u001b[0m\u001b[0;34m)\u001b[0m\u001b[0;34m\u001b[0m\u001b[0;34m\u001b[0m\u001b[0m\n\u001b[0m",
            "\u001b[0;32m<ipython-input-14-09180feda855>\u001b[0m in \u001b[0;36mvisualize_dataset\u001b[0;34m(dataset)\u001b[0m\n\u001b[1;32m     16\u001b[0m       \u001b[0max\u001b[0m \u001b[0;34m=\u001b[0m \u001b[0mplt\u001b[0m\u001b[0;34m.\u001b[0m\u001b[0msubplot\u001b[0m\u001b[0;34m(\u001b[0m\u001b[0;36m3\u001b[0m\u001b[0;34m,\u001b[0m \u001b[0;36m3\u001b[0m\u001b[0;34m,\u001b[0m \u001b[0mi\u001b[0m \u001b[0;34m+\u001b[0m \u001b[0;36m1\u001b[0m\u001b[0;34m)\u001b[0m\u001b[0;34m\u001b[0m\u001b[0;34m\u001b[0m\u001b[0m\n\u001b[1;32m     17\u001b[0m       \u001b[0mplt\u001b[0m\u001b[0;34m.\u001b[0m\u001b[0mimshow\u001b[0m\u001b[0;34m(\u001b[0m\u001b[0mimages\u001b[0m\u001b[0;34m[\u001b[0m\u001b[0mi\u001b[0m\u001b[0;34m]\u001b[0m\u001b[0;34m.\u001b[0m\u001b[0mnumpy\u001b[0m\u001b[0;34m(\u001b[0m\u001b[0;34m)\u001b[0m\u001b[0;34m.\u001b[0m\u001b[0mastype\u001b[0m\u001b[0;34m(\u001b[0m\u001b[0;34m\"uint8\"\u001b[0m\u001b[0;34m)\u001b[0m\u001b[0;34m)\u001b[0m\u001b[0;34m\u001b[0m\u001b[0;34m\u001b[0m\u001b[0m\n\u001b[0;32m---> 18\u001b[0;31m       \u001b[0mplt\u001b[0m\u001b[0;34m.\u001b[0m\u001b[0mtitle\u001b[0m\u001b[0;34m(\u001b[0m\u001b[0mclass_names\u001b[0m\u001b[0;34m[\u001b[0m\u001b[0mlabels\u001b[0m\u001b[0;34m[\u001b[0m\u001b[0mi\u001b[0m\u001b[0;34m]\u001b[0m\u001b[0;34m]\u001b[0m\u001b[0;34m)\u001b[0m\u001b[0;34m\u001b[0m\u001b[0;34m\u001b[0m\u001b[0m\n\u001b[0m\u001b[1;32m     19\u001b[0m       \u001b[0mplt\u001b[0m\u001b[0;34m.\u001b[0m\u001b[0maxis\u001b[0m\u001b[0;34m(\u001b[0m\u001b[0;34m\"off\"\u001b[0m\u001b[0;34m)\u001b[0m\u001b[0;34m\u001b[0m\u001b[0;34m\u001b[0m\u001b[0m\n\u001b[1;32m     20\u001b[0m \u001b[0;34m\u001b[0m\u001b[0m\n",
            "\u001b[0;32m/usr/local/lib/python3.7/dist-packages/tensorflow/python/framework/ops.py\u001b[0m in \u001b[0;36m__index__\u001b[0;34m(self)\u001b[0m\n\u001b[1;32m   1002\u001b[0m \u001b[0;34m\u001b[0m\u001b[0m\n\u001b[1;32m   1003\u001b[0m   \u001b[0;32mdef\u001b[0m \u001b[0m__index__\u001b[0m\u001b[0;34m(\u001b[0m\u001b[0mself\u001b[0m\u001b[0;34m)\u001b[0m\u001b[0;34m:\u001b[0m\u001b[0;34m\u001b[0m\u001b[0;34m\u001b[0m\u001b[0m\n\u001b[0;32m-> 1004\u001b[0;31m     \u001b[0;32mreturn\u001b[0m \u001b[0mself\u001b[0m\u001b[0;34m.\u001b[0m\u001b[0m_numpy\u001b[0m\u001b[0;34m(\u001b[0m\u001b[0;34m)\u001b[0m\u001b[0;34m.\u001b[0m\u001b[0m__index__\u001b[0m\u001b[0;34m(\u001b[0m\u001b[0;34m)\u001b[0m\u001b[0;34m\u001b[0m\u001b[0;34m\u001b[0m\u001b[0m\n\u001b[0m\u001b[1;32m   1005\u001b[0m \u001b[0;34m\u001b[0m\u001b[0m\n\u001b[1;32m   1006\u001b[0m   \u001b[0;32mdef\u001b[0m \u001b[0m__bool__\u001b[0m\u001b[0;34m(\u001b[0m\u001b[0mself\u001b[0m\u001b[0;34m)\u001b[0m\u001b[0;34m:\u001b[0m\u001b[0;34m\u001b[0m\u001b[0;34m\u001b[0m\u001b[0m\n",
            "\u001b[0;31mTypeError\u001b[0m: only integer scalar arrays can be converted to a scalar index"
          ]
        },
        {
          "output_type": "display_data",
          "data": {
            "image/png": "[encoded data removed]",
            "text/plain": [
              "<Figure size 720x720 with 1 Axes>"
            ]
          },
          "metadata": {
            "tags": [],
            "needs_background": "light"
          }
        }
      ]
    },
    {
      "cell_type": "code",
      "metadata": {
        "id": "Ur9BtvKK6_LN"
      },
      "source": [
        "def normalize_input_data(dataset):\n",
        "  \"\"\"\n",
        "  Rescale input dataset in range [0, 1].\n",
        "  param dataset: tensorflow dataset\n",
        "  return normalized_dataset: normalized input dataset\n",
        "  \"\"\"\n",
        "  normalization_layer = layers.experimental.preprocessing.Rescaling(1./255)\n",
        "  normalized_ds = dataset.map(lambda x, y: (normalization_layer(x), y))\n",
        "  return normalized_ds"
      ],
      "execution_count": 169,
      "outputs": []
    },
    {
      "cell_type": "code",
      "metadata": {
        "id": "rCFD6wLRp5Gl",
        "outputId": "40c5befc-591a-4f5f-a1ff-c6fec57c15eb",
        "colab": {
          "base_uri": "https://localhost:8080/",
          "height": 229
        }
      },
      "source": [
        "#train_dataset = normalize_input_data(training_ds['data'])\n",
        "val_dataset = normalize_input_data(validation_ds['data'])\n",
        "val_dataset = dataset.batch(batch_size=BATCH_SIZE, drop_remainder=True)\n",
        "\n",
        "test_dataset = normalize_input_data(test_ds['data'])\n",
        "test_dataset = dataset.batch(batch_size=BATCH_SIZE, drop_remainder=True)\n",
        "\n",
        "train_dataset = normalize_input_data(training_ds['data'])\n",
        "train_dataset = dataset.batch(batch_size=BATCH_SIZE, drop_remainder=True)\n",
        "\n",
        "#dataset = dataset.batch(batch_size=BATCH_SIZE, drop_remainder=True)\n",
        "#dataset = dataset.prefetch(tf.data.experimental.AUTOTUNE)"
      ],
      "execution_count": 178,
      "outputs": [
        {
          "output_type": "error",
          "ename": "NameError",
          "evalue": "ignored",
          "traceback": [
            "\u001b[0;31m---------------------------------------------------------------------------\u001b[0m",
            "\u001b[0;31mNameError\u001b[0m                                 Traceback (most recent call last)",
            "\u001b[0;32m<ipython-input-178-c722d8c82e7a>\u001b[0m in \u001b[0;36m<module>\u001b[0;34m()\u001b[0m\n\u001b[1;32m      1\u001b[0m \u001b[0;31m#train_dataset = normalize_input_data(training_ds['data'])\u001b[0m\u001b[0;34m\u001b[0m\u001b[0;34m\u001b[0m\u001b[0;34m\u001b[0m\u001b[0m\n\u001b[1;32m      2\u001b[0m \u001b[0mval_dataset\u001b[0m \u001b[0;34m=\u001b[0m \u001b[0mnormalize_input_data\u001b[0m\u001b[0;34m(\u001b[0m\u001b[0mvalidation_ds\u001b[0m\u001b[0;34m[\u001b[0m\u001b[0;34m'data'\u001b[0m\u001b[0;34m]\u001b[0m\u001b[0;34m)\u001b[0m\u001b[0;34m\u001b[0m\u001b[0;34m\u001b[0m\u001b[0m\n\u001b[0;32m----> 3\u001b[0;31m \u001b[0mval_dataset\u001b[0m \u001b[0;34m=\u001b[0m \u001b[0mdataset\u001b[0m\u001b[0;34m.\u001b[0m\u001b[0mbatch\u001b[0m\u001b[0;34m(\u001b[0m\u001b[0mbatch_size\u001b[0m\u001b[0;34m=\u001b[0m\u001b[0mBATCH_SIZE\u001b[0m\u001b[0;34m,\u001b[0m \u001b[0mdrop_remainder\u001b[0m\u001b[0;34m=\u001b[0m\u001b[0;32mTrue\u001b[0m\u001b[0;34m)\u001b[0m\u001b[0;34m\u001b[0m\u001b[0;34m\u001b[0m\u001b[0m\n\u001b[0m\u001b[1;32m      4\u001b[0m \u001b[0;34m\u001b[0m\u001b[0m\n\u001b[1;32m      5\u001b[0m \u001b[0mtest_dataset\u001b[0m \u001b[0;34m=\u001b[0m \u001b[0mnormalize_input_data\u001b[0m\u001b[0;34m(\u001b[0m\u001b[0mtest_ds\u001b[0m\u001b[0;34m[\u001b[0m\u001b[0;34m'data'\u001b[0m\u001b[0;34m]\u001b[0m\u001b[0;34m)\u001b[0m\u001b[0;34m\u001b[0m\u001b[0;34m\u001b[0m\u001b[0m\n",
            "\u001b[0;31mNameError\u001b[0m: name 'dataset' is not defined"
          ]
        }
      ]
    },
    {
      "cell_type": "code",
      "metadata": {
        "id": "W3p0CpvswvWA"
      },
      "source": [
        "def create_model(hp):\n",
        "  \"\"\"\n",
        "  Create and compile model. Use keras functional API.\n",
        "  param image_shape: list of one image input shape parameters\n",
        "  \"\"\"\n",
        "\n",
        "  # define hyper-parameters for tuning\n",
        "  hp_units = hp.Int('hp_units', min_value=128, max_value=256, step=32)\n",
        "\n",
        "  inputs = keras.Input(shape=(image_shape[2], image_shape[1], image_shape[3]), \n",
        "                      name=\"input_img\")\n",
        "  \n",
        "  #x = layers.experimental.preprocessing.Rescaling(1./255, input_shape=(img_height, img_width, 3)),\n",
        "  \n",
        "  x = layers.Conv2D(32, 3, activation=\"relu\")(inputs)\n",
        "  x = layers.Conv2D(64, 3, activation=\"relu\")(x)\n",
        "  block_1_output = layers.MaxPooling2D()(x)\n",
        "\n",
        "  x = layers.Conv2D(64, 3, activation=\"relu\", padding=\"same\")(block_1_output)\n",
        "  x = layers.Conv2D(64, 3, activation=\"relu\", padding=\"same\")(x)\n",
        "  block_2_output = layers.add([x, block_1_output])\n",
        "  normalized_1 = layers.BatchNormalization()(block_2_output)\n",
        "\n",
        "  x = layers.Conv2D(64, 3, activation=\"relu\", padding=\"same\")(normalized_1)\n",
        "  x = layers.Conv2D(64, 3, activation=\"relu\", padding=\"same\")(x)\n",
        "  block_3_output = layers.add([x, normalized_1])\n",
        "  normalized_2 = layers.BatchNormalization()(block_3_output)\n",
        "\n",
        "  x = layers.Conv2D(128, 3, activation=\"relu\")(normalized_2)\n",
        "  x = layers.MaxPooling2D()(x)\n",
        "\n",
        "  x = layers.Flatten()(x)\n",
        "\n",
        "  x = layers.Dense(units=hp_units, activation=\"relu\")(x)\n",
        "  x = layers.Dropout(rate=hp.Float(\n",
        "                    'dropout_1',\n",
        "                    min_value=0.1,\n",
        "                    max_value=0.5,\n",
        "                    default=0.25,\n",
        "                    step=0.1,\n",
        "                    ))(x)\n",
        "  # activation='softmax',\n",
        "  outputs = layers.Dense(num_of_classes,\n",
        "                         kernel_regularizer=tf.keras.regularizers.L2(1e-4),\n",
        "                         bias_regularizer=tf.keras.regularizers.L2(1e-4))(x)\n",
        "\n",
        "  model = keras.Model(inputs, outputs, name=\"image_classifier\")\n",
        "\n",
        "  hp_learning_rate = hp.Choice('learning_rate', values=[1e-2, 1e-3, 1e-4])\n",
        "  \n",
        "  model.compile(optimizer=keras.optimizers.Adam(learning_rate=hp_learning_rate),\n",
        "              loss=tf.keras.losses.CategoricalCrossentropy(from_logits=True),\n",
        "              metrics=[auc_score])\n",
        "\n",
        "  return model"
      ],
      "execution_count": 201,
      "outputs": []
    },
    {
      "cell_type": "code",
      "metadata": {
        "id": "RpXMzXrgxfos"
      },
      "source": [
        "def set_hyperparameter_optimizer(strategy):\n",
        "  \"\"\"\n",
        "  Set hyperparameter optimizer.\n",
        "  \"\"\"\n",
        "  #objective=kt.Objective(\"auc_score\", direction=\"min\"),\n",
        "  tuner = kt.Hyperband(\n",
        "        hypermodel=create_model,\n",
        "        objective='val_auc_score',\n",
        "        max_epochs=8,\n",
        "        factor=2,\n",
        "        hyperband_iterations=3,\n",
        "        distribution_strategy=strategy,\n",
        "        directory='results_dir',\n",
        "        project_name='image_classification')\n",
        "\n",
        "  return tuner\n"
      ],
      "execution_count": 207,
      "outputs": []
    },
    {
      "cell_type": "code",
      "metadata": {
        "id": "JlUI3A_bxgAt",
        "outputId": "9bd70869-d80f-41b8-dcde-55faaabfed13",
        "colab": {
          "base_uri": "https://localhost:8080/"
        }
      },
      "source": [
        "num_of_classes = len(class_names)\n",
        "auc_score = tf.keras.metrics.AUC(from_logits=True, multi_label=True,\n",
        "              num_labels=num_of_classes, name='auc_score')\n",
        "tuner = set_hyperparameter_optimizer(strategy)"
      ],
      "execution_count": 208,
      "outputs": [
        {
          "output_type": "stream",
          "text": [
            "INFO:tensorflow:Reloading Oracle from existing project results_dir/image_classification/oracle.json\n"
          ],
          "name": "stdout"
        }
      ]
    },
    {
      "cell_type": "code",
      "metadata": {
        "id": "Zz2XjOCZu9WK",
        "outputId": "bb253a24-7672-4988-9c96-821801185cd9",
        "colab": {
          "base_uri": "https://localhost:8080/"
        }
      },
      "source": [
        "print(num_of_classes)"
      ],
      "execution_count": 209,
      "outputs": [
        {
          "output_type": "stream",
          "text": [
            "5\n"
          ],
          "name": "stdout"
        }
      ]
    },
    {
      "cell_type": "code",
      "metadata": {
        "id": "SxyL3LhD_5eO"
      },
      "source": [
        "# define early stop callback to prevent overfitting\n",
        "stop_early = tf.keras.callbacks.EarlyStopping(monitor='val_auc_score', patience=10)"
      ],
      "execution_count": 210,
      "outputs": []
    },
    {
      "cell_type": "code",
      "metadata": {
        "id": "guC9Ff9TeM_C",
        "outputId": "f08db78b-8dc7-4c79-82d4-e9ca6df2b087",
        "colab": {
          "base_uri": "https://localhost:8080/"
        }
      },
      "source": [
        "tuner.search(train_dataset,\n",
        "             validation_data=val_dataset,\n",
        "             epochs=10,\n",
        "             callbacks=[stop_early])\n",
        "\n",
        "# get optimal hyperparameters\n",
        "best_hps = tuner.get_best_hyperparameters(num_trials=1)[0]"
      ],
      "execution_count": 211,
      "outputs": [
        {
          "output_type": "stream",
          "text": [
            "Trial 108 Complete [00h 01m 18s]\n",
            "val_accuracy: 0.2367972731590271\n",
            "\n",
            "Best val_accuracy So Far: 0.6132879257202148\n",
            "Total elapsed time: 00h 51m 11s\n",
            "INFO:tensorflow:Oracle triggered exit\n"
          ],
          "name": "stdout"
        }
      ]
    },
    {
      "cell_type": "code",
      "metadata": {
        "id": "L__pm1LUoceo",
        "outputId": "7033b805-f2dc-4725-a4fa-d801e48248c0",
        "colab": {
          "base_uri": "https://localhost:8080/"
        }
      },
      "source": [
        "val_dataset"
      ],
      "execution_count": 187,
      "outputs": [
        {
          "output_type": "execute_result",
          "data": {
            "text/plain": [
              "<MapDataset shapes: ((None, 100, 100, 3), (None, 5)), types: (tf.float32, tf.float32)>"
            ]
          },
          "metadata": {
            "tags": []
          },
          "execution_count": 187
        }
      ]
    },
    {
      "cell_type": "code",
      "metadata": {
        "id": "jigF32tP_FRm"
      },
      "source": [
        ""
      ],
      "execution_count": null,
      "outputs": []
    }
  ]
}