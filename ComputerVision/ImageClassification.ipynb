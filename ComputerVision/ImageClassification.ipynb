{
  "nbformat": 4,
  "nbformat_minor": 0,
  "metadata": {
    "colab": {
      "name": "ImageClassification.ipynb",
      "provenance": [],
      "authorship_tag": "ABX9TyPO3LLeYGolddHpxXlp5yQU",
      "include_colab_link": true
    },
    "kernelspec": {
      "name": "python3",
      "display_name": "Python 3"
    },
    "language_info": {
      "name": "python"
    },
    "accelerator": "GPU"
  },
  "cells": [
    {
      "cell_type": "markdown",
      "metadata": {
        "id": "view-in-github",
        "colab_type": "text"
      },
      "source": [
        "<a href=\"https://colab.research.google.com/github/mateopolancecofficial/DeepLearningProjects/blob/main/ComputerVision/ImageClassification.ipynb\" target=\"_parent\"><img src=\"https://colab.research.google.com/assets/colab-badge.svg\" alt=\"Open In Colab\"/></a>"
      ]
    },
    {
      "cell_type": "code",
      "metadata": {
        "id": "6V7z6qIHEZrY"
      },
      "source": [
        "# set installation txt file with all relevant packages\n",
        "import matplotlib.pyplot as plt\n",
        "import numpy as np\n",
        "import os\n",
        "import PIL\n",
        "import PIL.Image\n",
        "import pathlib\n",
        "import shutil\n",
        "import random\n",
        "import imghdr\n",
        "\n",
        "import tensorflow as tf\n",
        "import tensorflow_datasets as tfds\n",
        "from tensorflow import keras\n",
        "from tensorflow.keras import layers\n",
        "from tensorflow.keras.models import Sequential"
      ],
      "execution_count": 88,
      "outputs": []
    },
    {
      "cell_type": "code",
      "metadata": {
        "colab": {
          "base_uri": "https://localhost:8080/"
        },
        "id": "e7Rfe6s1Mnty",
        "outputId": "c5f171b2-4ac5-43a4-b587-505740a7b176"
      },
      "source": [
        "tf.debugging.set_log_device_placement(True)\n",
        "\n",
        "if tf.config.list_physical_devices('GPU'):\n",
        "  if len(tf.config.list_physical_devices('GPU')) > 1:\n",
        "    strategy = tf.distribute.MirroredStrategy()\n",
        "    print(\"Num GPUs Available: \", len(tf.config.list_physical_devices('GPU')))\n",
        "  else:\n",
        "    print(\"Num GPUs Available: \", len(tf.config.list_physical_devices('GPU')))"
      ],
      "execution_count": 76,
      "outputs": [
        {
          "output_type": "stream",
          "text": [
            "Num GPUs Available:  1\n"
          ],
          "name": "stdout"
        }
      ]
    },
    {
      "cell_type": "code",
      "metadata": {
        "colab": {
          "base_uri": "https://localhost:8080/"
        },
        "id": "TzkCfDG9Qi1Q",
        "outputId": "c959a7db-0523-4a12-acb8-e07e191a26f9"
      },
      "source": [
        "# download images folder\n",
        "#!wget https://storage.googleapis.com/download.tensorflow.org/example_images/flower_photos.tgz\n",
        "#from shutil import unpack_archive\n",
        "#unpack_archive('/content/flower_photos.tgz', '/content/')"
      ],
      "execution_count": 7,
      "outputs": [
        {
          "output_type": "stream",
          "text": [
            "--2021-06-11 20:41:40--  https://storage.googleapis.com/download.tensorflow.org/example_images/flower_photos.tgz\n",
            "Resolving storage.googleapis.com (storage.googleapis.com)... 74.125.20.128, 108.177.98.128, 74.125.195.128, ...\n",
            "Connecting to storage.googleapis.com (storage.googleapis.com)|74.125.20.128|:443... connected.\n",
            "HTTP request sent, awaiting response... 200 OK\n",
            "Length: 228813984 (218M) [application/x-compressed-tar]\n",
            "Saving to: ‘flower_photos.tgz’\n",
            "\n",
            "flower_photos.tgz   100%[===================>] 218.21M   191MB/s    in 1.1s    \n",
            "\n",
            "2021-06-11 20:41:42 (191 MB/s) - ‘flower_photos.tgz’ saved [228813984/228813984]\n",
            "\n"
          ],
          "name": "stdout"
        }
      ]
    },
    {
      "cell_type": "code",
      "metadata": {
        "colab": {
          "base_uri": "https://localhost:8080/"
        },
        "id": "JN4UgX-jE94e",
        "outputId": "6b734341-99a2-4763-acb1-f4575c397778"
      },
      "source": [
        "# load data parameters\n",
        "\n",
        "MAX_WIDTH, MAX_HEIGHT = 100, 100\n",
        "origin = os.path.dirname(os.path.abspath(\"ImageClassification.ipynb\"))\n",
        "print(origin)\n",
        "train_path = 'flower_photos'\n",
        "#test_path = ''\n",
        "untar = False\n",
        "color_mode = \"rgb\"\n",
        "train_source_folder_path = os.path.join(origin, train_path)\n",
        "#test_source_folder_path = os.path.join(origin, test_path)\n",
        "print(source_folder_path)\n",
        "\n",
        "batch_size = 32\n",
        "test_split = 0.2\n",
        "validation_split = 0.2\n",
        "seed = 100\n",
        "\n",
        "image_extesions = ['png', 'jpg', 'jpeg', 'tiff', 'bmp', 'gif']\n"
      ],
      "execution_count": 113,
      "outputs": [
        {
          "output_type": "stream",
          "text": [
            "/content\n",
            "/content/flower_photos\n"
          ],
          "name": "stdout"
        }
      ]
    },
    {
      "cell_type": "code",
      "metadata": {
        "id": "1gzuPdcrSCn1"
      },
      "source": [
        "# check file types from all directories\n"
      ],
      "execution_count": 114,
      "outputs": []
    },
    {
      "cell_type": "code",
      "metadata": {
        "id": "cGefBXnuLNeo"
      },
      "source": [
        "# split dataset on test and train if is not currently\n",
        "\n",
        "def train_test_split(origin, train_path, test_split):\n",
        "\n",
        "  train_path = os.path.join(origin, train_path)\n",
        "  test_path = \"test_data\"\n",
        "  test_path = os.path.join(origin, test_path)\n",
        "\n",
        "  if os.path.exists(test_path):\n",
        "    shutil.rmtree(test_path)\n",
        "  os.mkdir(test_path)\n",
        "\n",
        "  for dir in os.listdir(train_path):\n",
        "    files = os.listdir(os.path.join(train_path, dir))\n",
        "    if len(files) > 0:\n",
        "      if not os.path.exists(os.path.join(test_path, dir)):\n",
        "        os.mkdir(os.path.join(test_path, dir))\n",
        "      test_num = len(files) * test_split\n",
        "      print(test_num)\n",
        "      indicies = random.sample(range(len(files)), round(test_num))\n",
        "      test_files_names = [files[i] for i in indicies]\n",
        "      # move file from train dataset to test dataset\n",
        "      for f in test_files_names:\n",
        "        image_type = imghdr.what(os.path.join(os.path.join(train_path, dir), f))\n",
        "        #print(image_type)\n",
        "        if image_type in image_extesions:\n",
        "          os.replace(os.path.join(os.path.join(train_path, dir), f), \n",
        "                     os.path.join(os.path.join(test_path, dir), f))\n"
      ],
      "execution_count": 118,
      "outputs": []
    },
    {
      "cell_type": "code",
      "metadata": {
        "colab": {
          "base_uri": "https://localhost:8080/"
        },
        "id": "U-h1z_HFXsQU",
        "outputId": "914dcc13-e3f8-4ad8-b5c5-4e2b0a089c73"
      },
      "source": [
        "train_test_split(origin, train_path, test_split)"
      ],
      "execution_count": 119,
      "outputs": [
        {
          "output_type": "stream",
          "text": [
            "139.8\n",
            "159.8\n",
            "126.60000000000001\n",
            "128.20000000000002\n",
            "179.60000000000002\n"
          ],
          "name": "stdout"
        }
      ]
    },
    {
      "cell_type": "code",
      "metadata": {
        "id": "s0072p5n6U8s"
      },
      "source": [
        "def get_min_img_size(source_folder_path):\n",
        "  \"\"\"\n",
        "  Check if all images are of the same size and get min image width and min image\n",
        "  height.\n",
        "  param source_folder_path:      path of a source folder\n",
        "  return img_width, img_height:  min image width and height scalar values\n",
        "  \"\"\"\n",
        "\n",
        "  img_width, img_height = None, None\n",
        "  dirs = os.listdir(source_folder_path)\n",
        "\n",
        "  for dir in dirs:\n",
        "    files = os.listdir(source_folder_path + \"/\" + dir)\n",
        "    for f in files:\n",
        "      image_path = source_folder_path + \"/\" + dir + \"/\" + f\n",
        "      image = tf.keras.preprocessing.image.load_img(image_path)\n",
        "      image = keras.preprocessing.image.img_to_array(image)\n",
        "      if img_width == None:\n",
        "        img_width, img_height = image.shape[0], image.shape[1]\n",
        "      else:\n",
        "        if image.shape[0] < img_width:\n",
        "          img_width = image.shape[0]\n",
        "        if image.shape[1] < img_height:\n",
        "          img_height = image.shape[1]\n",
        "  \n",
        "  return img_width, img_height"
      ],
      "execution_count": 63,
      "outputs": []
    },
    {
      "cell_type": "code",
      "metadata": {
        "id": "auBaRSrBbrsh"
      },
      "source": [
        "def set_resize_image_parameters(img_width, img_height):\n",
        "  \"\"\"\n",
        "  Set parameters for resizing input images.\n",
        "  param img_width, img_height:   image height and image with scalar values\n",
        "  return img_width, img_height:  resized image height and image with scalar values     \n",
        "  \"\"\"\n",
        "\n",
        "  if img_width > MAX_WIDTH:\n",
        "    img_width = MAX_WIDTH\n",
        "\n",
        "  if img_height > MAX_HEIGHT:\n",
        "    img_height = MAX_HEIGHT\n",
        "  \n",
        "  return img_height, img_width\n",
        "\n"
      ],
      "execution_count": 64,
      "outputs": []
    },
    {
      "cell_type": "code",
      "metadata": {
        "colab": {
          "base_uri": "https://localhost:8080/",
          "height": 407
        },
        "id": "ION3btx9esdX",
        "outputId": "9329e704-c92b-48dc-8325-c1045032fa58"
      },
      "source": [
        "# set tensorflow dataset parameters\n",
        "# remove unneccessary files from source directory\n",
        "train_test_split(origin, train_path, test_split)\n",
        "#img_width, img_height = get_min_img_size(train_source_folder_path)\n",
        "#img_width, img_height = set_resize_image_parameters(img_height, img_width)\n",
        "#image_size = (img_width, img_height)"
      ],
      "execution_count": 90,
      "outputs": [
        {
          "output_type": "stream",
          "text": [
            "['5955475577_3d923874d9_n.jpg', '15054750690_198b6ab0f2_n.jpg', '6606813305_c992231d29_m.jpg', '2949654221_909b0c86a1_n.jpg', '3912497870_a2f91c3a65_n.jpg', '1008566138_6927679c8a.jpg', '26254755_1bfc494ef1_n.jpg', '58636535_bc53ef0a21_m.jpg', '2706304885_4916102704_n.jpg', '45045005_57354ee844.jpg', '14925398301_55a180f919_n.jpg', '4623843480_23e3fb8dcc_n.jpg', '3568925290_faf7aec3a0.jpg', '15054865768_2cc87ac9d4_m.jpg', '23894449029_bf0f34d35d_n.jpg', '27465811_9477c9d044.jpg', '21821266773_7113d34c35_m.jpg', '4341530649_c17bbc5d01.jpg', '877083343_e3338c4125.jpg', '20258015499_93b9951800_m.jpg', '15054753070_4f6ae0e763_m.jpg', '21374127408_5ffbe87bb2.jpg', '8563099326_8be9177101.jpg', '20406385204_469f6749e2_n.jpg', '15030133005_9728102622_z.jpg', '4933821940_38064522a8.jpg', '6116210027_61923f4b64.jpg', '14889779907_3d401bbac7_m.jpg', '2598973480_07de93e91d_n.jpg', '20344366953_44fb51051b.jpg', '15495578821_92c6d14252_n.jpg', '200557981_f800fa1af9.jpg', '8014734302_65c6e83bb4_m.jpg', '5556633113_0a04f5ed8a_n.jpg', '2894191705_a1d2d80c80.jpg', '7820398908_4316bbba45.jpg', '8071460469_a7c2c34b97_n.jpg', '20342824594_9740b7b160.jpg', '15683877266_42e0fe3782_n.jpg', '22429146402_332fa2fc72_m.jpg', '5970301989_fe3a68aac8_m.jpg', '20171662239_f69b6c12bd_n.jpg', '20965412955_2c640b13bd.jpg', '20667988875_6e73ac2879_n.jpg', '4847062576_bae870479c_n.jpg', '9427945592_07a2676945_n.jpg', '14144522269_bc20029375_m.jpg', '4980406384_791774d953.jpg', '35477171_13cb52115c_n.jpg', '8038712786_5bdeed3c7f_m.jpg', '7012366081_019c8a17a4_m.jpg', '4664737020_b4c61aacd3_n.jpg', '12471290635_1f9e3aae16_n.jpg', '8021568040_f891223c44_n.jpg', '16975010069_7afd290657_m.jpg', '20183028616_beb937e75c_m.jpg', '10386525695_2c38fea555_n.jpg', '4895720722_8247f2015b_n.jpg', '6145005439_ef6e07f9c6_n.jpg', '5139969631_743880e01d_n.jpg', '4977385375_e271e282f9.jpg', '4673984698_6ec14d5b79.jpg', '5994569021_749d5e2da3_n.jpg', '6166888942_7058198713_m.jpg', '6495554833_86eb8faa8e_n.jpg', '15118397087_bfb7ea70d5_n.jpg', '6606806621_5267acdd38.jpg', '4895718876_0246882882_n.jpg', '2307673262_e1e1aefd29.jpg', '3858508462_db2b9692d1.jpg', '14889392928_9742aed45b_m.jpg', '3784815653_5df39aa9c2_m.jpg', '5957007921_62333981d2_n.jpg', '4932735362_6e1017140f.jpg', '9538283930_0faea083bb_n.jpg', '9246304620_768d1f54d7_n.jpg', '9484354480_07ff2ef0a6.jpg', '14741813110_94964c39e2_n.jpg', '3832945398_96509d192b.jpg', '9558627290_353a14ba0b_m.jpg', '14741907467_fab96f3b2b_n.jpg', '18972803569_1a0634f398_m.jpg', '5032376020_2ed312306c.jpg', '3734999477_7f454081aa_n.jpg', '15054864508_0334b892be_m.jpg', '2816503473_580306e772.jpg', '7652532108_01ef94c476.jpg', '151898652_b5f1c70b98_n.jpg', '9302733302_2cb92cf275.jpg', '19915160340_ec904edbdf_n.jpg', '7176729812_7c053921fb_m.jpg', '15241431045_65201cf15a_n.jpg', '22183521655_56221bf2a4_n.jpg', '9681915384_b3b646dc92_m.jpg', '6908789145_814d448bb1_n.jpg', '310380634_60e6c79989.jpg', '13354458753_7b586f7c95_n.jpg', '3798841385_38142ea3c6_n.jpg', '5139977283_530c508603_n.jpg', '14460075029_5cd715bb72_m.jpg', '265422922_bbbde781d2_m.jpg', '2803725948_5fd1f2fc99_n.jpg', '1267876087_a1b3c63dc9.jpg', '9461693602_710f20904f.jpg', '3001533700_1c62fb8b4a_n.jpg', '10386522775_4f8c616999_m.jpg', '15108515192_f686dce398_n.jpg', '5830614551_e460a1215c.jpg', '9410186154_465642ed35.jpg', '5223643767_d8beb7e410.jpg', '2823659190_afdabee45c.jpg', '1022552002_2b93faf9e7_n.jpg', '9384867134_83af458a19_n.jpg', '15240466871_ec45b65554_m.jpg', '5955501969_e42f038a6f_n.jpg', '7530313068_ddd2dc1f44_m.jpg', '2328600790_90e2942557_n.jpg', '14741813010_5d44e33088_n.jpg', '18250039435_7654bc11be_n.jpg', '15081164641_45a7b92b3a_m.jpg', '9213511121_836a458021_m.jpg', '1240624822_4111dde542.jpg', '6606820461_952c450f90_n.jpg', '7820305664_82148f3bfb_n.jpg', '14623720226_aeeac66e0a_n.jpg', '9448615838_04078d09bf_n.jpg', '8174935717_d19367d502.jpg', '21984860006_20dfacea1c_m.jpg', '8929288228_6795bcb1fe.jpg', '4746638094_f5336788a0_n.jpg', '14698136411_23bdcff7bf_n.jpg', '2927020075_54c9186797_n.jpg', '9497774935_a7daec5433_n.jpg', '14646282112_447cc7d1f9.jpg', '15973657966_d6f6005539_n.jpg', '29972905_4cc537ff4b_n.jpg', '22686342422_c0b9e2f38e.jpg', '23286304156_3635f7de05.jpg', '4745980581_a0b7585258_n.jpg', '19710076021_f5bb162540.jpg', '8705462313_4458d64cd4.jpg', '7176736574_14446539cb_n.jpg', '6061177447_d8ce96aee0.jpg', '6140661443_bb48344226.jpg', '2960610406_b61930727f_n.jpg', '6482016425_d8fab362f6.jpg', '15122871130_6a7d0b4372_n.jpg', '265450085_6e9f276e2e.jpg', '17433282043_441b0a07f4_n.jpg', '2996573407_5e473b9359.jpg', '127192624_afa3d9cb84.jpg', '5357144886_b78f4782eb.jpg', '5037790727_57c527494f.jpg', '6199086734_b7ddc65816_m.jpg', '4745991955_6804568ae0_n.jpg', '7176723954_e41618edc1_n.jpg', '7369484298_332f69bd88_n.jpg', '14928117202_139d2142cc_n.jpg', '1788133737_b1133d1aa7.jpg', '4942258704_c4146b710a_n.jpg', '5923649444_a823e534e9.jpg', '16616096711_12375a0260_n.jpg', '164668737_aeab0cb55e_n.jpg', '4933228903_9ae82d0b9d.jpg', '3815322974_52c12dbde3.jpg', '15054864058_2edca122a9_n.jpg', '5927432662_3ffd2461c2_n.jpg', '22429946721_e17a12cb39_n.jpg', '16967372357_15b1b9a812_n.jpg', '4933230991_d50c0f7c66.jpg', '22183529245_ce13557515_m.jpg', '4933823922_911ac40b0d.jpg', '3154932290_4bf43bd34f_n.jpg', '9610371852_179e7781ce.jpg', '2733109082_1351f6738a_n.jpg', '8041242566_752def876e_n.jpg', '15054752730_fcf54d475e_m.jpg', '23356825566_f5885875f2.jpg', '9555827829_74e6f60f1d_m.jpg', '5994586159_1dd99d66b4_n.jpg', '4933229197_ff75a40d55.jpg', '6140808687_88df0fd733.jpg', '15460162172_014bcce403.jpg', '6250692311_cb60c85ee9_n.jpg', '5967283168_90dd4daf28_n.jpg', '6495559397_61d01c0c57.jpg', '5027895361_ace3b731e5_n.jpg', '7791014076_07a897cb85_n.jpg', '4933230161_12f3ee7587.jpg', '20905163782_312e2c3bda_n.jpg', '3893436870_034b79d118_n.jpg', '12282924083_fb80aa17d4_n.jpg', '9240005603_6a9b71dcea_n.jpg', '4821232343_7e0bcfbfdf_n.jpg', '4398771472_44f2a0c162_n.jpg', '184682506_8a9b8c662d.jpg', '8249000137_eddfffa380_n.jpg', '9481563239_01b585b41d_n.jpg', '3731075939_6c92d7fe68_m.jpg', '164671753_ab36d9cbb7_n.jpg', '9511172241_8aee411e2e.jpg', '5139977579_ea2dd6a322_m.jpg', '19359539074_d7e32e6616_n.jpg', '12471441503_d188b5f31a_m.jpg', '1043442695_4556c4c13d_n.jpg', '969913643_9d5cd2fe45_m.jpg', '2950505226_529e013bf7_m.jpg', '4989952542_35f2cdd5e2_n.jpg', '6074427492_1b5bab7848_n.jpg', '9485002920_59af6f4cac.jpg', '16832961488_5f7e70eb5e_n.jpg', '7728953426_abd179ab63.jpg', '20410533613_56da1cce7c.jpg', '18828283553_e46504ae38.jpg', '4664767140_fe01231322_n.jpg', '6606741847_f0198d83ff.jpg', '8368015811_2893411cf7_n.jpg', '4414083164_3f285f8ac5.jpg', '14901528533_ac1ce09063.jpg', '4933229479_c1708bd503.jpg', '7820626738_3be6a52e4e_n.jpg', '15472217046_2699b25584.jpg', '200557979_a16112aac1_n.jpg', '8481979626_98c9f88848_n.jpg', '6198569425_e953b9e6cc_m.jpg', '1297092593_e573c0a3d6.jpg', '1484598527_579a272f53.jpg', '3466923719_b4b6df7f8b_n.jpg', '8174970894_7f9a26be7e.jpg', '19349582128_68a662075e_n.jpg', '864957037_c75373d1c5.jpg', '5923085891_27617463fe.jpg', '15122112402_cafa41934f.jpg', '4895124535_11a2bb704c_m.jpg', '3846717708_ea11383ed8.jpg', '6958724008_12259943a7.jpg', '8081530919_c882d46bb0_n.jpg', '20481273479_d459834a3e_n.jpg', '5923085671_f81dd1cf6f.jpg', '14925397761_46ecfa24e0.jpg', '857698097_8068a2c135_n.jpg', '8929274876_17efc1774a_n.jpg', '164672339_f2b5b164f6.jpg', '2940221732_3507f3e927_n.jpg', '3311874685_7b9ef10f7e_m.jpg', '9783416751_b2a03920f7_n.jpg', '5966729883_67f4fede93.jpg', '3681233294_4f06cd8903.jpg', '9375675309_987d32f99e_n.jpg', '21796333524_38fc8e0ab5_n.jpg', '8265023280_713f2c69d0_m.jpg', '9240129413_f240ce7866_n.jpg', '3951246342_930138610b_n.jpg', '5917253022_4e3142d48b_n.jpg', '4933229095_f7e4218b28.jpg', '20156280765_a6baea3176.jpg', '6482016439_b0d06dac04.jpg', '6061175433_95fdb12f32_n.jpg', '9655029591_7a77f87500.jpg', '9588522189_db6166f67f.jpg', '7012364067_5ffc7654c9_m.jpg', '4745985619_249078cafa_n.jpg', '4895719476_bd3b6bd6fd_n.jpg', '14244273988_a7484f18b7_m.jpg', '3749090865_b90f28a585_n.jpg', '4933229889_c5d9e36392.jpg', '8174972548_0051c2d431.jpg', '4933230247_a0432f01da.jpg', '4933822272_79af205b94.jpg', '8928614683_6c168edcfc.jpg', '3683873444_be4a609c46.jpg', '4932143849_018486cbf7.jpg', '20658775992_1619cd0a9b_n.jpg', '4890268276_563f40a193.jpg', '8543642705_b841b0e5f6.jpg', '6125761554_4e72819ce4_m.jpg', '15218421476_9d5f38e732_m.jpg', '22405887122_75eda1872f_m.jpg', '40411100_7fbe10ec0f_n.jpg', '164670176_9f5b9c7965.jpg', '50987813_7484bfbcdf.jpg', '8480886751_71d88bfdc0_n.jpg', '24459750_eb49f6e4cb_m.jpg', '3001531316_efae24d37d_n.jpg', '23645265812_24352ff6bf.jpg', '22419079265_8902cddb7d_n.jpg', '20753711039_0b11d24b50_n.jpg', '2767688889_b176b0c3fb.jpg', '6053739964_a1d9ab3ed1_n.jpg', '184682095_46f8607278.jpg', '19442589512_e733cfea0f.jpg', '15266715291_dfa3f1d49f_n.jpg', '15054866658_c1a6223403_m.jpg', '418056361_1dfac1c151_n.jpg', '6606746467_a668c8d417.jpg', '22203670478_9ec5c2700b_n.jpg', '14921668662_3ffc5b9db3_n.jpg', '1419608016_707b887337_n.jpg', '5970300143_36b42437de_n.jpg', '2729206569_9dd2b5a3ed.jpg', '4186808407_06688641e2_n.jpg', '14955545254_324cd4ee75.jpg', '10386540106_1431e73086_m.jpg', '5896354497_6a19162741.jpg', '9558628596_722c29ec60_m.jpg', '184682320_73ccf74710.jpg', '4932735566_2327bf319a.jpg', '4804434999_bf2187e96a_n.jpg', '3848405800_8eea982c40.jpg', '2588453601_66f2a03cca_n.jpg', '15054751430_5af76f6096_n.jpg', '4914793782_d0ea760791.jpg', '9309473873_9d62b9082e.jpg', '1064662314_c5a7891b9f_m.jpg', '18843967474_9cb552716b.jpg', '2723995667_31f32294b4.jpg', '5004121118_e9393e60d0_n.jpg', '274848710_5185cf33b1_n.jpg', '4933824130_b99839a80d.jpg', '1596293240_2d5b53495a_m.jpg', '8478248531_1a16e232b5.jpg', '22405882322_d4561f8469_n.jpg', '5979668702_fdaec9e164_n.jpg', '8202034834_ee0ee91e04_n.jpg', '4414081772_8a0e8a1327.jpg', '19519101829_46af0b4547_m.jpg', '2619000556_6634478e64_n.jpg', '10862313945_e8ed9202d9_m.jpg', '5139971615_434ff8ed8b_n.jpg', '4933229357_1c5cc03f65_m.jpg', '5231868667_f0baa71feb_n.jpg', '4160805260_cf758daeae_n.jpg', '9339697826_88c9c4dc50.jpg', '1485456230_58d8e45e88.jpg', '6606809995_edee55b770_m.jpg', '45045003_30bbd0a142_m.jpg', '7721658400_0dec46d225.jpg', '18237215308_a158d49f28_n.jpg', '22992257000_76dbc599e7_m.jpg', '9610098411_f1613c8e14.jpg', '9483429732_5ae73eb672_n.jpg', '6606817351_10f6e43a09.jpg', '19784656639_cd7f0a4a26_m.jpg', '2442985637_8748180f69.jpg', '5973935729_2868f2db1f_n.jpg', '12471443383_b71e7a7480_m.jpg', '1379256773_bb2eb0d95b_n.jpg', '7654774598_6b715a8d3e.jpg', '253586685_ee5b5f5232.jpg', '15191613243_82ee8e0fe8.jpg', '22478719251_276cb094f9_n.jpg', '15238348741_c2fb12ecf2_m.jpg', '2575272111_f04d79b9af_n.jpg', '9610373158_5250bce6ac_n.jpg', '9558630626_52a1b7d702_m.jpg', '1240625276_fb3bd0c7b1.jpg', '3838274225_36010c6254_n.jpg', '14814264272_4b39a102f9_n.jpg', '7510262868_cf7d6f6f25_n.jpg', '20972862281_5367f4af88.jpg', '4927658421_7eed83bc95_m.jpg', '9381481549_5a5d503e42_n.jpg', '4933822052_2dfef02517.jpg', '15072973261_73e2912ef2_n.jpg', '215798357_3f4bfa27b7.jpg', '201809908_0ef84bb351.jpg', '20871601265_daa4be4291_n.jpg', '14121915990_4b76718077_m.jpg', '6606823367_e89dc52a95_n.jpg', '6198569587_23c3693328_m.jpg', '1240626292_52cd5d7fb1_m.jpg', '17148843706_df148301ac_n.jpg', '20183071136_c297e74fcc_m.jpg', '2689228449_e0be72cf00_n.jpg', '3912497888_e7a5905bc3_n.jpg', '9651392844_77f90589ba_n.jpg', '3001536784_3bfd101b23_n.jpg', '5020805619_6c710793f7.jpg', '821368661_4ab4343f5a.jpg', '2588234269_c4bfd0d8b9_n.jpg', '27466794_57e4fe5656.jpg', '9610374042_bb16cded3d.jpg', '15495579081_661cb260d1_n.jpg', '4933823194_33f6e32c5a.jpg', '18237156988_9ceb46a8de_n.jpg', '14741812319_e1d32ffb84_n.jpg', '6606815161_3c4372760f.jpg', '1715303025_e7065327e2.jpg', '20972866151_e6a928b00a.jpg', '5069564563_ae03792c3c_m.jpg', '14646280372_dd50be16e4_n.jpg', '5952223760_85972671d6_n.jpg', '7586498522_4dcab1c8d2_m.jpg', '4932144003_cbffc89bf0.jpg', '4746648726_e37a2de16d_n.jpg', '6122711533_2c219f0392_n.jpg', '5951665793_8ae4807cbd_n.jpg', '6265084065_7a8b30cc6e_n.jpg', '20621698991_dcb323911d.jpg', '1314584013_fe935fdeb1_n.jpg', '4877195645_791c3a83b9_m.jpg', '2980154410_bffd7a3452_n.jpg', '8192234807_fed4a46f1a_n.jpg', '7176729016_d73ff2211e.jpg', '2706736074_b0fba20b3e.jpg', '15054865217_e398d0dc9f_n.jpg', '5015462205_440898fe41_n.jpg', '5979669004_d9736206c9_n.jpg', '20148493928_9f75a99783.jpg', '4110787181_f73f12d107_m.jpg', '5028817729_f04d32bac8_n.jpg', '40410686_272bc66faf_m.jpg', '19508264965_d1dfb565ea_n.jpg', '15241052342_466b38b68d.jpg', '16656015339_2ccb7cd18d.jpg', '2443095419_17b920d155_m.jpg', '5330608174_b49f7a4c48_m.jpg', '5970869550_d7d9fabebd_n.jpg', '4689061249_6498da5013.jpg', '4528959364_fa544b0f4e_m.jpg', '4813483281_f3707a71e7_n.jpg', '4933823300_39fd4420b6.jpg', '5018120483_cc0421b176_m.jpg', '19595718862_c68896370c_m.jpg', '8292914969_4a76608250_m.jpg', '2759796022_55bd47bfa2_n.jpg', '13095941995_9a66faa713_n.jpg', '4933230547_394f618009_m.jpg', '5970868068_fe1c8b282e_n.jpg', '15207507116_8b7f894508_m.jpg', '4895721242_89014e723c_n.jpg', '19710925313_31682fa22b_m.jpg', '7820523050_76c8caa025.jpg', '4755075329_1fccc69d4e.jpg', '9056495873_66e351b17c_n.jpg', '3514340206_efb8198a80_n.jpg', '9431890901_cd11bda584_n.jpg', '274846229_990e976683_n.jpg', '193878348_43571127b9_n.jpg', '20704967595_a9c9b8d431.jpg', '8266310743_02095e782d_m.jpg', '9497774249_7f5ae70927_m.jpg', '15243175532_ac28c48e14_m.jpg', '1880606744_23e3dc4f6b_n.jpg', '22416421196_caf131c9fa_m.jpg', '2979297519_17a08b37f6_m.jpg', '5979111025_3bcae48ae6_n.jpg', '23204123212_ef32fbafbe.jpg', '10386525005_fd0b7d6c55_n.jpg', '6204049536_1ac4f09232_n.jpg', '14932787983_d6e05f2434_m.jpg', '9111896677_ff0b6fa6f6_n.jpg', '5967284308_85714d8cf7_m.jpg', '15069459615_7e0fd61914_n.jpg', '200011914_93f57ed68b.jpg', '4869189730_f47c124cda_n.jpg', '20407896403_a50fef58ac_n.jpg', '4271193206_666ef60aa0_m.jpg', '6606753075_72ee32aa30_m.jpg', '14858674096_ed0fc1a130.jpg', '14925397351_c7f209d804_n.jpg', '4818994715_9d90527d18_n.jpg', '9491955955_d0b2c83834.jpg', '4816636411_0135bfe2c9_n.jpg', '4625255191_26e17a28c9_n.jpg', '4878447831_e904c60cf8_n.jpg', '15066430311_fb57fa92b0_m.jpg', '9610373748_b9cb67bd55.jpg', '5020805135_1219d7523d.jpg', '21134000558_d7d6c9b1fe_n.jpg', '5139969871_c9046bdaa7_n.jpg', '14348961225_09bd803317_n.jpg', '3665455426_9cd1c3af4a_n.jpg', '3922005347_7b6fb82fcd.jpg', '3594967811_697184b026_n.jpg', '14741866338_bdc8bfc8d5_n.jpg', '5139977423_d413b23fde_m.jpg', '2678588376_6ca64a4a54_n.jpg', '4848279231_c4960e28b2_n.jpg', '5492906452_80943bfd04.jpg', '14925398441_107f3e0304_n.jpg', '200288046_0032f322ff_n.jpg', '4932736308_827012cff2.jpg', '9216286876_289a4779f7.jpg', '5042785753_392cc4e74d_n.jpg', '184682652_c927a49226_m.jpg', '13959937305_2f5c532886_n.jpg', '14460081668_eda8795693_m.jpg', '6080086410_17a02dcfb8.jpg', '3894586562_5dbbdc4354_n.jpg', '3575811488_a31714472a.jpg', '4871455214_8b5fb87ab6_n.jpg', '18097401209_910a46fae1_n.jpg', '5995136822_8e1eed76f5_n.jpg', '3749091071_c146b33c74_n.jpg', '18766965343_9f42d4bedc_m.jpg', '40410814_fba3837226_n.jpg', '4831577091_f56157a5d5_n.jpg', '2895404754_6d9f9416d7_n.jpg', '11881770944_22b4f2f8f6_n.jpg', '417251603_69f0ee57a9_m.jpg', '9599534035_ae4df582b6.jpg', '4805544785_a63241f6d0_n.jpg', '3897174387_07aac6bf5f_n.jpg', '15118243470_7e0a7f159c_n.jpg', '147804446_ef9244c8ce_m.jpg', '200557983_10a88672fc.jpg', '13648603305_1268eda8b7_n.jpg', '5994572653_ea98afa3af_n.jpg', '175638423_058c07afb9.jpg', '6606749757_b98a4ba403.jpg', '2694860538_b95d60122c_m.jpg', '4933229561_881d4673e7_m.jpg', '5437996076_cf7e2ac32e_n.jpg', '9231555352_d2dd8f8e68_m.jpg', '1022552036_67d33d5bd8_n.jpg', '4872892690_52dc25b0b4.jpg', '2425164088_4a5d2cdf21_n.jpg', '4814106562_7c3564d2d9_n.jpg', '6141199476_9b6d383fd9.jpg', '184683023_737fec5b18.jpg', '164670455_29d8e02bbd_n.jpg', '678714585_addc9aaaef.jpg', '4893660821_eb7f02bef3_n.jpg', '9535500195_543d0b729b.jpg', '9206376642_8348ba5c7a.jpg', '7804213238_1d92ae5edb_m.jpg', '3568114325_d6b1363497.jpg', '6627521877_6e43fb3c49_m.jpg', '10386702973_e74a34c806_n.jpg', '6042014768_b57f0bfc79_n.jpg', '5738580862_e128192f75.jpg', '9432335346_e298e47713_n.jpg', '22255608949_172d7c8d22_m.jpg', '4191299785_a4faca9b74_n.jpg', '12471791574_bb1be83df4.jpg', '287233531_74d4605814_m.jpg', '5043404000_9bc16cb7e5_m.jpg', '4846786944_2832c5c8b8.jpg', '14623719696_1bb7970208_n.jpg', '22755811033_cd17b109e0.jpg', '4932736136_0115955987.jpg', '20777358950_c63ea569a1.jpg', '3950020811_dab89bebc0_n.jpg', '215798352_184d8040d1.jpg', '14678298676_6db8831ee6_m.jpg', '14472246629_72373111e6_m.jpg', '4868595281_1e58083785.jpg', '8929213942_5544191250_n.jpg', '210076535_80951bc5d5.jpg', '5339004958_a0a6f385fd_m.jpg', '2720698862_486d3ec079_m.jpg', '5999024446_5721493894.jpg', '5293283002_9b17f085f7_m.jpg', '14646283472_50a3ae1395.jpg', '4414080766_5116e8084e.jpg', '6239758929_50e5e5a476_m.jpg', '21349789961_18ba1af5b7_n.jpg', '5979111199_495884b578_n.jpg', '14646281372_5f13794b47.jpg', '2816256710_a2d3616fae.jpg', '39271782_b4335d09ae_n.jpg', '5037531593_e2daf4c7f1.jpg', '7935826214_9b57628203_m.jpg', '8174935013_b16626b49b.jpg', '18828277053_1493158b28.jpg', '40411019_526f3fc8d9_m.jpg', '3596902268_049e33a2cb_n.jpg', '19453165201_2aa747e0bf.jpg', '14969295739_c132a08663_n.jpg', '193874852_fb633d8d00_n.jpg', '3865206264_5d81584bba.jpg', '9431896325_23bf6e8761.jpg', '9564240106_0577e919da_n.jpg', '20078409301_aa8061bd0b_n.jpg', '19756232959_17cde3b9f0_m.jpg', '2883115621_4837267ea1_m.jpg', '6112510436_9fe06e695a_n.jpg', '4940287066_385afd9c18_m.jpg', '2443921986_d4582c123a.jpg', '3196753837_411b03682d_n.jpg', '21995435890_e5672244a4_m.jpg', '15380755137_a2e67839ab_m.jpg', '6953297_8576bf4ea3.jpg', '4019748730_ee09b39a43.jpg', '6140693467_211a135b6d.jpg', '15493195788_60530f2398_m.jpg', '4626721387_88f89d5cc9_n.jpg', '3840761441_7c648abf4d_n.jpg', '5007598545_90e08e81c1_n.jpg', '3154932076_eff5c38231_n.jpg', '6606743797_c90c669757.jpg', '3883895985_bd20198371.jpg', '15026703621_e15e9d55f0_n.jpg', '244074259_47ce6d3ef9.jpg', '15123604714_dd034a4a3b_n.jpg', '197011740_21825de2bf.jpg', '9460336948_6ae968be93.jpg', '4746668678_0e2693b1b9_n.jpg', '14646279002_9cdf97be97_n.jpg', '4933230395_7930697335_m.jpg', '4042816698_578a1d599e.jpg', '4872284527_ff52128b97.jpg', '13096076565_72c2c60875_n.jpg', '9825716455_f12bcc8d4e_n.jpg', '19697910486_0086d893a2.jpg', '15218871222_c104032ca1.jpg', '4895122831_83db2ba2d0_n.jpg', '2979133707_84aab35b5d.jpg', '1217254584_4b3028b93d.jpg', '5067864967_19928ca94c_m.jpg', '15745084272_36402f5ee6_n.jpg', '3846907701_e13b66aa87.jpg', '9555824387_32b151e9b0_m.jpg', '9558632814_e78a780f4f.jpg', '6050020905_881295ac72_n.jpg', '2067882323_8de6623ffd.jpg', '8928658373_fdca5ff1b8.jpg', '9359374034_21fb12d613_n.jpg', '2944298800_1984bd4f8a_m.jpg', '9399711558_7cb9547cd3_n.jpg', '4806174512_e04475b766_n.jpg', '21728822928_9f6817325a_n.jpg', '20022771089_3cc7e5086d_m.jpg', '44079668_34dfee3da1_n.jpg', '10386540696_0a95ee53a8_n.jpg', '3062794421_295f8c2c4e.jpg', '8234846550_fdaf326dbe.jpg', '7510240282_87554c7418_n.jpg', '7581713708_8eae6794f2.jpg', '23247483352_0defc7a6dc_n.jpg', '8014735546_3db46bb1fe_n.jpg', '15839183375_49bf4f75e8_m.jpg', '6141150299_b46a64e4de.jpg', '15043962658_dcf9dff5e9_n.jpg', '5043409856_395300dbe5_m.jpg', '9216286162_6ceefdd1b4_m.jpg', '10386503264_e05387e1f7_m.jpg', '4933822422_4f54fc7cc8.jpg', '184682920_97ae41ce60_m.jpg', '14881304632_54a9dfb8be.jpg', '2697194548_ec8f8de97c_n.jpg', '3334350831_f8755a2095_n.jpg', '4746643626_02b2d056a2_n.jpg', '16143151468_4f3c033e33.jpg', '5998488415_a6bacd9f83.jpg', '200557977_bf24d9550b.jpg', '6866250080_ae80df0cd5_m.jpg', '4235259239_21f2eb4f2e.jpg', '3146795631_d062f233c1.jpg', '7857605684_fc86440c23.jpg', '1044296388_912143e1d4.jpg', '19504937128_a4ae90fcbd_m.jpg', '5979111555_61b400c070_n.jpg', '5526324308_b333da0e57_n.jpg', '145303599_2627e23815_n.jpg', '20344282483_05abb0b837.jpg', '5043409092_5b12cc985a_m.jpg', '4933824012_8cbfe606f6.jpg', '14266917699_91b207888e.jpg', '6133988570_9dc778e622_m.jpg', '40410963_3ac280f23a_n.jpg', '14397276020_49f9423614.jpg', '5076821914_c21b58fd4c_m.jpg', '15054866898_60ee50ec6b_n.jpg', '9445830851_e9a126fd1d_n.jpg', '1244774242_25a20d99a9.jpg', '16988605969_570329ff20_n.jpg', '13117907313_86c99c6441.jpg', '14925397651_97dcddc383_n.jpg', '235651658_a7b3e7cbdd.jpg', '14244410747_22691ece4a_n.jpg', '2883115609_5a69357b5d_m.jpg', '9699724719_a8439cc0fd_n.jpg', '9904127656_f76a5a4811_m.jpg', '4414084638_03d2db38ae.jpg', '4489516263_e49fe82637_n.jpg', '9482209981_bf7bf6022b_m.jpg', '5955500463_6c08cb199e.jpg', '2807106374_f422b5f00c.jpg', '2721638730_34a9b7a78b.jpg', '4895721788_f10208ab77_n.jpg', '21518663809_3d69f5b995_n.jpg', '15042911059_b6153d94e7_n.jpg', '6104713425_8a3277e34a.jpg', '215798354_429de28c2d.jpg', '6140892289_92805cc590.jpg', '24459548_27a783feda.jpg', '20410697750_c43973d1eb.jpg', '7270375648_79f0caef42_n.jpg', '20777375650_ef854bf645.jpg', '4755705724_976621a1e7.jpg', '7603036176_9e8967cd21.jpg', '3766264038_ea701c7131_n.jpg', '2767658405_1e2043f44c_n.jpg', '8174941335_56389b53e9_n.jpg', '7510285306_ba8f80c382_n.jpg', '5025805406_033cb03475_n.jpg', '4080112931_cb20b3d51a_n.jpg']\n"
          ],
          "name": "stdout"
        },
        {
          "output_type": "error",
          "ename": "TypeError",
          "evalue": "ignored",
          "traceback": [
            "\u001b[0;31m---------------------------------------------------------------------------\u001b[0m",
            "\u001b[0;31mTypeError\u001b[0m                                 Traceback (most recent call last)",
            "\u001b[0;32m<ipython-input-90-3e38c3f32dbb>\u001b[0m in \u001b[0;36m<module>\u001b[0;34m()\u001b[0m\n\u001b[1;32m      1\u001b[0m \u001b[0;31m# set tensorflow dataset parameters\u001b[0m\u001b[0;34m\u001b[0m\u001b[0;34m\u001b[0m\u001b[0;34m\u001b[0m\u001b[0m\n\u001b[1;32m      2\u001b[0m \u001b[0;31m# remove unneccessary files from source directory\u001b[0m\u001b[0;34m\u001b[0m\u001b[0;34m\u001b[0m\u001b[0;34m\u001b[0m\u001b[0m\n\u001b[0;32m----> 3\u001b[0;31m \u001b[0mtrain_test_split\u001b[0m\u001b[0;34m(\u001b[0m\u001b[0morigin\u001b[0m\u001b[0;34m,\u001b[0m \u001b[0mtrain_path\u001b[0m\u001b[0;34m,\u001b[0m \u001b[0mtest_split\u001b[0m\u001b[0;34m)\u001b[0m\u001b[0;34m\u001b[0m\u001b[0;34m\u001b[0m\u001b[0m\n\u001b[0m\u001b[1;32m      4\u001b[0m \u001b[0;31m#img_width, img_height = get_min_img_size(train_source_folder_path)\u001b[0m\u001b[0;34m\u001b[0m\u001b[0;34m\u001b[0m\u001b[0;34m\u001b[0m\u001b[0m\n\u001b[1;32m      5\u001b[0m \u001b[0;31m#img_width, img_height = set_resize_image_parameters(img_height, img_width)\u001b[0m\u001b[0;34m\u001b[0m\u001b[0;34m\u001b[0m\u001b[0;34m\u001b[0m\u001b[0m\n",
            "\u001b[0;32m<ipython-input-89-6b06e3ec7881>\u001b[0m in \u001b[0;36mtrain_test_split\u001b[0;34m(origin, train_path, test_split)\u001b[0m\n\u001b[1;32m     17\u001b[0m       \u001b[0mos\u001b[0m\u001b[0;34m.\u001b[0m\u001b[0mmkdir\u001b[0m\u001b[0;34m(\u001b[0m\u001b[0mos\u001b[0m\u001b[0;34m.\u001b[0m\u001b[0mpath\u001b[0m\u001b[0;34m.\u001b[0m\u001b[0mjoin\u001b[0m\u001b[0;34m(\u001b[0m\u001b[0mtest_path\u001b[0m\u001b[0;34m,\u001b[0m \u001b[0mdir\u001b[0m\u001b[0;34m)\u001b[0m\u001b[0;34m)\u001b[0m\u001b[0;34m\u001b[0m\u001b[0;34m\u001b[0m\u001b[0m\n\u001b[1;32m     18\u001b[0m     \u001b[0mtest_num\u001b[0m \u001b[0;34m=\u001b[0m \u001b[0mlen\u001b[0m\u001b[0;34m(\u001b[0m\u001b[0mfiles\u001b[0m\u001b[0;34m)\u001b[0m \u001b[0;34m*\u001b[0m \u001b[0mtest_split\u001b[0m\u001b[0;34m\u001b[0m\u001b[0;34m\u001b[0m\u001b[0m\n\u001b[0;32m---> 19\u001b[0;31m     \u001b[0mindicies\u001b[0m \u001b[0;34m=\u001b[0m \u001b[0mrandom\u001b[0m\u001b[0;34m.\u001b[0m\u001b[0msample\u001b[0m\u001b[0;34m(\u001b[0m\u001b[0mrange\u001b[0m\u001b[0;34m(\u001b[0m\u001b[0mlen\u001b[0m\u001b[0;34m(\u001b[0m\u001b[0mfiles\u001b[0m\u001b[0;34m)\u001b[0m\u001b[0;34m)\u001b[0m\u001b[0;34m,\u001b[0m \u001b[0mtest_num\u001b[0m\u001b[0;34m)\u001b[0m\u001b[0;34m\u001b[0m\u001b[0;34m\u001b[0m\u001b[0m\n\u001b[0m\u001b[1;32m     20\u001b[0m     \u001b[0mtest_files_names\u001b[0m \u001b[0;34m=\u001b[0m \u001b[0;34m[\u001b[0m\u001b[0mfiles\u001b[0m\u001b[0;34m[\u001b[0m\u001b[0mi\u001b[0m\u001b[0;34m]\u001b[0m \u001b[0;32mfor\u001b[0m \u001b[0mi\u001b[0m \u001b[0;32min\u001b[0m \u001b[0mindicies\u001b[0m\u001b[0;34m]\u001b[0m\u001b[0;34m\u001b[0m\u001b[0;34m\u001b[0m\u001b[0m\n\u001b[1;32m     21\u001b[0m     \u001b[0;31m# move file from train dataset to test dataset\u001b[0m\u001b[0;34m\u001b[0m\u001b[0;34m\u001b[0m\u001b[0;34m\u001b[0m\u001b[0m\n",
            "\u001b[0;32m/usr/lib/python3.7/random.py\u001b[0m in \u001b[0;36msample\u001b[0;34m(self, population, k)\u001b[0m\n\u001b[1;32m    320\u001b[0m         \u001b[0;32mif\u001b[0m \u001b[0;32mnot\u001b[0m \u001b[0;36m0\u001b[0m \u001b[0;34m<=\u001b[0m \u001b[0mk\u001b[0m \u001b[0;34m<=\u001b[0m \u001b[0mn\u001b[0m\u001b[0;34m:\u001b[0m\u001b[0;34m\u001b[0m\u001b[0;34m\u001b[0m\u001b[0m\n\u001b[1;32m    321\u001b[0m             \u001b[0;32mraise\u001b[0m \u001b[0mValueError\u001b[0m\u001b[0;34m(\u001b[0m\u001b[0;34m\"Sample larger than population or is negative\"\u001b[0m\u001b[0;34m)\u001b[0m\u001b[0;34m\u001b[0m\u001b[0;34m\u001b[0m\u001b[0m\n\u001b[0;32m--> 322\u001b[0;31m         \u001b[0mresult\u001b[0m \u001b[0;34m=\u001b[0m \u001b[0;34m[\u001b[0m\u001b[0;32mNone\u001b[0m\u001b[0;34m]\u001b[0m \u001b[0;34m*\u001b[0m \u001b[0mk\u001b[0m\u001b[0;34m\u001b[0m\u001b[0;34m\u001b[0m\u001b[0m\n\u001b[0m\u001b[1;32m    323\u001b[0m         \u001b[0msetsize\u001b[0m \u001b[0;34m=\u001b[0m \u001b[0;36m21\u001b[0m        \u001b[0;31m# size of a small set minus size of an empty list\u001b[0m\u001b[0;34m\u001b[0m\u001b[0;34m\u001b[0m\u001b[0m\n\u001b[1;32m    324\u001b[0m         \u001b[0;32mif\u001b[0m \u001b[0mk\u001b[0m \u001b[0;34m>\u001b[0m \u001b[0;36m5\u001b[0m\u001b[0;34m:\u001b[0m\u001b[0;34m\u001b[0m\u001b[0;34m\u001b[0m\u001b[0m\n",
            "\u001b[0;31mTypeError\u001b[0m: can't multiply sequence by non-int of type 'float'"
          ]
        }
      ]
    },
    {
      "cell_type": "code",
      "metadata": {
        "id": "H2V96MaJRkIt"
      },
      "source": [
        "def get_image_dataset(data_path, color_mode, image_size, subset = None, \n",
        "                      validation_split = None, seed = None):\n",
        "  \"\"\"\n",
        "  Create tensorflow dataset from data directory object.\n",
        "  param data_path:        string, source folder path\n",
        "  param color_mode:       available color modes are \"grayscale\", \"rgb\", \"rgba\", \n",
        "                          (images will be converted to have 1, 3, or 4 channels)\n",
        "  param image_size:       touple (image_with, image_height)\n",
        "  param subset:           name of subset ('train', 'validation')\n",
        "  param validation_split: validation set percentage (float)\n",
        "  \"\"\"\n",
        "    \n",
        "  if subset:\n",
        "        validation_split = validation_split\n",
        "  dataset = tf.keras.preprocessing.image_dataset_from_directory(\n",
        "      data_path,\n",
        "      color_mode=color_mode,\n",
        "      image_size=image_size,\n",
        "      seed=seed,\n",
        "      validation_split=validation_split, \n",
        "      subset=subset\n",
        "    )\n",
        "    \n",
        "  dataset.class_names.sort()\n",
        "    \n",
        "  return {\n",
        "      \"data\": dataset.cache().prefetch(\n",
        "      buffer_size = tf.data.experimental.AUTOTUNE\n",
        "      ),\n",
        "      \"classNames\": dataset.class_names\n",
        "        }"
      ],
      "execution_count": 68,
      "outputs": []
    },
    {
      "cell_type": "code",
      "metadata": {
        "colab": {
          "base_uri": "https://localhost:8080/"
        },
        "id": "GE9YzOR-LSdZ",
        "outputId": "f28db220-6463-489e-88e0-005c8e4a9cd5"
      },
      "source": [
        "\n",
        "training_ds = get_image_dataset(\n",
        "    train_source_folder_path,\n",
        "    color_mode,\n",
        "    image_size,\n",
        "    subset = \"training\",\n",
        "    validation_split = validation_split, \n",
        "    seed=seed\n",
        ")\n",
        "\n",
        "validation_ds = get_image_dataset(\n",
        "    train_source_folder_path,\n",
        "    color_mode,\n",
        "    image_size,\n",
        "    subset = \"validation\",\n",
        "    validation_split = validation_split,\n",
        "    seed=seed\n",
        ")\n",
        "\n",
        "\"\"\"\n",
        "test_ds = get_image_dataset(\n",
        "    test_source_folder_path,\n",
        "    color_mode,\n",
        "    image_size\n",
        ")\n",
        "\"\"\""
      ],
      "execution_count": 72,
      "outputs": [
        {
          "output_type": "stream",
          "text": [
            "Found 3670 files belonging to 6 classes.\n",
            "Executing op TensorSliceDataset in device /job:localhost/replica:0/task:0/device:CPU:0\n",
            "Executing op MapDataset in device /job:localhost/replica:0/task:0/device:CPU:0\n",
            "Executing op TensorSliceDataset in device /job:localhost/replica:0/task:0/device:CPU:0\n",
            "Executing op ZipDataset in device /job:localhost/replica:0/task:0/device:CPU:0\n",
            "Executing op Equal in device /job:localhost/replica:0/task:0/device:GPU:0\n",
            "Executing op Equal in device /job:localhost/replica:0/task:0/device:GPU:0\n",
            "Executing op LogicalAnd in device /job:localhost/replica:0/task:0/device:GPU:0\n",
            "Executing op SelectV2 in device /job:localhost/replica:0/task:0/device:GPU:0\n",
            "Executing op DummySeedGenerator in device /job:localhost/replica:0/task:0/device:CPU:0\n",
            "Executing op ShuffleDatasetV3 in device /job:localhost/replica:0/task:0/device:CPU:0\n",
            "Executing op BatchDatasetV2 in device /job:localhost/replica:0/task:0/device:CPU:0\n",
            "Executing op DummyMemoryCache in device /job:localhost/replica:0/task:0/device:CPU:0\n",
            "Executing op CacheDatasetV2 in device /job:localhost/replica:0/task:0/device:CPU:0\n",
            "Executing op PrefetchDataset in device /job:localhost/replica:0/task:0/device:CPU:0\n"
          ],
          "name": "stdout"
        }
      ]
    },
    {
      "cell_type": "code",
      "metadata": {
        "id": "S3jMS-Co12sM"
      },
      "source": [
        ""
      ],
      "execution_count": null,
      "outputs": []
    }
  ]
}