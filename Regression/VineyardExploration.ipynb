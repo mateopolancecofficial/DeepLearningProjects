{
  "nbformat": 4,
  "nbformat_minor": 0,
  "metadata": {
    "colab": {
      "name": "VineyardExploration.ipynb",
      "provenance": [],
      "authorship_tag": "ABX9TyNQzM3rIePMB6TeWTawj2np",
      "include_colab_link": true
    },
    "kernelspec": {
      "name": "python3",
      "display_name": "Python 3"
    },
    "language_info": {
      "name": "python"
    }
  },
  "cells": [
    {
      "cell_type": "markdown",
      "metadata": {
        "id": "view-in-github",
        "colab_type": "text"
      },
      "source": [
        "<a href=\"https://colab.research.google.com/github/mateopolancecofficial/DeepLearningProjects/blob/main/Regression/VineyardExploration.ipynb\" target=\"_parent\"><img src=\"https://colab.research.google.com/assets/colab-badge.svg\" alt=\"Open In Colab\"/></a>"
      ]
    },
    {
      "cell_type": "code",
      "metadata": {
        "id": "GS3tvXeHSXoB"
      },
      "source": [
        "import os\n",
        "import warnings\n",
        "from pathlib import Path\n",
        "\n",
        "import matplotlib.pyplot as plt\n",
        "import numpy as np\n",
        "import pandas as pd\n",
        "import seaborn as sns\n",
        "from IPython.display import display\n",
        "from pandas.api.types import CategoricalDtype\n",
        "\n",
        "from sklearn.cluster import KMeans\n",
        "from sklearn.decomposition import PCA\n",
        "from sklearn.feature_selection import mutual_info_regression\n",
        "from sklearn.model_selection import KFold, cross_val_score"
      ],
      "execution_count": 15,
      "outputs": []
    },
    {
      "cell_type": "code",
      "metadata": {
        "id": "mCAHmfGgYiAt"
      },
      "source": [
        "columns = ['x0', 'x1', 'x2', 'x3', 'u']\n",
        "feature_ranges = [[1, 17], [-9, -4], [0, 3], [0, 50]]\n",
        "source_path = \"./Data/podaci.csv\""
      ],
      "execution_count": 16,
      "outputs": []
    },
    {
      "cell_type": "code",
      "metadata": {
        "colab": {
          "base_uri": "https://localhost:8080/",
          "height": 203
        },
        "id": "V_I8_1sJS6ze",
        "outputId": "8f88177b-fc5a-43f2-ae67-2e52a7e2b22b"
      },
      "source": [
        "df = pd.read_csv(source_path, names=columns)\n",
        "df.head()"
      ],
      "execution_count": 17,
      "outputs": [
        {
          "output_type": "execute_result",
          "data": {
            "text/html": [
              "<div>\n",
              "<style scoped>\n",
              "    .dataframe tbody tr th:only-of-type {\n",
              "        vertical-align: middle;\n",
              "    }\n",
              "\n",
              "    .dataframe tbody tr th {\n",
              "        vertical-align: top;\n",
              "    }\n",
              "\n",
              "    .dataframe thead th {\n",
              "        text-align: right;\n",
              "    }\n",
              "</style>\n",
              "<table border=\"1\" class=\"dataframe\">\n",
              "  <thead>\n",
              "    <tr style=\"text-align: right;\">\n",
              "      <th></th>\n",
              "      <th>x0</th>\n",
              "      <th>x1</th>\n",
              "      <th>x2</th>\n",
              "      <th>x3</th>\n",
              "      <th>u</th>\n",
              "    </tr>\n",
              "  </thead>\n",
              "  <tbody>\n",
              "    <tr>\n",
              "      <th>0</th>\n",
              "      <td>9.353670</td>\n",
              "      <td>-5.681740</td>\n",
              "      <td>1.739091</td>\n",
              "      <td>26.117712</td>\n",
              "      <td>95.610349</td>\n",
              "    </tr>\n",
              "    <tr>\n",
              "      <th>1</th>\n",
              "      <td>7.136365</td>\n",
              "      <td>-8.842209</td>\n",
              "      <td>1.712237</td>\n",
              "      <td>42.389300</td>\n",
              "      <td>171.811854</td>\n",
              "    </tr>\n",
              "    <tr>\n",
              "      <th>2</th>\n",
              "      <td>11.457191</td>\n",
              "      <td>-8.771499</td>\n",
              "      <td>1.500788</td>\n",
              "      <td>41.984114</td>\n",
              "      <td>173.865403</td>\n",
              "    </tr>\n",
              "    <tr>\n",
              "      <th>3</th>\n",
              "      <td>8.772591</td>\n",
              "      <td>-4.087157</td>\n",
              "      <td>2.443511</td>\n",
              "      <td>12.612862</td>\n",
              "      <td>53.146681</td>\n",
              "    </tr>\n",
              "    <tr>\n",
              "      <th>4</th>\n",
              "      <td>4.958833</td>\n",
              "      <td>-8.140877</td>\n",
              "      <td>1.651389</td>\n",
              "      <td>34.904362</td>\n",
              "      <td>142.692822</td>\n",
              "    </tr>\n",
              "  </tbody>\n",
              "</table>\n",
              "</div>"
            ],
            "text/plain": [
              "          x0        x1        x2         x3           u\n",
              "0   9.353670 -5.681740  1.739091  26.117712   95.610349\n",
              "1   7.136365 -8.842209  1.712237  42.389300  171.811854\n",
              "2  11.457191 -8.771499  1.500788  41.984114  173.865403\n",
              "3   8.772591 -4.087157  2.443511  12.612862   53.146681\n",
              "4   4.958833 -8.140877  1.651389  34.904362  142.692822"
            ]
          },
          "metadata": {
            "tags": []
          },
          "execution_count": 17
        }
      ]
    },
    {
      "cell_type": "code",
      "metadata": {
        "colab": {
          "base_uri": "https://localhost:8080/",
          "height": 295
        },
        "id": "OCRufDCaYfOE",
        "outputId": "c48ca585-115e-423c-e753-1689604b19f0"
      },
      "source": [
        "df.describe()"
      ],
      "execution_count": 18,
      "outputs": [
        {
          "output_type": "execute_result",
          "data": {
            "text/html": [
              "<div>\n",
              "<style scoped>\n",
              "    .dataframe tbody tr th:only-of-type {\n",
              "        vertical-align: middle;\n",
              "    }\n",
              "\n",
              "    .dataframe tbody tr th {\n",
              "        vertical-align: top;\n",
              "    }\n",
              "\n",
              "    .dataframe thead th {\n",
              "        text-align: right;\n",
              "    }\n",
              "</style>\n",
              "<table border=\"1\" class=\"dataframe\">\n",
              "  <thead>\n",
              "    <tr style=\"text-align: right;\">\n",
              "      <th></th>\n",
              "      <th>x0</th>\n",
              "      <th>x1</th>\n",
              "      <th>x2</th>\n",
              "      <th>x3</th>\n",
              "      <th>u</th>\n",
              "    </tr>\n",
              "  </thead>\n",
              "  <tbody>\n",
              "    <tr>\n",
              "      <th>count</th>\n",
              "      <td>200.000000</td>\n",
              "      <td>200.000000</td>\n",
              "      <td>200.000000</td>\n",
              "      <td>200.000000</td>\n",
              "      <td>200.000000</td>\n",
              "    </tr>\n",
              "    <tr>\n",
              "      <th>mean</th>\n",
              "      <td>8.791439</td>\n",
              "      <td>-6.613959</td>\n",
              "      <td>1.528241</td>\n",
              "      <td>26.049980</td>\n",
              "      <td>108.149899</td>\n",
              "    </tr>\n",
              "    <tr>\n",
              "      <th>std</th>\n",
              "      <td>4.653434</td>\n",
              "      <td>1.412722</td>\n",
              "      <td>0.858456</td>\n",
              "      <td>13.886081</td>\n",
              "      <td>34.839117</td>\n",
              "    </tr>\n",
              "    <tr>\n",
              "      <th>min</th>\n",
              "      <td>1.253278</td>\n",
              "      <td>-8.994504</td>\n",
              "      <td>0.053720</td>\n",
              "      <td>0.049785</td>\n",
              "      <td>22.550903</td>\n",
              "    </tr>\n",
              "    <tr>\n",
              "      <th>25%</th>\n",
              "      <td>4.679236</td>\n",
              "      <td>-7.922337</td>\n",
              "      <td>0.758000</td>\n",
              "      <td>15.002370</td>\n",
              "      <td>81.192576</td>\n",
              "    </tr>\n",
              "    <tr>\n",
              "      <th>50%</th>\n",
              "      <td>8.724418</td>\n",
              "      <td>-6.601377</td>\n",
              "      <td>1.552406</td>\n",
              "      <td>26.236388</td>\n",
              "      <td>110.872981</td>\n",
              "    </tr>\n",
              "    <tr>\n",
              "      <th>75%</th>\n",
              "      <td>12.766403</td>\n",
              "      <td>-5.485084</td>\n",
              "      <td>2.291555</td>\n",
              "      <td>36.993059</td>\n",
              "      <td>136.567023</td>\n",
              "    </tr>\n",
              "    <tr>\n",
              "      <th>max</th>\n",
              "      <td>16.991696</td>\n",
              "      <td>-4.006333</td>\n",
              "      <td>2.989752</td>\n",
              "      <td>49.719666</td>\n",
              "      <td>185.125604</td>\n",
              "    </tr>\n",
              "  </tbody>\n",
              "</table>\n",
              "</div>"
            ],
            "text/plain": [
              "               x0          x1          x2          x3           u\n",
              "count  200.000000  200.000000  200.000000  200.000000  200.000000\n",
              "mean     8.791439   -6.613959    1.528241   26.049980  108.149899\n",
              "std      4.653434    1.412722    0.858456   13.886081   34.839117\n",
              "min      1.253278   -8.994504    0.053720    0.049785   22.550903\n",
              "25%      4.679236   -7.922337    0.758000   15.002370   81.192576\n",
              "50%      8.724418   -6.601377    1.552406   26.236388  110.872981\n",
              "75%     12.766403   -5.485084    2.291555   36.993059  136.567023\n",
              "max     16.991696   -4.006333    2.989752   49.719666  185.125604"
            ]
          },
          "metadata": {
            "tags": []
          },
          "execution_count": 18
        }
      ]
    },
    {
      "cell_type": "markdown",
      "metadata": {
        "id": "zHBTVoNIZrqp"
      },
      "source": [
        "Sensor data are not out of range for all features."
      ]
    },
    {
      "cell_type": "code",
      "metadata": {
        "colab": {
          "base_uri": "https://localhost:8080/"
        },
        "id": "TV2AmpUPZEdM",
        "outputId": "ded8d335-a97d-44d7-bb93-d5d831ad9b34"
      },
      "source": [
        "df.dtypes"
      ],
      "execution_count": 19,
      "outputs": [
        {
          "output_type": "execute_result",
          "data": {
            "text/plain": [
              "x0    float64\n",
              "x1    float64\n",
              "x2    float64\n",
              "x3    float64\n",
              "u     float64\n",
              "dtype: object"
            ]
          },
          "metadata": {
            "tags": []
          },
          "execution_count": 19
        }
      ]
    },
    {
      "cell_type": "code",
      "metadata": {
        "colab": {
          "base_uri": "https://localhost:8080/"
        },
        "id": "BIYvdNzYZ64b",
        "outputId": "2e2c583e-c3df-4ad0-c61a-f1e7849fede1"
      },
      "source": [
        "df_missing = df.isnull().sum()\n",
        "df_missing"
      ],
      "execution_count": 20,
      "outputs": [
        {
          "output_type": "execute_result",
          "data": {
            "text/plain": [
              "x0    0\n",
              "x1    0\n",
              "x2    0\n",
              "x3    0\n",
              "u     0\n",
              "dtype: int64"
            ]
          },
          "metadata": {
            "tags": []
          },
          "execution_count": 20
        }
      ]
    },
    {
      "cell_type": "code",
      "metadata": {
        "id": "RIvleNNoZ9nD"
      },
      "source": [
        "def miss_percentage(df):\n",
        "    \"\"\"\n",
        "    Calculate missing value percentage per dataset features (columns in dataframe).\n",
        "    :param df: input pandas dataframe with missing values\n",
        "    :return:   pandas dataframe, index = column names, columns = [missing values percentage, missing count]\n",
        "    \"\"\"\n",
        "    df_missing = df.isnull().sum().reset_index()\n",
        "    df_missing.columns = ['features', 'missing_counts']\n",
        "    df_len = df.shape[0]\n",
        "    df_missing['missing_percentage'] = df_missing['missing_counts'].apply(lambda v: v/df_len)\n",
        "\n",
        "    return df_missing.sort_values(by='missing_percentage', ascending=False).set_index(keys='features')"
      ],
      "execution_count": 21,
      "outputs": []
    },
    {
      "cell_type": "code",
      "metadata": {
        "colab": {
          "base_uri": "https://localhost:8080/",
          "height": 234
        },
        "id": "OlYluDy1aaoD",
        "outputId": "c168d763-db22-4c72-e9c4-d9ba3d19ef39"
      },
      "source": [
        "df_miss_info = miss_percentage(df)\n",
        "df_miss_info"
      ],
      "execution_count": 22,
      "outputs": [
        {
          "output_type": "execute_result",
          "data": {
            "text/html": [
              "<div>\n",
              "<style scoped>\n",
              "    .dataframe tbody tr th:only-of-type {\n",
              "        vertical-align: middle;\n",
              "    }\n",
              "\n",
              "    .dataframe tbody tr th {\n",
              "        vertical-align: top;\n",
              "    }\n",
              "\n",
              "    .dataframe thead th {\n",
              "        text-align: right;\n",
              "    }\n",
              "</style>\n",
              "<table border=\"1\" class=\"dataframe\">\n",
              "  <thead>\n",
              "    <tr style=\"text-align: right;\">\n",
              "      <th></th>\n",
              "      <th>missing_counts</th>\n",
              "      <th>missing_percentage</th>\n",
              "    </tr>\n",
              "    <tr>\n",
              "      <th>features</th>\n",
              "      <th></th>\n",
              "      <th></th>\n",
              "    </tr>\n",
              "  </thead>\n",
              "  <tbody>\n",
              "    <tr>\n",
              "      <th>x0</th>\n",
              "      <td>0</td>\n",
              "      <td>0.0</td>\n",
              "    </tr>\n",
              "    <tr>\n",
              "      <th>x1</th>\n",
              "      <td>0</td>\n",
              "      <td>0.0</td>\n",
              "    </tr>\n",
              "    <tr>\n",
              "      <th>x2</th>\n",
              "      <td>0</td>\n",
              "      <td>0.0</td>\n",
              "    </tr>\n",
              "    <tr>\n",
              "      <th>x3</th>\n",
              "      <td>0</td>\n",
              "      <td>0.0</td>\n",
              "    </tr>\n",
              "    <tr>\n",
              "      <th>u</th>\n",
              "      <td>0</td>\n",
              "      <td>0.0</td>\n",
              "    </tr>\n",
              "  </tbody>\n",
              "</table>\n",
              "</div>"
            ],
            "text/plain": [
              "          missing_counts  missing_percentage\n",
              "features                                    \n",
              "x0                     0                 0.0\n",
              "x1                     0                 0.0\n",
              "x2                     0                 0.0\n",
              "x3                     0                 0.0\n",
              "u                      0                 0.0"
            ]
          },
          "metadata": {
            "tags": []
          },
          "execution_count": 22
        }
      ]
    },
    {
      "cell_type": "markdown",
      "metadata": {
        "id": "dPTomCz5aiJo"
      },
      "source": [
        "All features are numeric (float) and there is no missing values."
      ]
    },
    {
      "cell_type": "markdown",
      "metadata": {
        "id": "64PYjs85bVgJ"
      },
      "source": [
        "### Calculate feature correlations"
      ]
    },
    {
      "cell_type": "code",
      "metadata": {
        "id": "G-ocNHFwfv2Z"
      },
      "source": [
        "# Set Matplotlib defaults\n",
        "plt.style.use(\"seaborn-whitegrid\")\n",
        "plt.rc(\"figure\", autolayout=True)\n",
        "plt.rc(\n",
        "    \"axes\",\n",
        "    labelweight=\"bold\",\n",
        "    labelsize=\"large\",\n",
        "    titleweight=\"bold\",\n",
        "    titlesize=14,\n",
        "    titlepad=10,\n",
        ")\n",
        "\n",
        "# Mute warnings\n",
        "warnings.filterwarnings('ignore')"
      ],
      "execution_count": 28,
      "outputs": []
    },
    {
      "cell_type": "code",
      "metadata": {
        "id": "tZ7a0Rr6agXn"
      },
      "source": [
        "def plot_feature_distributions():\n",
        "  \"\"\"\n",
        "  Plot histograms of all featues.\n",
        "  \"\"\"\n",
        "\n",
        "  fig, ax = plt.subplots(2, 2)\n",
        "  sns.distplot(df['x0'], hist=True, kde=False, label='All values', bins=40,\n",
        "             ax=ax[0, 0])\n",
        "  sns.distplot(df['x1'], hist=True, kde=False, label='All values', bins=40,\n",
        "             ax=ax[0, 1])\n",
        "  sns.distplot(df['x2'], hist=True, kde=False, label='All values', bins=40,\n",
        "             ax=ax[1, 0])\n",
        "  sns.distplot(df['x3'], hist=True, kde=False, label='All values', bins=40,\n",
        "             ax=ax[1, 1])"
      ],
      "execution_count": 35,
      "outputs": []
    },
    {
      "cell_type": "code",
      "metadata": {
        "colab": {
          "base_uri": "https://localhost:8080/",
          "height": 297
        },
        "id": "WaYdfkUpfWgi",
        "outputId": "09833db2-55f8-470e-c47a-2860da87b7b6"
      },
      "source": [
        "plot_feature_distributions()"
      ],
      "execution_count": 36,
      "outputs": [
        {
          "output_type": "display_data",
          "data": {
            "image/png": "[encoded data removed]",
            "text/plain": [
              "<Figure size 432x288 with 4 Axes>"
            ]
          },
          "metadata": {
            "tags": []
          }
        }
      ]
    },
    {
      "cell_type": "markdown",
      "metadata": {
        "id": "x-5p-ZHThbeg"
      },
      "source": [
        "All features need to be normalized with sifting distribution to become more like bell shape curve."
      ]
    },
    {
      "cell_type": "code",
      "metadata": {
        "id": "1GlUOe0PfbPw"
      },
      "source": [
        "def plot_target_distribution():\n",
        "  \"\"\"\n",
        "  Plot histograms of target variable.\n",
        "  \"\"\"\n",
        "\n",
        "  sns.distplot(df['u'], hist=True, kde=False, label='All values', bins=40)"
      ],
      "execution_count": 37,
      "outputs": []
    },
    {
      "cell_type": "code",
      "metadata": {
        "colab": {
          "base_uri": "https://localhost:8080/",
          "height": 297
        },
        "id": "XRSb3hnshSBy",
        "outputId": "4b089c5e-08fc-4d8b-cfaa-5b758ecee252"
      },
      "source": [
        "plot_target_distribution()"
      ],
      "execution_count": 38,
      "outputs": [
        {
          "output_type": "display_data",
          "data": {
            "image/png": "[encoded data removed]",
            "text/plain": [
              "<Figure size 432x288 with 1 Axes>"
            ]
          },
          "metadata": {
            "tags": []
          }
        }
      ]
    },
    {
      "cell_type": "markdown",
      "metadata": {
        "id": "WkGo19NYhxFU"
      },
      "source": [
        "Target variable can be just standardized because distribution is approximately bell shape curve."
      ]
    },
    {
      "cell_type": "markdown",
      "metadata": {
        "id": "RI4SUHk2h877"
      },
      "source": [
        "### Correlations between features and target variable"
      ]
    },
    {
      "cell_type": "code",
      "metadata": {
        "id": "atWKH62IhUmX"
      },
      "source": [
        ""
      ],
      "execution_count": null,
      "outputs": []
    }
  ]
}