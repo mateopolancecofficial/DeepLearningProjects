{
 "cells": [
  {
   "cell_type": "markdown",
   "metadata": {
    "colab_type": "text",
    "id": "view-in-github"
   },
   "source": [
    "<a href=\"https://colab.research.google.com/github/mateopolancecofficial/DeepLearningProjects/blob/main/Regression/Vineyard.ipynb\" target=\"_parent\"><img src=\"https://colab.research.google.com/assets/colab-badge.svg\" alt=\"Open In Colab\"/></a>"
   ]
  },
  {
   "cell_type": "code",
   "execution_count": 178,
   "metadata": {
    "id": "4gaL1fd3f1d2"
   },
   "outputs": [],
   "source": [
    "import os\n",
    "import warnings\n",
    "from pathlib import Path\n",
    "\n",
    "import matplotlib.pyplot as plt\n",
    "import numpy as np\n",
    "import pandas as pd\n",
    "import seaborn as sns\n",
    "from IPython.display import display\n",
    "\n",
    "from sklearn.feature_selection import mutual_info_regression\n",
    "from sklearn.model_selection import KFold, cross_val_score\n",
    "from sklearn.model_selection import train_test_split\n",
    "\n",
    "from sklearn.model_selection import train_test_split\n",
    "from sklearn.metrics import r2_score, mean_absolute_error\n",
    "from sklearn.preprocessing import PowerTransformer\n",
    "from sklearn.decomposition import PCA\n",
    "from pickle import dump"
   ]
  },
  {
   "cell_type": "code",
   "execution_count": 179,
   "metadata": {
    "id": "o_qp9YS8gKiM"
   },
   "outputs": [],
   "source": [
    "import os\n",
    "import pandas as pd\n",
    "import numpy as np\n",
    "import tensorflow as tf\n",
    "import tensorflow_datasets as tfds\n",
    "from tensorflow import keras\n",
    "from tensorflow.keras.layers import (\n",
    "    Dense,\n",
    "    Dropout,\n",
    "    Input, \n",
    "    add,\n",
    "    BatchNormalization\n",
    ")\n",
    "\n",
    "import kerastuner as kt\n",
    "import matplotlib.pyplot as plt\n",
    "from sklearn.model_selection import train_test_split\n"
   ]
  },
  {
   "cell_type": "code",
   "execution_count": 180,
   "metadata": {
    "id": "soni8IcxQbIZ"
   },
   "outputs": [],
   "source": [
    "strategy = None\n",
    "if tf.test.is_gpu_available():\n",
    "  strategy = tf.distribute.MirroredStrategy()\n",
    "  print('Using GPU')"
   ]
  },
  {
   "cell_type": "code",
   "execution_count": 181,
   "metadata": {
    "id": "Mwv8sDiTPv_5"
   },
   "outputs": [],
   "source": [
    "# set column names\n",
    "columns = ['x0', 'x1', 'x2', 'x3', 'u']\n",
    "features = ['x0', 'x1', 'x2', 'x3']\n",
    "target = ['u']\n",
    "# define ranges of all features\n",
    "feature_ranges = {\"x0\": [1, 17], \"x1\": [-9, -4], \"x2\": [0, 3], \"x3\": [0, 50]}\n",
    "# path to data source\n",
    "source_path = \"./Data/podaci.csv\"\n",
    "# split sizes for train, validation and test subsets\n",
    "train_size, test_size, val_size = 0.8, 0.2, 0.2\n",
    "# num of new samples\n",
    "f_range = 100\n",
    "# set batch_size\n",
    "batch_size = 32\n",
    "AUTOTUNE = tf.data.AUTOTUNE"
   ]
  },
  {
   "cell_type": "code",
   "execution_count": 182,
   "metadata": {
    "id": "x6v4EYoLb56t"
   },
   "outputs": [],
   "source": [
    "df = pd.read_csv(source_path, names=columns)"
   ]
  },
  {
   "cell_type": "markdown",
   "metadata": {
    "id": "7WIkFVebcOhH"
   },
   "source": [
    "### Prepare datasets\n",
    "All relevant functions are tested in exploration notebook."
   ]
  },
  {
   "cell_type": "code",
   "execution_count": 183,
   "metadata": {
    "id": "Xbrlqq9sRZe1"
   },
   "outputs": [],
   "source": [
    "def split_data(df: pd.DataFrame, features: list, target: list, train_size: float, \n",
    "               test_size: float, val_size: float):\n",
    "  \"\"\"\n",
    "  Split dataset on train, test and validation subsets.\n",
    "  :param df:          input pandas DataFrame\n",
    "  :param features:    list of input features names\n",
    "  :param target:      list of target column names\n",
    "  :param train_size:  fraction of train size\n",
    "  :param test_size:   fraction of test size\n",
    "  :param val_size:    fraction of validation size\n",
    "  :return:            dictionary, keys=names of DataFrame, columns=DataFrame\n",
    "  \"\"\"\n",
    "  \n",
    "  # shuffle dataset\n",
    "  df = df.sample(frac = 1)\n",
    "  \n",
    "  # split on test and train set\n",
    "  x_train, x_test, y_train, y_test = train_test_split(df[features], df[target],\n",
    "                                     test_size=test_size, train_size=train_size)\n",
    "    \n",
    "  # split train set on train and validation subsets\n",
    "  x_train, x_val, y_train, y_val = train_test_split(x_train, y_train,\n",
    "                                      test_size=val_size, train_size=train_size)\n",
    "  \n",
    "  dataset_dict = {\n",
    "      'x_train': x_train,\n",
    "      'y_train': y_train,\n",
    "      'x_val': x_val,\n",
    "      'y_val': y_val,\n",
    "      'x_test': x_test,\n",
    "      'y_test': y_test\n",
    "  }\n",
    "\n",
    "  return dataset_dict"
   ]
  },
  {
   "cell_type": "code",
   "execution_count": 184,
   "metadata": {
    "id": "GuvOKPVRcAeK"
   },
   "outputs": [],
   "source": [
    "def cause_relevant_features(df: pd.DataFrame, features: list, f_range: int):\n",
    "  \"\"\"\n",
    "  Cause new data based on calculated statistics.\n",
    "  :param df:          input pandas DataFrame\n",
    "  :param f_range:     int, num of new samples\n",
    "  :return new_df:     pandas DataFrame with new data\n",
    "  \"\"\"\n",
    "\n",
    "  new_data = {}\n",
    "\n",
    "  for idx in range(len(features)):\n",
    "\n",
    "    std = df[features[idx]].std()\n",
    "    mean = df[features[idx]].mean()\n",
    "\n",
    "    data_range = [mean - (1.5 * std), mean + (1.5 * std)]\n",
    "\n",
    "    new_data[features[idx]] = np.random.uniform(data_range[0], data_range[1], f_range).reshape(f_range, 1).tolist()\n",
    "\n",
    "  new_df = pd.DataFrame.from_dict(new_data)\n",
    "  \n",
    "  for fidx in range(len(features)):\n",
    "    new_df[features[fidx]] = new_df[features[fidx]].map(lambda x: x[0])\n",
    "\n",
    "  return new_df"
   ]
  },
  {
   "cell_type": "code",
   "execution_count": 185,
   "metadata": {
    "id": "wvxcmC2VcIEP"
   },
   "outputs": [],
   "source": [
    "def get_target_values(df: pd.DataFrame, target: list):\n",
    "  \"\"\"\n",
    "  Return values of target variable based on input feature values.\n",
    "  :param df:               pandas dataframe with input features\n",
    "  :return target_result:   pandas dataframe with input features and target values\n",
    "  \"\"\"\n",
    "  \n",
    "  def calc_target_func(x0, x1, x2, x3):\n",
    "    \"\"\"\n",
    "    Return target value.\n",
    "    \"\"\"\n",
    "\n",
    "    return x0 + (x1**2) + x2 + (2*x3)\n",
    "  \n",
    "\n",
    "  df[target[0]] = df.apply(lambda row: calc_target_func(row['x0'], row['x1'], row['x2'], row['x3']), axis=1)\n",
    "\n",
    "  return df"
   ]
  },
  {
   "cell_type": "code",
   "execution_count": 186,
   "metadata": {
    "id": "KIpP_7cdc4Sf"
   },
   "outputs": [],
   "source": [
    "def create_extra_train_dataset(df: pd.DataFrame, df_new: pd.DataFrame):\n",
    "  \"\"\"\n",
    "  Extend train dataset with new data.\n",
    "  :param df:               pandas dataframe with input features\n",
    "  :param df_new:           pandas dataframe with input augmented features\n",
    "  :return df_result:       pandas dataframe with input features and target values\n",
    "  \"\"\"\n",
    "\n",
    "  return pd.concat([df, df_new], axis=0).reset_index()[features + target]"
   ]
  },
  {
   "cell_type": "code",
   "execution_count": 187,
   "metadata": {
    "id": "1q3kbER1c4U4"
   },
   "outputs": [],
   "source": [
    "def normalize_features(df: pd.DataFrame, features: list, target: list):\n",
    "  \"\"\"\n",
    "  Use Yeo-Johnson transform to normalize input features and target variable.\n",
    "  :param df:        dict with input pandas dataframes\n",
    "  :param features:  list of input features names\n",
    "  :param target:    list of target variables names\n",
    "  :return out_data: dict, data = pandas dataframe with transformed data,\n",
    "                          transformer = transformer objects\n",
    "  \"\"\"\n",
    "  \n",
    "  out_data = {'data': {}, 'transformers': []}\n",
    "  transformers = []\n",
    "  df_x = {}\n",
    "  df_y = {}\n",
    "\n",
    "  # normalize input data\n",
    "  for key in list(df.keys()):\n",
    "\n",
    "    if key == 'train_data':\n",
    "      # fit input features\n",
    "      transformer_f = PowerTransformer(method='yeo-johnson', standardize=True)\n",
    "      x_trans = transformer_f.fit_transform(df[key][features])\n",
    "      df_x[key] = pd.DataFrame(x_trans, columns=features)\n",
    "      transformers.append(transformer_f)\n",
    "\n",
    "      # fit input target\n",
    "      transformer_t = PowerTransformer(method='yeo-johnson', standardize=True)\n",
    "      y_trans = transformer_t.fit_transform(df[key][target])\n",
    "      df_y[key] = pd.DataFrame(y_trans, columns=target)\n",
    "      transformers.append(transformer_t)\n",
    "\n",
    "    elif key == 'test_data':\n",
    "      # transform input features\n",
    "      x_trans = transformers[0].transform(df[key][features])\n",
    "      df_x[key] = pd.DataFrame(x_trans, columns=features)\n",
    "\n",
    "      # use test target variable\n",
    "      y_trans = df[key][target]\n",
    "      df_y[key] = pd.DataFrame(y_trans, columns=target)\n",
    "    \n",
    "    else:\n",
    "      # transform input features\n",
    "      x_trans = transformers[0].transform(df[key][features])\n",
    "      df_x[key] = pd.DataFrame(x_trans, columns=features)\n",
    "\n",
    "      # transform target variable\n",
    "      y_trans = transformers[1].transform(df[key][target])\n",
    "      df_y[key] = pd.DataFrame(y_trans, columns=target)\n",
    "\n",
    "  # concatenate all transformed features dataframes with transformed target variables\n",
    "  for key in list(df.keys()):\n",
    "    out_data['data'][key] = pd.concat([df_x[key], df_y[key]], axis=1)\n",
    "  \n",
    "  out_data['transformers'] = transformers\n",
    "\n",
    "  return out_data"
   ]
  },
  {
   "cell_type": "code",
   "execution_count": 188,
   "metadata": {
    "id": "mOH6DKO7cIG3"
   },
   "outputs": [],
   "source": [
    "def run_data_prep():\n",
    "  \"\"\"\n",
    "    Prepare data sets.\n",
    "  \"\"\"\n",
    "  df_data = {}\n",
    "  df_extend_data = {}\n",
    "\n",
    "  # split dataset on train, validation and test subsets\n",
    "  dataset = split_data(df, features, target, train_size, test_size, val_size)\n",
    "\n",
    "  # create train dataset\n",
    "  x_train = dataset['x_train'].reset_index()[features]\n",
    "  y_train = dataset['y_train'].reset_index()[target]\n",
    "  train_data = pd.concat([x_train, y_train], axis=1)\n",
    "  df_data['train_data'] = train_data\n",
    "\n",
    "  # create validation dataset\n",
    "  x_val = dataset['x_val'].reset_index()[features]\n",
    "  y_val = dataset['y_val'].reset_index()[target]\n",
    "  val_data = pd.concat([x_val, y_val], axis=1)\n",
    "  df_data['val_data'] = val_data\n",
    "  \n",
    "  # create test dataset\n",
    "  x_test = dataset['x_test'].reset_index()[features]\n",
    "  y_test = dataset['y_test'].reset_index()[target]\n",
    "  test_data = pd.concat([x_test, y_test], axis=1)\n",
    "  df_data['test_data'] = test_data\n",
    "\n",
    "  # normalize input data\n",
    "  out_data = normalize_features(df_data, features, target)\n",
    "\n",
    "  # create new dataset with more input samples\n",
    "  new_data = cause_relevant_features(dataset['x_train'], features, f_range)\n",
    "  new_data = get_target_values(new_data, target)\n",
    "  new_data = new_data.reset_index()[features + target]\n",
    "  train_new_data = create_extra_train_dataset(train_data, new_data)\n",
    "  train_new_data = train_new_data.reset_index()[features + target]\n",
    "  df_extend_data['train_data'] = train_new_data\n",
    "  df_extend_data['val_data'] = val_data\n",
    "  df_extend_data['test_data'] = test_data\n",
    "\n",
    "  # normalize extended input data\n",
    "  out_new_data = normalize_features(df_extend_data, features, target)\n",
    "\n",
    "  return out_data, out_new_data\n"
   ]
  },
  {
   "cell_type": "code",
   "execution_count": 189,
   "metadata": {},
   "outputs": [],
   "source": [
    "def create_input_datasets(df_data: dict, features: list, target: list, batch_size: int):\n",
    "  \"\"\"\n",
    "  Create tensorflow datasets based on input dataframes for train, validation \n",
    "  and test subsets.\n",
    "  param df_data: dictionary, keys=names of dataframes, columns=dataframes\n",
    "  return:        dictionary, keys=names of datasets, columns=datasets\n",
    "  \"\"\"\n",
    "\n",
    "  # create train dataset for input in tensorflow model\n",
    "  train_dataset = tf.data.Dataset.from_tensor_slices((df_data['train_data'][features], \n",
    "                                                      df_data['train_data'][target]))\n",
    "  train_dataset = train_dataset.batch(batch_size)\n",
    "  train_ds = train_dataset.cache().prefetch(buffer_size=AUTOTUNE)\n",
    "\n",
    "  # create validation dataset for input in tensorflow model\n",
    "  val_dataset = tf.data.Dataset.from_tensor_slices((df_data['val_data'][features], \n",
    "                                                    df_data['val_data'][target]))\n",
    "  val_dataset = val_dataset.batch(batch_size)\n",
    "  val_ds = val_dataset.cache().prefetch(buffer_size=AUTOTUNE)\n",
    "\n",
    "  # create validation dataset for input in tensorflow model\n",
    "  test_dataset = tf.data.Dataset.from_tensor_slices((df_data['test_data'][features], \n",
    "                                                     df_data['test_data'][target]))\n",
    "  test_dataset = test_dataset.batch(batch_size)\n",
    "  test_ds = test_dataset.cache().prefetch(buffer_size=AUTOTUNE)\n",
    "\n",
    "  datasets = {\n",
    "      'train_dataset': train_dataset,\n",
    "      'val_dataset': val_dataset,\n",
    "      'test_dataset': test_dataset\n",
    "  } \n",
    "\n",
    "  return datasets"
   ]
  },
  {
   "cell_type": "code",
   "execution_count": 190,
   "metadata": {
    "scrolled": true
   },
   "outputs": [],
   "source": [
    "out_data, out_new_data = run_data_prep()\n",
    "datasets = create_input_datasets(out_data['data'], features, target, batch_size)\n",
    "datasets_extended = create_input_datasets(out_new_data['data'], features, target, batch_size)"
   ]
  },
  {
   "cell_type": "markdown",
   "metadata": {},
   "source": [
    "### Create model"
   ]
  },
  {
   "cell_type": "code",
   "execution_count": 191,
   "metadata": {},
   "outputs": [],
   "source": [
    "# define loss functions\n",
    "from tensorflow.keras import backend as K\n",
    "\n",
    "def rmse():\n",
    "  def root_mean_squared_error(y_true, y_pred):\n",
    "        return K.sqrt(K.mean(K.square(y_pred - y_true))) \n",
    "  return root_mean_squared_error\n",
    "\n",
    "def rmsle():\n",
    "  def root_mean_squared_log_error(y_true, y_pred):\n",
    "    return K.sqrt(K.mean(K.square(K.log(1+y_pred) - K.log(1+y_true))))\n",
    "  return root_mean_squared_log_error"
   ]
  },
  {
   "cell_type": "code",
   "execution_count": 192,
   "metadata": {},
   "outputs": [],
   "source": [
    "def model_builder(hp):\n",
    "  \"\"\"\n",
    "  Regression model.\n",
    "  \"\"\"\n",
    "    \n",
    "  hp_units = hp.Int('units', min_value=len(features), max_value=len(features)*8, step=len(features))\n",
    "\n",
    "  activation=hp.Choice(\n",
    "        'dense_activation',\n",
    "        values=['relu', 'tanh', 'sigmoid'],\n",
    "        default='relu'\n",
    "    )\n",
    "  \n",
    "  # set input shape\n",
    "  inputs = Input(shape=(len(features)), name=\"input_vineyard\")\n",
    "  \n",
    "  # add skip connections\n",
    "  x = Dense(units=len(features)*7, activation=\"relu\",\n",
    "           kernel_regularizer=tf.keras.regularizers.L2(1e-4),\n",
    "           bias_regularizer=tf.keras.regularizers.L2(1e-4))(inputs)\n",
    "    \n",
    "  block_out_1 = Dense(units=len(features)*8, activation=\"relu\",\n",
    "                     kernel_regularizer=tf.keras.regularizers.L2(1e-4),\n",
    "                     bias_regularizer=tf.keras.regularizers.L2(1e-4))(x)\n",
    "  \n",
    "  x = Dense(units=len(features)*8, activation=\"relu\",\n",
    "           kernel_regularizer=tf.keras.regularizers.L2(1e-4),\n",
    "           bias_regularizer=tf.keras.regularizers.L2(1e-4))(block_out_1)\n",
    "\n",
    "  x = Dense(units=len(features)*8, activation=\"relu\",\n",
    "           kernel_regularizer=tf.keras.regularizers.L2(1e-4),\n",
    "           bias_regularizer=tf.keras.regularizers.L2(1e-4))(x)\n",
    "  \n",
    "  block_out_2 = add([x, block_out_1])\n",
    "  \n",
    "  # add batch normalization\n",
    "  normalized = BatchNormalization()(block_out_2)\n",
    "\n",
    "  x = Dense(units=hp_units, activation=activation,\n",
    "           kernel_regularizer=tf.keras.regularizers.L2(1e-4),\n",
    "           bias_regularizer=tf.keras.regularizers.L2(1e-4))(normalized)\n",
    "    \n",
    "  x = Dropout(rate=hp.Float(\n",
    "                'dropout_1',\n",
    "                min_value=0.1,\n",
    "                max_value=0.5,\n",
    "                default=0.25,\n",
    "                step=0.1,\n",
    "            ))(x)\n",
    "\n",
    "  x = Dense(units=hp_units, activation=activation,\n",
    "           kernel_regularizer=tf.keras.regularizers.L2(1e-4),\n",
    "           bias_regularizer=tf.keras.regularizers.L2(1e-4))(x)\n",
    "  \n",
    "  # add dropout layers\n",
    "  x = Dropout(rate=hp.Float(\n",
    "                'dropout_2',\n",
    "                min_value=0.1,\n",
    "                max_value=0.5,\n",
    "                default=0.25,\n",
    "                step=0.1,\n",
    "            ))(x)\n",
    "    \n",
    "  outputs = Dense(units=1)(x)\n",
    "\n",
    "  model = keras.Model(inputs, outputs, name=\"vineyard_regressor\")\n",
    "\n",
    "  hp_learning_rate = hp.Choice('learning_rate', values=[1e-2, 1e-3, 1e-4])\n",
    "  \n",
    "  model.compile(optimizer=keras.optimizers.Adam(learning_rate=hp_learning_rate),\n",
    "                loss=\"mse\",\n",
    "                metrics=['mean_absolute_error'])\n",
    "\n",
    "  return model"
   ]
  },
  {
   "cell_type": "markdown",
   "metadata": {},
   "source": [
    "### Hyperparameter optimization"
   ]
  },
  {
   "cell_type": "code",
   "execution_count": 195,
   "metadata": {},
   "outputs": [],
   "source": [
    "def set_hyperparameter_optimizer(strategy):\n",
    "  \"\"\"\n",
    "  Set hyperparameter optimizer.\n",
    "  \"\"\"\n",
    "  \n",
    "  tuner = kt.Hyperband(\n",
    "        hypermodel=model_builder,\n",
    "        objective=\"val_mean_absolute_error\",\n",
    "        max_epochs=10,\n",
    "        factor=2,\n",
    "        hyperband_iterations=3,\n",
    "        distribution_strategy=strategy,\n",
    "        directory='HpResultsDir',\n",
    "        project_name='vineyard_model')\n",
    "\n",
    "  return tuner"
   ]
  },
  {
   "cell_type": "code",
   "execution_count": 196,
   "metadata": {},
   "outputs": [],
   "source": [
    "# define early stop callback to prevent overfitting\n",
    "stop_early = tf.keras.callbacks.EarlyStopping(monitor='val_mean_absolute_error', patience=10, mode='min')"
   ]
  },
  {
   "cell_type": "code",
   "execution_count": 197,
   "metadata": {},
   "outputs": [],
   "source": [
    "tuner = set_hyperparameter_optimizer(strategy)"
   ]
  },
  {
   "cell_type": "markdown",
   "metadata": {},
   "source": [
    "Tune hyperparameters on non-extended train dataset."
   ]
  },
  {
   "cell_type": "code",
   "execution_count": 198,
   "metadata": {},
   "outputs": [
    {
     "name": "stdout",
     "output_type": "stream",
     "text": [
      "Trial 138 Complete [00h 00m 02s]\n",
      "val_mean_absolute_error: 0.7831605672836304\n",
      "\n",
      "Best val_mean_absolute_error So Far: 0.24229605495929718\n",
      "Total elapsed time: 00h 03m 29s\n",
      "INFO:tensorflow:Oracle triggered exit\n"
     ]
    }
   ],
   "source": [
    "tuner.search(datasets['train_dataset'],\n",
    "             validation_data=datasets['val_dataset'],\n",
    "             epochs=10,\n",
    "             callbacks=[stop_early])\n",
    "\n",
    "# get optimal hyperparameters\n",
    "best_hps = tuner.get_best_hyperparameters(num_trials=1)[0]"
   ]
  },
  {
   "cell_type": "markdown",
   "metadata": {},
   "source": [
    "### Training process\n",
    "Training will be done on two different datasets (dataset, dataset_extended)."
   ]
  },
  {
   "cell_type": "code",
   "execution_count": 199,
   "metadata": {},
   "outputs": [],
   "source": [
    "def plot_training_results(history, epochs):\n",
    "\n",
    "  acc = history.history['mean_absolute_error']\n",
    "  val_acc = history.history['val_mean_absolute_error']\n",
    "\n",
    "  loss = history.history['loss']\n",
    "  val_loss = history.history['val_loss']\n",
    "\n",
    "  epochs_range = range(epochs)\n",
    "\n",
    "  plt.figure(figsize=(8, 8))\n",
    "  plt.subplot(1, 2, 1)\n",
    "  plt.plot(epochs_range, acc, label='Training MAE')\n",
    "  plt.plot(epochs_range, val_acc, label='Validation MAE')\n",
    "  plt.legend(loc='upper right')\n",
    "  plt.title('Training and Validation MAE')\n",
    "\n",
    "  plt.subplot(1, 2, 2)\n",
    "  plt.plot(epochs_range, loss, label='Training Loss')\n",
    "  plt.plot(epochs_range, val_loss, label='Validation Loss')\n",
    "  plt.legend(loc='upper right')\n",
    "  plt.title('Training and Validation Loss')\n",
    "  plt.show()"
   ]
  },
  {
   "cell_type": "markdown",
   "metadata": {},
   "source": [
    "#### Process 1\n",
    "dataset = dataset"
   ]
  },
  {
   "cell_type": "code",
   "execution_count": 200,
   "metadata": {},
   "outputs": [
    {
     "name": "stdout",
     "output_type": "stream",
     "text": [
      "Epoch 1/100\n",
      "4/4 [==============================] - 1s 46ms/step - loss: 0.8503 - mean_absolute_error: 0.7040 - val_loss: 0.3022 - val_mean_absolute_error: 0.4244\n",
      "Epoch 2/100\n",
      "4/4 [==============================] - 0s 5ms/step - loss: 0.4477 - mean_absolute_error: 0.5423 - val_loss: 0.2905 - val_mean_absolute_error: 0.4344\n",
      "Epoch 3/100\n",
      "4/4 [==============================] - 0s 5ms/step - loss: 0.2673 - mean_absolute_error: 0.4200 - val_loss: 0.1834 - val_mean_absolute_error: 0.3507\n",
      "Epoch 4/100\n",
      "4/4 [==============================] - 0s 5ms/step - loss: 0.2344 - mean_absolute_error: 0.3511 - val_loss: 0.1664 - val_mean_absolute_error: 0.3334\n",
      "Epoch 5/100\n",
      "4/4 [==============================] - 0s 5ms/step - loss: 0.1670 - mean_absolute_error: 0.3006 - val_loss: 0.1603 - val_mean_absolute_error: 0.3124\n",
      "Epoch 6/100\n",
      "4/4 [==============================] - 0s 5ms/step - loss: 0.1532 - mean_absolute_error: 0.3009 - val_loss: 0.1556 - val_mean_absolute_error: 0.2862\n",
      "Epoch 7/100\n",
      "4/4 [==============================] - 0s 5ms/step - loss: 0.1886 - mean_absolute_error: 0.3108 - val_loss: 0.1340 - val_mean_absolute_error: 0.2665\n",
      "Epoch 8/100\n",
      "4/4 [==============================] - 0s 5ms/step - loss: 0.1761 - mean_absolute_error: 0.3069 - val_loss: 0.1687 - val_mean_absolute_error: 0.3271\n",
      "Epoch 9/100\n",
      "4/4 [==============================] - 0s 6ms/step - loss: 0.1152 - mean_absolute_error: 0.2498 - val_loss: 0.1274 - val_mean_absolute_error: 0.2794\n",
      "Epoch 10/100\n",
      "4/4 [==============================] - 0s 6ms/step - loss: 0.1111 - mean_absolute_error: 0.2495 - val_loss: 0.1340 - val_mean_absolute_error: 0.2942\n",
      "Epoch 11/100\n",
      "4/4 [==============================] - 0s 5ms/step - loss: 0.1185 - mean_absolute_error: 0.2529 - val_loss: 0.1383 - val_mean_absolute_error: 0.2976\n",
      "Epoch 12/100\n",
      "4/4 [==============================] - 0s 5ms/step - loss: 0.0951 - mean_absolute_error: 0.2175 - val_loss: 0.1376 - val_mean_absolute_error: 0.2927\n",
      "Epoch 13/100\n",
      "4/4 [==============================] - 0s 5ms/step - loss: 0.0837 - mean_absolute_error: 0.2075 - val_loss: 0.0992 - val_mean_absolute_error: 0.2348\n",
      "Epoch 14/100\n",
      "4/4 [==============================] - 0s 5ms/step - loss: 0.0934 - mean_absolute_error: 0.2218 - val_loss: 0.1361 - val_mean_absolute_error: 0.2866\n",
      "Epoch 15/100\n",
      "4/4 [==============================] - 0s 5ms/step - loss: 0.0817 - mean_absolute_error: 0.1957 - val_loss: 0.1287 - val_mean_absolute_error: 0.2852\n",
      "Epoch 16/100\n",
      "4/4 [==============================] - 0s 5ms/step - loss: 0.0740 - mean_absolute_error: 0.1855 - val_loss: 0.0982 - val_mean_absolute_error: 0.2375\n",
      "Epoch 17/100\n",
      "4/4 [==============================] - 0s 5ms/step - loss: 0.0732 - mean_absolute_error: 0.1901 - val_loss: 0.0960 - val_mean_absolute_error: 0.2339\n",
      "Epoch 18/100\n",
      "4/4 [==============================] - 0s 5ms/step - loss: 0.0787 - mean_absolute_error: 0.1972 - val_loss: 0.0990 - val_mean_absolute_error: 0.2361\n",
      "Epoch 19/100\n",
      "4/4 [==============================] - 0s 5ms/step - loss: 0.0825 - mean_absolute_error: 0.2083 - val_loss: 0.1097 - val_mean_absolute_error: 0.2475\n",
      "Epoch 20/100\n",
      "4/4 [==============================] - 0s 5ms/step - loss: 0.0736 - mean_absolute_error: 0.1963 - val_loss: 0.0991 - val_mean_absolute_error: 0.2299\n",
      "Epoch 21/100\n",
      "4/4 [==============================] - 0s 5ms/step - loss: 0.0697 - mean_absolute_error: 0.1777 - val_loss: 0.0806 - val_mean_absolute_error: 0.2012\n",
      "Epoch 22/100\n",
      "4/4 [==============================] - 0s 5ms/step - loss: 0.0740 - mean_absolute_error: 0.1788 - val_loss: 0.0814 - val_mean_absolute_error: 0.2057\n",
      "Epoch 23/100\n",
      "4/4 [==============================] - 0s 5ms/step - loss: 0.0619 - mean_absolute_error: 0.1748 - val_loss: 0.1192 - val_mean_absolute_error: 0.2670\n",
      "Epoch 24/100\n",
      "4/4 [==============================] - 0s 5ms/step - loss: 0.0640 - mean_absolute_error: 0.1617 - val_loss: 0.0975 - val_mean_absolute_error: 0.2340\n",
      "Epoch 25/100\n",
      "4/4 [==============================] - 0s 5ms/step - loss: 0.0591 - mean_absolute_error: 0.1615 - val_loss: 0.0724 - val_mean_absolute_error: 0.1961\n",
      "Epoch 26/100\n",
      "4/4 [==============================] - 0s 5ms/step - loss: 0.0510 - mean_absolute_error: 0.1541 - val_loss: 0.1062 - val_mean_absolute_error: 0.2582\n",
      "Epoch 27/100\n",
      "4/4 [==============================] - 0s 5ms/step - loss: 0.0526 - mean_absolute_error: 0.1551 - val_loss: 0.1038 - val_mean_absolute_error: 0.2540\n",
      "Epoch 28/100\n",
      "4/4 [==============================] - 0s 5ms/step - loss: 0.0594 - mean_absolute_error: 0.1690 - val_loss: 0.0909 - val_mean_absolute_error: 0.2266\n",
      "Epoch 29/100\n",
      "4/4 [==============================] - 0s 5ms/step - loss: 0.0555 - mean_absolute_error: 0.1468 - val_loss: 0.0855 - val_mean_absolute_error: 0.2162\n",
      "Epoch 30/100\n",
      "4/4 [==============================] - 0s 5ms/step - loss: 0.0482 - mean_absolute_error: 0.1467 - val_loss: 0.0806 - val_mean_absolute_error: 0.2117\n",
      "Epoch 31/100\n",
      "4/4 [==============================] - 0s 5ms/step - loss: 0.0532 - mean_absolute_error: 0.1575 - val_loss: 0.0843 - val_mean_absolute_error: 0.2158\n",
      "Epoch 32/100\n",
      "4/4 [==============================] - 0s 5ms/step - loss: 0.0456 - mean_absolute_error: 0.1409 - val_loss: 0.0605 - val_mean_absolute_error: 0.1738\n",
      "Epoch 33/100\n",
      "4/4 [==============================] - 0s 5ms/step - loss: 0.0520 - mean_absolute_error: 0.1475 - val_loss: 0.0766 - val_mean_absolute_error: 0.2066\n",
      "Epoch 34/100\n",
      "4/4 [==============================] - 0s 5ms/step - loss: 0.0595 - mean_absolute_error: 0.1592 - val_loss: 0.0652 - val_mean_absolute_error: 0.1824\n",
      "Epoch 35/100\n",
      "4/4 [==============================] - 0s 5ms/step - loss: 0.0549 - mean_absolute_error: 0.1503 - val_loss: 0.0649 - val_mean_absolute_error: 0.1849\n",
      "Epoch 36/100\n",
      "4/4 [==============================] - 0s 5ms/step - loss: 0.0486 - mean_absolute_error: 0.1410 - val_loss: 0.0772 - val_mean_absolute_error: 0.2111\n",
      "Epoch 37/100\n",
      "4/4 [==============================] - 0s 5ms/step - loss: 0.0682 - mean_absolute_error: 0.1687 - val_loss: 0.0454 - val_mean_absolute_error: 0.1428\n",
      "Epoch 38/100\n",
      "4/4 [==============================] - 0s 5ms/step - loss: 0.0510 - mean_absolute_error: 0.1514 - val_loss: 0.0774 - val_mean_absolute_error: 0.2113\n",
      "Epoch 39/100\n",
      "4/4 [==============================] - 0s 5ms/step - loss: 0.0516 - mean_absolute_error: 0.1465 - val_loss: 0.0360 - val_mean_absolute_error: 0.1204\n",
      "Epoch 40/100\n",
      "4/4 [==============================] - 0s 4ms/step - loss: 0.0529 - mean_absolute_error: 0.1468 - val_loss: 0.0551 - val_mean_absolute_error: 0.1657\n",
      "Epoch 41/100\n",
      "4/4 [==============================] - 0s 5ms/step - loss: 0.0544 - mean_absolute_error: 0.1606 - val_loss: 0.0412 - val_mean_absolute_error: 0.1326\n",
      "Epoch 42/100\n",
      "4/4 [==============================] - 0s 5ms/step - loss: 0.0485 - mean_absolute_error: 0.1390 - val_loss: 0.0376 - val_mean_absolute_error: 0.1146\n",
      "Epoch 43/100\n",
      "4/4 [==============================] - 0s 5ms/step - loss: 0.0514 - mean_absolute_error: 0.1438 - val_loss: 0.0763 - val_mean_absolute_error: 0.2023\n",
      "Epoch 44/100\n",
      "4/4 [==============================] - 0s 4ms/step - loss: 0.0528 - mean_absolute_error: 0.1488 - val_loss: 0.0429 - val_mean_absolute_error: 0.1398\n",
      "Epoch 45/100\n",
      "4/4 [==============================] - 0s 4ms/step - loss: 0.0596 - mean_absolute_error: 0.1594 - val_loss: 0.0327 - val_mean_absolute_error: 0.1115\n",
      "Epoch 46/100\n",
      "4/4 [==============================] - 0s 4ms/step - loss: 0.0437 - mean_absolute_error: 0.1361 - val_loss: 0.0495 - val_mean_absolute_error: 0.1548\n",
      "Epoch 47/100\n",
      "4/4 [==============================] - 0s 4ms/step - loss: 0.0501 - mean_absolute_error: 0.1456 - val_loss: 0.0499 - val_mean_absolute_error: 0.1465\n",
      "Epoch 48/100\n",
      "4/4 [==============================] - 0s 4ms/step - loss: 0.0531 - mean_absolute_error: 0.1401 - val_loss: 0.0451 - val_mean_absolute_error: 0.1387\n",
      "Epoch 49/100\n",
      "4/4 [==============================] - 0s 4ms/step - loss: 0.0473 - mean_absolute_error: 0.1411 - val_loss: 0.0570 - val_mean_absolute_error: 0.1751\n",
      "Epoch 50/100\n",
      "4/4 [==============================] - 0s 4ms/step - loss: 0.0468 - mean_absolute_error: 0.1386 - val_loss: 0.0383 - val_mean_absolute_error: 0.1206\n",
      "Epoch 51/100\n"
     ]
    },
    {
     "name": "stdout",
     "output_type": "stream",
     "text": [
      "4/4 [==============================] - 0s 4ms/step - loss: 0.0419 - mean_absolute_error: 0.1259 - val_loss: 0.0412 - val_mean_absolute_error: 0.1352\n",
      "Epoch 52/100\n",
      "4/4 [==============================] - 0s 4ms/step - loss: 0.0438 - mean_absolute_error: 0.1278 - val_loss: 0.0344 - val_mean_absolute_error: 0.1121\n",
      "Epoch 53/100\n",
      "4/4 [==============================] - 0s 4ms/step - loss: 0.0473 - mean_absolute_error: 0.1381 - val_loss: 0.0446 - val_mean_absolute_error: 0.1440\n",
      "Epoch 54/100\n",
      "4/4 [==============================] - 0s 4ms/step - loss: 0.0451 - mean_absolute_error: 0.1336 - val_loss: 0.0371 - val_mean_absolute_error: 0.1275\n",
      "Epoch 55/100\n",
      "4/4 [==============================] - 0s 4ms/step - loss: 0.0434 - mean_absolute_error: 0.1292 - val_loss: 0.0306 - val_mean_absolute_error: 0.1063\n",
      "Epoch 56/100\n",
      "4/4 [==============================] - 0s 4ms/step - loss: 0.0413 - mean_absolute_error: 0.1292 - val_loss: 0.0360 - val_mean_absolute_error: 0.1257\n",
      "Epoch 57/100\n",
      "4/4 [==============================] - 0s 4ms/step - loss: 0.0498 - mean_absolute_error: 0.1489 - val_loss: 0.0333 - val_mean_absolute_error: 0.1071\n",
      "Epoch 58/100\n",
      "4/4 [==============================] - 0s 4ms/step - loss: 0.0536 - mean_absolute_error: 0.1487 - val_loss: 0.0489 - val_mean_absolute_error: 0.1587\n",
      "Epoch 59/100\n",
      "4/4 [==============================] - 0s 6ms/step - loss: 0.0474 - mean_absolute_error: 0.1360 - val_loss: 0.0373 - val_mean_absolute_error: 0.1193\n",
      "Epoch 60/100\n",
      "4/4 [==============================] - 0s 4ms/step - loss: 0.0434 - mean_absolute_error: 0.1272 - val_loss: 0.0252 - val_mean_absolute_error: 0.0861\n",
      "Epoch 61/100\n",
      "4/4 [==============================] - 0s 5ms/step - loss: 0.0476 - mean_absolute_error: 0.1349 - val_loss: 0.0367 - val_mean_absolute_error: 0.1273\n",
      "Epoch 62/100\n",
      "4/4 [==============================] - 0s 4ms/step - loss: 0.0445 - mean_absolute_error: 0.1304 - val_loss: 0.0322 - val_mean_absolute_error: 0.1028\n",
      "Epoch 63/100\n",
      "4/4 [==============================] - 0s 4ms/step - loss: 0.0428 - mean_absolute_error: 0.1268 - val_loss: 0.0301 - val_mean_absolute_error: 0.1000\n",
      "Epoch 64/100\n",
      "4/4 [==============================] - 0s 4ms/step - loss: 0.0455 - mean_absolute_error: 0.1373 - val_loss: 0.0336 - val_mean_absolute_error: 0.1178\n",
      "Epoch 65/100\n",
      "4/4 [==============================] - 0s 4ms/step - loss: 0.0424 - mean_absolute_error: 0.1315 - val_loss: 0.0307 - val_mean_absolute_error: 0.1079\n",
      "Epoch 66/100\n",
      "4/4 [==============================] - 0s 4ms/step - loss: 0.0391 - mean_absolute_error: 0.1282 - val_loss: 0.0310 - val_mean_absolute_error: 0.1128\n",
      "Epoch 67/100\n",
      "4/4 [==============================] - 0s 4ms/step - loss: 0.0349 - mean_absolute_error: 0.1172 - val_loss: 0.0291 - val_mean_absolute_error: 0.0999\n",
      "Epoch 68/100\n",
      "4/4 [==============================] - 0s 4ms/step - loss: 0.0451 - mean_absolute_error: 0.1385 - val_loss: 0.0285 - val_mean_absolute_error: 0.0952\n",
      "Epoch 69/100\n",
      "4/4 [==============================] - 0s 4ms/step - loss: 0.0418 - mean_absolute_error: 0.1298 - val_loss: 0.0302 - val_mean_absolute_error: 0.1007\n",
      "Epoch 70/100\n",
      "4/4 [==============================] - 0s 4ms/step - loss: 0.0496 - mean_absolute_error: 0.1473 - val_loss: 0.0234 - val_mean_absolute_error: 0.0867\n"
     ]
    }
   ],
   "source": [
    "model = tuner.hypermodel.build(best_hps)\n",
    "epochs = 100\n",
    "history_dat = model.fit(datasets['train_dataset'],\n",
    "                        validation_data=datasets['val_dataset'],\n",
    "                        epochs=epochs,\n",
    "                        callbacks=[stop_early]\n",
    "                       )"
   ]
  },
  {
   "cell_type": "code",
   "execution_count": 201,
   "metadata": {},
   "outputs": [
    {
     "data": {
      "image/png": "[encoded data removed]",
      "text/plain": [
       "<Figure size 576x576 with 2 Axes>"
      ]
     },
     "metadata": {
      "needs_background": "light"
     },
     "output_type": "display_data"
    }
   ],
   "source": [
    "epochs = len(history_dat.history['loss'])\n",
    "plot_training_results(history_dat, epochs)"
   ]
  },
  {
   "cell_type": "markdown",
   "metadata": {},
   "source": [
    "#### Process 2\n",
    "dataset = dataset_extended"
   ]
  },
  {
   "cell_type": "code",
   "execution_count": 202,
   "metadata": {},
   "outputs": [
    {
     "name": "stdout",
     "output_type": "stream",
     "text": [
      "Epoch 1/100\n",
      "8/8 [==============================] - 1s 20ms/step - loss: 0.7394 - mean_absolute_error: 0.6589 - val_loss: 0.4054 - val_mean_absolute_error: 0.5243\n",
      "Epoch 2/100\n",
      "8/8 [==============================] - 0s 3ms/step - loss: 0.3265 - mean_absolute_error: 0.4407 - val_loss: 0.4511 - val_mean_absolute_error: 0.5588\n",
      "Epoch 3/100\n",
      "8/8 [==============================] - 0s 3ms/step - loss: 0.2928 - mean_absolute_error: 0.4398 - val_loss: 0.3231 - val_mean_absolute_error: 0.4640\n",
      "Epoch 4/100\n",
      "8/8 [==============================] - 0s 3ms/step - loss: 0.1682 - mean_absolute_error: 0.3118 - val_loss: 0.2621 - val_mean_absolute_error: 0.4093\n",
      "Epoch 5/100\n",
      "8/8 [==============================] - 0s 3ms/step - loss: 0.2226 - mean_absolute_error: 0.3647 - val_loss: 0.2758 - val_mean_absolute_error: 0.4188\n",
      "Epoch 6/100\n",
      "8/8 [==============================] - 0s 3ms/step - loss: 0.1550 - mean_absolute_error: 0.2845 - val_loss: 0.2600 - val_mean_absolute_error: 0.4109\n",
      "Epoch 7/100\n",
      "8/8 [==============================] - 0s 3ms/step - loss: 0.1519 - mean_absolute_error: 0.2905 - val_loss: 0.2287 - val_mean_absolute_error: 0.3733\n",
      "Epoch 8/100\n",
      "8/8 [==============================] - 0s 3ms/step - loss: 0.1323 - mean_absolute_error: 0.2718 - val_loss: 0.1575 - val_mean_absolute_error: 0.2979\n",
      "Epoch 9/100\n",
      "8/8 [==============================] - 0s 3ms/step - loss: 0.1213 - mean_absolute_error: 0.2624 - val_loss: 0.2493 - val_mean_absolute_error: 0.3958\n",
      "Epoch 10/100\n",
      "8/8 [==============================] - 0s 3ms/step - loss: 0.1112 - mean_absolute_error: 0.2451 - val_loss: 0.2155 - val_mean_absolute_error: 0.3675\n",
      "Epoch 11/100\n",
      "8/8 [==============================] - 0s 3ms/step - loss: 0.0991 - mean_absolute_error: 0.2297 - val_loss: 0.0941 - val_mean_absolute_error: 0.2203\n",
      "Epoch 12/100\n",
      "8/8 [==============================] - 0s 3ms/step - loss: 0.1016 - mean_absolute_error: 0.2286 - val_loss: 0.2263 - val_mean_absolute_error: 0.3845\n",
      "Epoch 13/100\n",
      "8/8 [==============================] - 0s 3ms/step - loss: 0.0973 - mean_absolute_error: 0.2202 - val_loss: 0.1230 - val_mean_absolute_error: 0.2634\n",
      "Epoch 14/100\n",
      "8/8 [==============================] - 0s 3ms/step - loss: 0.0806 - mean_absolute_error: 0.1990 - val_loss: 0.0778 - val_mean_absolute_error: 0.1977\n",
      "Epoch 15/100\n",
      "8/8 [==============================] - 0s 3ms/step - loss: 0.0870 - mean_absolute_error: 0.2115 - val_loss: 0.0752 - val_mean_absolute_error: 0.1879\n",
      "Epoch 16/100\n",
      "8/8 [==============================] - 0s 3ms/step - loss: 0.0803 - mean_absolute_error: 0.1995 - val_loss: 0.0742 - val_mean_absolute_error: 0.1849\n",
      "Epoch 17/100\n",
      "8/8 [==============================] - 0s 3ms/step - loss: 0.0773 - mean_absolute_error: 0.1929 - val_loss: 0.0565 - val_mean_absolute_error: 0.1525\n",
      "Epoch 18/100\n",
      "8/8 [==============================] - 0s 3ms/step - loss: 0.0730 - mean_absolute_error: 0.1852 - val_loss: 0.1070 - val_mean_absolute_error: 0.2473\n",
      "Epoch 19/100\n",
      "8/8 [==============================] - 0s 3ms/step - loss: 0.0871 - mean_absolute_error: 0.2009 - val_loss: 0.0394 - val_mean_absolute_error: 0.1210\n",
      "Epoch 20/100\n",
      "8/8 [==============================] - 0s 3ms/step - loss: 0.0717 - mean_absolute_error: 0.1811 - val_loss: 0.0668 - val_mean_absolute_error: 0.1806\n",
      "Epoch 21/100\n",
      "8/8 [==============================] - 0s 3ms/step - loss: 0.0706 - mean_absolute_error: 0.1779 - val_loss: 0.0446 - val_mean_absolute_error: 0.1374\n",
      "Epoch 22/100\n",
      "8/8 [==============================] - 0s 3ms/step - loss: 0.0840 - mean_absolute_error: 0.2008 - val_loss: 0.0405 - val_mean_absolute_error: 0.1205\n",
      "Epoch 23/100\n",
      "8/8 [==============================] - 0s 3ms/step - loss: 0.0635 - mean_absolute_error: 0.1728 - val_loss: 0.0907 - val_mean_absolute_error: 0.2105\n",
      "Epoch 24/100\n",
      "8/8 [==============================] - 0s 3ms/step - loss: 0.0849 - mean_absolute_error: 0.2014 - val_loss: 0.0616 - val_mean_absolute_error: 0.1657\n",
      "Epoch 25/100\n",
      "8/8 [==============================] - 0s 3ms/step - loss: 0.0794 - mean_absolute_error: 0.1951 - val_loss: 0.0461 - val_mean_absolute_error: 0.1428\n",
      "Epoch 26/100\n",
      "8/8 [==============================] - 0s 3ms/step - loss: 0.0645 - mean_absolute_error: 0.1725 - val_loss: 0.0451 - val_mean_absolute_error: 0.1318\n",
      "Epoch 27/100\n",
      "8/8 [==============================] - 0s 3ms/step - loss: 0.0648 - mean_absolute_error: 0.1763 - val_loss: 0.0465 - val_mean_absolute_error: 0.1425\n",
      "Epoch 28/100\n",
      "8/8 [==============================] - 0s 3ms/step - loss: 0.0719 - mean_absolute_error: 0.1802 - val_loss: 0.0454 - val_mean_absolute_error: 0.1365\n",
      "Epoch 29/100\n",
      "8/8 [==============================] - 0s 3ms/step - loss: 0.0720 - mean_absolute_error: 0.1903 - val_loss: 0.0415 - val_mean_absolute_error: 0.1239\n",
      "Epoch 30/100\n",
      "8/8 [==============================] - 0s 3ms/step - loss: 0.0706 - mean_absolute_error: 0.1849 - val_loss: 0.0505 - val_mean_absolute_error: 0.1538\n",
      "Epoch 31/100\n",
      "8/8 [==============================] - 0s 3ms/step - loss: 0.0633 - mean_absolute_error: 0.1684 - val_loss: 0.0526 - val_mean_absolute_error: 0.1525\n",
      "Epoch 32/100\n",
      "8/8 [==============================] - 0s 3ms/step - loss: 0.0678 - mean_absolute_error: 0.1772 - val_loss: 0.0541 - val_mean_absolute_error: 0.1638\n"
     ]
    }
   ],
   "source": [
    "model_extend = tuner.hypermodel.build(best_hps)\n",
    "epochs = 100\n",
    "history_dat_ext = model_extend.fit(datasets_extended['train_dataset'],\n",
    "                                   validation_data=datasets_extended['val_dataset'],\n",
    "                                   epochs=epochs,\n",
    "                                   callbacks=[stop_early]\n",
    "                                   )"
   ]
  },
  {
   "cell_type": "code",
   "execution_count": 203,
   "metadata": {},
   "outputs": [
    {
     "data": {
      "image/png": "[encoded data removed]",
      "text/plain": [
       "<Figure size 576x576 with 2 Axes>"
      ]
     },
     "metadata": {
      "needs_background": "light"
     },
     "output_type": "display_data"
    }
   ],
   "source": [
    "epochs = len(history_dat_ext.history['loss'])\n",
    "plot_training_results(history_dat_ext, epochs)"
   ]
  },
  {
   "cell_type": "markdown",
   "metadata": {},
   "source": [
    "### Calculate scores of both models on test sets"
   ]
  },
  {
   "cell_type": "code",
   "execution_count": 205,
   "metadata": {},
   "outputs": [],
   "source": [
    "predictions = out_data['transformers'][1].inverse_transform(model.predict(datasets['test_dataset'])).reshape(-1, 1)\n",
    "predictions_ext = out_new_data['transformers'][1].inverse_transform(model_extend.predict(datasets['test_dataset'])).reshape(-1, 1)"
   ]
  },
  {
   "cell_type": "code",
   "execution_count": 206,
   "metadata": {},
   "outputs": [],
   "source": [
    "y_real = np.concatenate([y for x, y in datasets['test_dataset']], axis=0)"
   ]
  },
  {
   "cell_type": "code",
   "execution_count": 207,
   "metadata": {},
   "outputs": [],
   "source": [
    "#Defining MAPE function\n",
    "def mape(y_true, predictions):\n",
    "    mape = np.mean(np.abs((y_true - predictions)/y_true))*100\n",
    "    return mape"
   ]
  },
  {
   "cell_type": "code",
   "execution_count": 208,
   "metadata": {},
   "outputs": [],
   "source": [
    "def calculate_scores(y_true, predictions, predictions_ext):\n",
    "    \"\"\"\n",
    "    Calculate scores for both models.\n",
    "    \"\"\"\n",
    "    estimators = {'BaseModel': \n",
    "              {\n",
    "                  'mae': mean_absolute_error(y_true, predictions),\n",
    "                  'mape': mape(y_true, predictions),\n",
    "                  'r2_score': r2_score(y_true, predictions),\n",
    "                  'y_predict': predictions\n",
    "              }, \n",
    "              'ExtendModel':\n",
    "              {\n",
    "                  'mae': mean_absolute_error(y_true, predictions_ext),\n",
    "                  'mape': mape(y_true, predictions_ext),\n",
    "                  'r2_score': r2_score(y_true, predictions_ext),\n",
    "                  'y_predict': predictions_ext\n",
    "              }\n",
    "             }\n",
    "    \n",
    "    return estimators\n",
    "    "
   ]
  },
  {
   "cell_type": "code",
   "execution_count": 209,
   "metadata": {},
   "outputs": [],
   "source": [
    "estimators = calculate_scores(y_real, predictions, predictions_ext)"
   ]
  },
  {
   "cell_type": "code",
   "execution_count": 210,
   "metadata": {},
   "outputs": [],
   "source": [
    "def plot_regression_results(ax, y_true, y_pred, title, scores):\n",
    "    \"\"\"Scatter plot of the predicted vs true targets. \"\"\"\n",
    "    \n",
    "    ax.plot([y_true.min(), y_true.max()],\n",
    "            [y_true.min(), y_true.max()],\n",
    "            '--r', linewidth=2)\n",
    "    ax.scatter(y_true, y_pred, alpha=0.2)\n",
    "\n",
    "    ax.spines['top'].set_visible(False)\n",
    "    ax.spines['right'].set_visible(False)\n",
    "    ax.get_xaxis().tick_bottom()\n",
    "    ax.get_yaxis().tick_left()\n",
    "    ax.spines['left'].set_position(('outward', 10))\n",
    "    ax.spines['bottom'].set_position(('outward', 10))\n",
    "    ax.set_xlim([y_true.min(), y_true.max()])\n",
    "    ax.set_ylim([y_true.min(), y_true.max()])\n",
    "    ax.set_xlabel('Measured')\n",
    "    ax.set_ylabel('Predicted')\n",
    "    extra = plt.Rectangle((0, 0), 0, 0, fc=\"w\", fill=False,\n",
    "                          edgecolor='none', linewidth=0)\n",
    "    ax.legend([extra], [scores], loc='upper left')\n",
    "    title = title\n",
    "    ax.set_title(title)"
   ]
  },
  {
   "cell_type": "code",
   "execution_count": 211,
   "metadata": {},
   "outputs": [
    {
     "data": {
      "image/png": "[encoded data removed]",
      "text/plain": [
       "<Figure size 648x504 with 2 Axes>"
      ]
     },
     "metadata": {
      "needs_background": "light"
     },
     "output_type": "display_data"
    }
   ],
   "source": [
    "fig, axs = plt.subplots(1, 2, figsize=(9, 7))\n",
    "axs = np.ravel(axs)\n",
    "\n",
    "for ax, name in zip(axs, list(estimators.keys())):\n",
    "    \n",
    "    plot_regression_results(\n",
    "        ax, y_real, estimators[name]['y_predict'],\n",
    "        name,\n",
    "        (r'r2_score={:.2f}' + '\\n' + r'mae={:.2f}' + '\\n' + r'mape={:.2f}')\n",
    "        .format(estimators[name]['r2_score'],\n",
    "                estimators[name]['mae'],\n",
    "                estimators[name]['mape']))\n",
    "\n",
    "plt.suptitle('Predictors comparison ')\n",
    "plt.tight_layout()\n",
    "plt.subplots_adjust(top=0.9)\n",
    "plt.show()"
   ]
  },
  {
   "cell_type": "markdown",
   "metadata": {},
   "source": [
    "### Conclusion\n",
    "Both models shows great results with r2_score between 0.96 and 0.99. ExtendModel with more training data give lower mae and mape scores which means that we add more noise to model with adding new data."
   ]
  },
  {
   "cell_type": "markdown",
   "metadata": {},
   "source": [
    "### Save models"
   ]
  },
  {
   "cell_type": "code",
   "execution_count": 212,
   "metadata": {},
   "outputs": [],
   "source": [
    "# save transformers\n",
    "dump(out_data['transformers'][0], open('./Transformers/BaseModelFT.pkl', 'wb'))\n",
    "dump(out_data['transformers'][1], open('./Transformers/BaseModelTT.pkl', 'wb'))\n",
    "dump(out_new_data['transformers'][0], open('./Transformers/ExtendModelFT.pkl', 'wb'))\n",
    "dump(out_new_data['transformers'][1], open('./Transformers/ExtendModelTT.pkl', 'wb'))"
   ]
  },
  {
   "cell_type": "code",
   "execution_count": 213,
   "metadata": {},
   "outputs": [
    {
     "name": "stdout",
     "output_type": "stream",
     "text": [
      "INFO:tensorflow:Assets written to: ./TensorflowModels/BaseModel\\assets\n"
     ]
    },
    {
     "name": "stderr",
     "output_type": "stream",
     "text": [
      "c:\\users\\mateo.polancec\\appdata\\local\\programs\\python\\python37\\lib\\site-packages\\tensorflow\\python\\keras\\utils\\generic_utils.py:497: CustomMaskWarning: Custom mask layers require a config and must override get_config. When loading, the custom mask layer must be passed to the custom_objects argument.\n",
      "  category=CustomMaskWarning)\n"
     ]
    },
    {
     "name": "stdout",
     "output_type": "stream",
     "text": [
      "INFO:tensorflow:Assets written to: ./TensorflowModels/ExtendModel\\assets\n"
     ]
    },
    {
     "name": "stderr",
     "output_type": "stream",
     "text": [
      "c:\\users\\mateo.polancec\\appdata\\local\\programs\\python\\python37\\lib\\site-packages\\tensorflow\\python\\keras\\utils\\generic_utils.py:497: CustomMaskWarning: Custom mask layers require a config and must override get_config. When loading, the custom mask layer must be passed to the custom_objects argument.\n",
      "  category=CustomMaskWarning)\n"
     ]
    }
   ],
   "source": [
    "# save tensorflow models models\n",
    "model.save('./TensorflowModels/BaseModel')\n",
    "model_extend.save('./TensorflowModels/ExtendModel')"
   ]
  },
  {
   "cell_type": "code",
   "execution_count": null,
   "metadata": {},
   "outputs": [],
   "source": []
  }
 ],
 "metadata": {
  "accelerator": "GPU",
  "colab": {
   "authorship_tag": "ABX9TyN/Q55MEcY+4fsHCdXN42FQ",
   "include_colab_link": true,
   "name": "SemanticSegmentation.ipynb",
   "provenance": []
  },
  "kernelspec": {
   "display_name": "Python 3",
   "language": "python",
   "name": "python3"
  },
  "language_info": {
   "codemirror_mode": {
    "name": "ipython",
    "version": 3
   },
   "file_extension": ".py",
   "mimetype": "text/x-python",
   "name": "python",
   "nbconvert_exporter": "python",
   "pygments_lexer": "ipython3",
   "version": "3.7.9"
  }
 },
 "nbformat": 4,
 "nbformat_minor": 1
}
