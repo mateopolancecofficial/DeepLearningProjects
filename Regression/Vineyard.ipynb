{
 "cells": [
  {
   "cell_type": "markdown",
   "metadata": {
    "colab_type": "text",
    "id": "view-in-github"
   },
   "source": [
    "<a href=\"https://colab.research.google.com/github/mateopolancecofficial/DeepLearningProjects/blob/main/Regression/Vineyard.ipynb\" target=\"_parent\"><img src=\"https://colab.research.google.com/assets/colab-badge.svg\" alt=\"Open In Colab\"/></a>"
   ]
  },
  {
   "cell_type": "markdown",
   "metadata": {},
   "source": [
    "### ML training pipeline\n",
    "    - load dataset\n",
    "    - preprocess input dataset\n",
    "    - create tensorflow regression model\n",
    "    - run hyperparameter optimization process\n",
    "    - get predictions on a test set\n",
    "    - calculate different metrics scores\n",
    "    - save and export models"
   ]
  },
  {
   "cell_type": "code",
   "execution_count": 34,
   "metadata": {
    "id": "4gaL1fd3f1d2"
   },
   "outputs": [],
   "source": [
    "import os\n",
    "import warnings\n",
    "from pathlib import Path\n",
    "\n",
    "import matplotlib.pyplot as plt\n",
    "import numpy as np\n",
    "import pandas as pd\n",
    "import seaborn as sns\n",
    "from IPython.display import display\n",
    "\n",
    "from sklearn.feature_selection import mutual_info_regression\n",
    "from sklearn.model_selection import KFold, cross_val_score\n",
    "from sklearn.model_selection import train_test_split\n",
    "\n",
    "from sklearn.model_selection import train_test_split\n",
    "from sklearn.metrics import r2_score, mean_absolute_error\n",
    "from sklearn.preprocessing import PowerTransformer\n",
    "from sklearn.decomposition import PCA\n",
    "from pickle import dump"
   ]
  },
  {
   "cell_type": "code",
   "execution_count": 35,
   "metadata": {
    "id": "o_qp9YS8gKiM"
   },
   "outputs": [],
   "source": [
    "import os\n",
    "import pandas as pd\n",
    "import numpy as np\n",
    "import tensorflow as tf\n",
    "import tensorflow_datasets as tfds\n",
    "from tensorflow import keras\n",
    "from tensorflow.keras.layers import (\n",
    "    Dense,\n",
    "    Dropout,\n",
    "    Input, \n",
    "    add,\n",
    "    BatchNormalization\n",
    ")\n",
    "\n",
    "import kerastuner as kt\n",
    "import matplotlib.pyplot as plt\n",
    "from sklearn.model_selection import train_test_split\n"
   ]
  },
  {
   "cell_type": "code",
   "execution_count": 36,
   "metadata": {
    "id": "soni8IcxQbIZ"
   },
   "outputs": [],
   "source": [
    "strategy = None\n",
    "if tf.test.is_gpu_available():\n",
    "  strategy = tf.distribute.MirroredStrategy()\n",
    "  print('Using GPU')"
   ]
  },
  {
   "cell_type": "code",
   "execution_count": 37,
   "metadata": {
    "id": "Mwv8sDiTPv_5"
   },
   "outputs": [],
   "source": [
    "# set column names\n",
    "columns = ['x0', 'x1', 'x2', 'x3', 'u']\n",
    "features = ['x0', 'x1', 'x2', 'x3']\n",
    "target = ['u']\n",
    "# define ranges of all features\n",
    "feature_ranges = {\"x0\": [1, 17], \"x1\": [-9, -4], \"x2\": [0, 3], \"x3\": [0, 50]}\n",
    "# path to data source\n",
    "source_path = \"./Data/podaci.csv\"\n",
    "# split sizes for train, validation and test subsets\n",
    "train_size, test_size, val_size = 0.8, 0.2, 0.2\n",
    "# num of new samples\n",
    "f_range = 100\n",
    "# set batch_size\n",
    "batch_size = 32\n",
    "AUTOTUNE = tf.data.AUTOTUNE"
   ]
  },
  {
   "cell_type": "code",
   "execution_count": 38,
   "metadata": {
    "id": "x6v4EYoLb56t"
   },
   "outputs": [],
   "source": [
    "df = pd.read_csv(source_path, names=columns)"
   ]
  },
  {
   "cell_type": "markdown",
   "metadata": {
    "id": "7WIkFVebcOhH"
   },
   "source": [
    "### Prepare datasets"
   ]
  },
  {
   "cell_type": "code",
   "execution_count": 39,
   "metadata": {
    "id": "Xbrlqq9sRZe1"
   },
   "outputs": [],
   "source": [
    "def split_data(df: pd.DataFrame, features: list, target: list, train_size: float, \n",
    "               test_size: float, val_size: float):\n",
    "  \"\"\"\n",
    "  Split dataset on train, test and validation subsets.\n",
    "  :param df:          input pandas DataFrame\n",
    "  :param features:    list of input features names\n",
    "  :param target:      list of target column names\n",
    "  :param train_size:  fraction of train size\n",
    "  :param test_size:   fraction of test size\n",
    "  :param val_size:    fraction of validation size\n",
    "  :return:            dictionary, keys=names of DataFrame, columns=DataFrame\n",
    "  \"\"\"\n",
    "  \n",
    "  # shuffle dataset\n",
    "  df = df.sample(frac = 1)\n",
    "  \n",
    "  # split on test and train set\n",
    "  x_train, x_test, y_train, y_test = train_test_split(df[features], df[target],\n",
    "                                     test_size=test_size, train_size=train_size)\n",
    "    \n",
    "  # split train set on train and validation subsets\n",
    "  x_train, x_val, y_train, y_val = train_test_split(x_train, y_train,\n",
    "                                      test_size=val_size, train_size=train_size)\n",
    "  \n",
    "  dataset_dict = {\n",
    "      'x_train': x_train,\n",
    "      'y_train': y_train,\n",
    "      'x_val': x_val,\n",
    "      'y_val': y_val,\n",
    "      'x_test': x_test,\n",
    "      'y_test': y_test\n",
    "  }\n",
    "\n",
    "  return dataset_dict"
   ]
  },
  {
   "cell_type": "code",
   "execution_count": 40,
   "metadata": {
    "id": "GuvOKPVRcAeK"
   },
   "outputs": [],
   "source": [
    "def cause_relevant_features(df: pd.DataFrame, features: list, f_range: int):\n",
    "  \"\"\"\n",
    "  Cause new data based on calculated statistics.\n",
    "  :param df:          input pandas DataFrame\n",
    "  :param f_range:     int, num of new samples\n",
    "  :return new_df:     pandas DataFrame with new data\n",
    "  \"\"\"\n",
    "\n",
    "  new_data = {}\n",
    "\n",
    "  for idx in range(len(features)):\n",
    "\n",
    "    std = df[features[idx]].std()\n",
    "    mean = df[features[idx]].mean()\n",
    "\n",
    "    data_range = [mean - (1.5 * std), mean + (1.5 * std)]\n",
    "\n",
    "    new_data[features[idx]] = np.random.uniform(data_range[0], data_range[1], f_range).reshape(f_range, 1).tolist()\n",
    "\n",
    "  new_df = pd.DataFrame.from_dict(new_data)\n",
    "  \n",
    "  for fidx in range(len(features)):\n",
    "    new_df[features[fidx]] = new_df[features[fidx]].map(lambda x: x[0])\n",
    "\n",
    "  return new_df"
   ]
  },
  {
   "cell_type": "code",
   "execution_count": 41,
   "metadata": {
    "id": "wvxcmC2VcIEP"
   },
   "outputs": [],
   "source": [
    "def get_target_values(df: pd.DataFrame, target: list):\n",
    "  \"\"\"\n",
    "  Return values of target variable based on input feature values.\n",
    "  :param df:               pandas dataframe with input features\n",
    "  :return target_result:   pandas dataframe with input features and target values\n",
    "  \"\"\"\n",
    "  \n",
    "  def calc_target_func(x0, x1, x2, x3):\n",
    "    \"\"\"\n",
    "    Return target value.\n",
    "    \"\"\"\n",
    "\n",
    "    return x0 + (x1**2) + x2 + (2*x3)\n",
    "  \n",
    "\n",
    "  df[target[0]] = df.apply(lambda row: calc_target_func(row['x0'], row['x1'], row['x2'], row['x3']), axis=1)\n",
    "\n",
    "  return df"
   ]
  },
  {
   "cell_type": "code",
   "execution_count": 42,
   "metadata": {
    "id": "KIpP_7cdc4Sf"
   },
   "outputs": [],
   "source": [
    "def create_extra_train_dataset(df: pd.DataFrame, df_new: pd.DataFrame):\n",
    "  \"\"\"\n",
    "  Extend train dataset with new data.\n",
    "  :param df:               pandas dataframe with input features\n",
    "  :param df_new:           pandas dataframe with input augmented features\n",
    "  :return df_result:       pandas dataframe with input features and target values\n",
    "  \"\"\"\n",
    "\n",
    "  return pd.concat([df, df_new], axis=0).reset_index()[features + target]"
   ]
  },
  {
   "cell_type": "code",
   "execution_count": 43,
   "metadata": {
    "id": "1q3kbER1c4U4"
   },
   "outputs": [],
   "source": [
    "def normalize_features(df: pd.DataFrame, features: list, target: list):\n",
    "  \"\"\"\n",
    "  Use Yeo-Johnson transform to normalize input features and target variable.\n",
    "  :param df:        dict with input pandas dataframes\n",
    "  :param features:  list of input features names\n",
    "  :param target:    list of target variables names\n",
    "  :return out_data: dict, data = pandas dataframe with transformed data,\n",
    "                          transformer = transformer objects\n",
    "  \"\"\"\n",
    "  \n",
    "  out_data = {'data': {}, 'transformers': []}\n",
    "  transformers = []\n",
    "  df_x = {}\n",
    "  df_y = {}\n",
    "\n",
    "  # normalize input data\n",
    "  for key in list(df.keys()):\n",
    "\n",
    "    if key == 'train_data':\n",
    "      # fit input features\n",
    "      transformer_f = PowerTransformer(method='yeo-johnson', standardize=True)\n",
    "      x_trans = transformer_f.fit_transform(df[key][features])\n",
    "      df_x[key] = pd.DataFrame(x_trans, columns=features)\n",
    "      transformers.append(transformer_f)\n",
    "\n",
    "      # fit input target\n",
    "      transformer_t = PowerTransformer(method='yeo-johnson', standardize=True)\n",
    "      y_trans = transformer_t.fit_transform(df[key][target])\n",
    "      df_y[key] = pd.DataFrame(y_trans, columns=target)\n",
    "      transformers.append(transformer_t)\n",
    "\n",
    "    elif key == 'test_data':\n",
    "      # transform input features\n",
    "      x_trans = transformers[0].transform(df[key][features])\n",
    "      df_x[key] = pd.DataFrame(x_trans, columns=features)\n",
    "\n",
    "      # use test target variable\n",
    "      y_trans = df[key][target]\n",
    "      df_y[key] = pd.DataFrame(y_trans, columns=target)\n",
    "    \n",
    "    else:\n",
    "      # transform input features\n",
    "      x_trans = transformers[0].transform(df[key][features])\n",
    "      df_x[key] = pd.DataFrame(x_trans, columns=features)\n",
    "\n",
    "      # transform target variable\n",
    "      y_trans = transformers[1].transform(df[key][target])\n",
    "      df_y[key] = pd.DataFrame(y_trans, columns=target)\n",
    "\n",
    "  # concatenate all transformed features dataframes with transformed target variables\n",
    "  for key in list(df.keys()):\n",
    "    out_data['data'][key] = pd.concat([df_x[key], df_y[key]], axis=1)\n",
    "  \n",
    "  out_data['transformers'] = transformers\n",
    "\n",
    "  return out_data"
   ]
  },
  {
   "cell_type": "code",
   "execution_count": 44,
   "metadata": {
    "id": "mOH6DKO7cIG3"
   },
   "outputs": [],
   "source": [
    "def run_data_prep():\n",
    "  \"\"\"\n",
    "    Prepare data sets.\n",
    "  \"\"\"\n",
    "  df_data = {}\n",
    "  df_extend_data = {}\n",
    "\n",
    "  # split dataset on train, validation and test subsets\n",
    "  dataset = split_data(df, features, target, train_size, test_size, val_size)\n",
    "\n",
    "  # create train dataset\n",
    "  x_train = dataset['x_train'].reset_index()[features]\n",
    "  y_train = dataset['y_train'].reset_index()[target]\n",
    "  train_data = pd.concat([x_train, y_train], axis=1)\n",
    "  df_data['train_data'] = train_data\n",
    "\n",
    "  # create validation dataset\n",
    "  x_val = dataset['x_val'].reset_index()[features]\n",
    "  y_val = dataset['y_val'].reset_index()[target]\n",
    "  val_data = pd.concat([x_val, y_val], axis=1)\n",
    "  df_data['val_data'] = val_data\n",
    "  \n",
    "  # create test dataset\n",
    "  x_test = dataset['x_test'].reset_index()[features]\n",
    "  y_test = dataset['y_test'].reset_index()[target]\n",
    "  test_data = pd.concat([x_test, y_test], axis=1)\n",
    "  df_data['test_data'] = test_data\n",
    "\n",
    "  # normalize input data\n",
    "  out_data = normalize_features(df_data, features, target)\n",
    "\n",
    "  # create new dataset with more input samples\n",
    "  new_data = cause_relevant_features(dataset['x_train'], features, f_range)\n",
    "  new_data = get_target_values(new_data, target)\n",
    "  new_data = new_data.reset_index()[features + target]\n",
    "  train_new_data = create_extra_train_dataset(train_data, new_data)\n",
    "  train_new_data = train_new_data.reset_index()[features + target]\n",
    "  df_extend_data['train_data'] = train_new_data\n",
    "  df_extend_data['val_data'] = val_data\n",
    "  df_extend_data['test_data'] = test_data\n",
    "\n",
    "  # normalize extended input data\n",
    "  out_new_data = normalize_features(df_extend_data, features, target)\n",
    "\n",
    "  return out_data, out_new_data\n"
   ]
  },
  {
   "cell_type": "code",
   "execution_count": 45,
   "metadata": {},
   "outputs": [],
   "source": [
    "def create_input_datasets(df_data: dict, features: list, target: list, batch_size: int):\n",
    "  \"\"\"\n",
    "  Create tensorflow datasets based on input dataframes for train, validation \n",
    "  and test subsets.\n",
    "  param df_data: dictionary, keys=names of dataframes, columns=dataframes\n",
    "  return:        dictionary, keys=names of datasets, columns=datasets\n",
    "  \"\"\"\n",
    "\n",
    "  # create train dataset for input in tensorflow model\n",
    "  train_dataset = tf.data.Dataset.from_tensor_slices((df_data['train_data'][features], \n",
    "                                                      df_data['train_data'][target]))\n",
    "  train_dataset = train_dataset.batch(batch_size)\n",
    "  train_ds = train_dataset.cache().prefetch(buffer_size=AUTOTUNE)\n",
    "\n",
    "  # create validation dataset for input in tensorflow model\n",
    "  val_dataset = tf.data.Dataset.from_tensor_slices((df_data['val_data'][features], \n",
    "                                                    df_data['val_data'][target]))\n",
    "  val_dataset = val_dataset.batch(batch_size)\n",
    "  val_ds = val_dataset.cache().prefetch(buffer_size=AUTOTUNE)\n",
    "\n",
    "  # create validation dataset for input in tensorflow model\n",
    "  test_dataset = tf.data.Dataset.from_tensor_slices((df_data['test_data'][features], \n",
    "                                                     df_data['test_data'][target]))\n",
    "  test_dataset = test_dataset.batch(batch_size)\n",
    "  test_ds = test_dataset.cache().prefetch(buffer_size=AUTOTUNE)\n",
    "\n",
    "  datasets = {\n",
    "      'train_dataset': train_dataset,\n",
    "      'val_dataset': val_dataset,\n",
    "      'test_dataset': test_dataset\n",
    "  } \n",
    "\n",
    "  return datasets"
   ]
  },
  {
   "cell_type": "code",
   "execution_count": 46,
   "metadata": {
    "scrolled": true
   },
   "outputs": [],
   "source": [
    "out_data, out_new_data = run_data_prep()\n",
    "datasets = create_input_datasets(out_data['data'], features, target, batch_size)\n",
    "datasets_extended = create_input_datasets(out_new_data['data'], features, target, batch_size)"
   ]
  },
  {
   "cell_type": "markdown",
   "metadata": {},
   "source": [
    "### Create model"
   ]
  },
  {
   "cell_type": "code",
   "execution_count": 47,
   "metadata": {},
   "outputs": [],
   "source": [
    "# define loss functions\n",
    "from tensorflow.keras import backend as K\n",
    "\n",
    "def rmse():\n",
    "  def root_mean_squared_error(y_true, y_pred):\n",
    "        return K.sqrt(K.mean(K.square(y_pred - y_true))) \n",
    "  return root_mean_squared_error\n",
    "\n",
    "def rmsle():\n",
    "  def root_mean_squared_log_error(y_true, y_pred):\n",
    "    return K.sqrt(K.mean(K.square(K.log(1+y_pred) - K.log(1+y_true))))\n",
    "  return root_mean_squared_log_error"
   ]
  },
  {
   "cell_type": "markdown",
   "metadata": {},
   "source": [
    "ANN model:\n",
    "   - Vanishing gradient problem - add residual connections and batch normalization layers\n",
    "   - Overfitting - add regularization and dropout layers\n",
    "   - prepare model for hyperparameter tuning\n",
    "   - use mse loss function\n",
    "   - use mae matric\n",
    "   - use adam optimizer with adaptive learning rate"
   ]
  },
  {
   "cell_type": "code",
   "execution_count": 48,
   "metadata": {},
   "outputs": [],
   "source": [
    "def model_builder(hp):\n",
    "  \"\"\"\n",
    "  Regression model.\n",
    "  \"\"\"\n",
    "    \n",
    "  hp_units = hp.Int('units', min_value=len(features), max_value=len(features)*8, step=len(features))\n",
    "\n",
    "  activation=hp.Choice(\n",
    "        'dense_activation',\n",
    "        values=['relu', 'tanh', 'sigmoid'],\n",
    "        default='relu'\n",
    "    )\n",
    "  \n",
    "  # set input shape\n",
    "  inputs = Input(shape=(len(features)), name=\"input_vineyard\")\n",
    "  \n",
    "  # add skip connections\n",
    "  x = Dense(units=len(features)*7, activation=\"relu\",\n",
    "           kernel_regularizer=tf.keras.regularizers.L2(1e-4),\n",
    "           bias_regularizer=tf.keras.regularizers.L2(1e-4))(inputs)\n",
    "    \n",
    "  block_out_1 = Dense(units=len(features)*8, activation=\"relu\",\n",
    "                     kernel_regularizer=tf.keras.regularizers.L2(1e-4),\n",
    "                     bias_regularizer=tf.keras.regularizers.L2(1e-4))(x)\n",
    "  \n",
    "  x = Dense(units=len(features)*8, activation=\"relu\",\n",
    "           kernel_regularizer=tf.keras.regularizers.L2(1e-4),\n",
    "           bias_regularizer=tf.keras.regularizers.L2(1e-4))(block_out_1)\n",
    "\n",
    "  x = Dense(units=len(features)*8, activation=\"relu\",\n",
    "           kernel_regularizer=tf.keras.regularizers.L2(1e-4),\n",
    "           bias_regularizer=tf.keras.regularizers.L2(1e-4))(x)\n",
    "  \n",
    "  block_out_2 = add([x, block_out_1])\n",
    "  \n",
    "  # add batch normalization\n",
    "  normalized = BatchNormalization()(block_out_2)\n",
    "\n",
    "  x = Dense(units=hp_units, activation=activation,\n",
    "           kernel_regularizer=tf.keras.regularizers.L2(1e-4),\n",
    "           bias_regularizer=tf.keras.regularizers.L2(1e-4))(normalized)\n",
    "    \n",
    "  x = Dropout(rate=hp.Float(\n",
    "                'dropout_1',\n",
    "                min_value=0.1,\n",
    "                max_value=0.5,\n",
    "                default=0.25,\n",
    "                step=0.1,\n",
    "            ))(x)\n",
    "\n",
    "  x = Dense(units=hp_units, activation=activation,\n",
    "           kernel_regularizer=tf.keras.regularizers.L2(1e-4),\n",
    "           bias_regularizer=tf.keras.regularizers.L2(1e-4))(x)\n",
    "  \n",
    "  # add dropout layers\n",
    "  x = Dropout(rate=hp.Float(\n",
    "                'dropout_2',\n",
    "                min_value=0.1,\n",
    "                max_value=0.5,\n",
    "                default=0.25,\n",
    "                step=0.1,\n",
    "            ))(x)\n",
    "    \n",
    "  outputs = Dense(units=1)(x)\n",
    "\n",
    "  model = keras.Model(inputs, outputs, name=\"vineyard_regressor\")\n",
    "\n",
    "  hp_learning_rate = hp.Choice('learning_rate', values=[1e-2, 1e-3, 1e-4])\n",
    "  \n",
    "  model.compile(optimizer=keras.optimizers.Adam(learning_rate=hp_learning_rate),\n",
    "                loss=\"mse\",\n",
    "                metrics=['mean_absolute_error'])\n",
    "\n",
    "  return model"
   ]
  },
  {
   "cell_type": "markdown",
   "metadata": {},
   "source": [
    "### Hyperparameter optimization"
   ]
  },
  {
   "cell_type": "code",
   "execution_count": 49,
   "metadata": {},
   "outputs": [],
   "source": [
    "def set_hyperparameter_optimizer(strategy):\n",
    "  \"\"\"\n",
    "  Set hyperparameter optimizer.\n",
    "  :param strategy: None if one CPU or GPU is available, else defined by mirrored strategy for multi GPU execution\n",
    "  :return tuner:   keras tuner object\n",
    "  \"\"\"\n",
    "  \n",
    "  tuner = kt.Hyperband(\n",
    "        hypermodel=model_builder,\n",
    "        objective=\"val_mean_absolute_error\",\n",
    "        max_epochs=10,\n",
    "        factor=2,\n",
    "        hyperband_iterations=3,\n",
    "        distribution_strategy=strategy,\n",
    "        directory='HpResultsDir',\n",
    "        project_name='vineyard_model')\n",
    "\n",
    "  return tuner"
   ]
  },
  {
   "cell_type": "code",
   "execution_count": 50,
   "metadata": {},
   "outputs": [],
   "source": [
    "# define early stop callback to prevent overfitting\n",
    "stop_early = tf.keras.callbacks.EarlyStopping(monitor='val_mean_absolute_error', patience=10, mode='min')"
   ]
  },
  {
   "cell_type": "code",
   "execution_count": 51,
   "metadata": {},
   "outputs": [
    {
     "name": "stdout",
     "output_type": "stream",
     "text": [
      "INFO:tensorflow:Reloading Oracle from existing project HpResultsDir\\vineyard_model\\oracle.json\n",
      "INFO:tensorflow:Reloading Tuner from HpResultsDir\\vineyard_model\\tuner0.json\n"
     ]
    }
   ],
   "source": [
    "tuner = set_hyperparameter_optimizer(strategy)"
   ]
  },
  {
   "cell_type": "markdown",
   "metadata": {},
   "source": [
    "Tune hyperparameters on non-extended train dataset."
   ]
  },
  {
   "cell_type": "code",
   "execution_count": 52,
   "metadata": {},
   "outputs": [
    {
     "name": "stdout",
     "output_type": "stream",
     "text": [
      "INFO:tensorflow:Oracle triggered exit\n"
     ]
    }
   ],
   "source": [
    "tuner.search(datasets['train_dataset'],\n",
    "             validation_data=datasets['val_dataset'],\n",
    "             epochs=10,\n",
    "             callbacks=[stop_early])\n",
    "\n",
    "# get optimal hyperparameters\n",
    "best_hps = tuner.get_best_hyperparameters(num_trials=1)[0]"
   ]
  },
  {
   "cell_type": "markdown",
   "metadata": {},
   "source": [
    "### Training process\n",
    "Training will be done on two different datasets (dataset, dataset_extended)."
   ]
  },
  {
   "cell_type": "code",
   "execution_count": 53,
   "metadata": {},
   "outputs": [],
   "source": [
    "def plot_training_results(history, epochs):\n",
    "\n",
    "  acc = history.history['mean_absolute_error']\n",
    "  val_acc = history.history['val_mean_absolute_error']\n",
    "\n",
    "  loss = history.history['loss']\n",
    "  val_loss = history.history['val_loss']\n",
    "\n",
    "  epochs_range = range(epochs)\n",
    "\n",
    "  plt.figure(figsize=(8, 8))\n",
    "  plt.subplot(1, 2, 1)\n",
    "  plt.plot(epochs_range, acc, label='Training MAE')\n",
    "  plt.plot(epochs_range, val_acc, label='Validation MAE')\n",
    "  plt.legend(loc='upper right')\n",
    "  plt.title('Training and Validation MAE')\n",
    "\n",
    "  plt.subplot(1, 2, 2)\n",
    "  plt.plot(epochs_range, loss, label='Training Loss')\n",
    "  plt.plot(epochs_range, val_loss, label='Validation Loss')\n",
    "  plt.legend(loc='upper right')\n",
    "  plt.title('Training and Validation Loss')\n",
    "  plt.show()"
   ]
  },
  {
   "cell_type": "markdown",
   "metadata": {},
   "source": [
    "#### Process 1\n",
    "datasets = datasets"
   ]
  },
  {
   "cell_type": "code",
   "execution_count": 54,
   "metadata": {},
   "outputs": [
    {
     "name": "stdout",
     "output_type": "stream",
     "text": [
      "Epoch 1/100\n",
      "4/4 [==============================] - 1s 46ms/step - loss: 0.6904 - mean_absolute_error: 0.6354 - val_loss: 0.4831 - val_mean_absolute_error: 0.5556\n",
      "Epoch 2/100\n",
      "4/4 [==============================] - 0s 5ms/step - loss: 0.3133 - mean_absolute_error: 0.4460 - val_loss: 0.3768 - val_mean_absolute_error: 0.5030\n",
      "Epoch 3/100\n",
      "4/4 [==============================] - 0s 5ms/step - loss: 0.2829 - mean_absolute_error: 0.4066 - val_loss: 0.3400 - val_mean_absolute_error: 0.4781\n",
      "Epoch 4/100\n",
      "4/4 [==============================] - 0s 5ms/step - loss: 0.2068 - mean_absolute_error: 0.3461 - val_loss: 0.3791 - val_mean_absolute_error: 0.5222\n",
      "Epoch 5/100\n",
      "4/4 [==============================] - 0s 5ms/step - loss: 0.1925 - mean_absolute_error: 0.3212 - val_loss: 0.3364 - val_mean_absolute_error: 0.4769\n",
      "Epoch 6/100\n",
      "4/4 [==============================] - 0s 5ms/step - loss: 0.1348 - mean_absolute_error: 0.2739 - val_loss: 0.3021 - val_mean_absolute_error: 0.4539\n",
      "Epoch 7/100\n",
      "4/4 [==============================] - 0s 5ms/step - loss: 0.1060 - mean_absolute_error: 0.2302 - val_loss: 0.2981 - val_mean_absolute_error: 0.4628\n",
      "Epoch 8/100\n",
      "4/4 [==============================] - 0s 5ms/step - loss: 0.1033 - mean_absolute_error: 0.2331 - val_loss: 0.2590 - val_mean_absolute_error: 0.4152\n",
      "Epoch 9/100\n",
      "4/4 [==============================] - 0s 5ms/step - loss: 0.1183 - mean_absolute_error: 0.2477 - val_loss: 0.2742 - val_mean_absolute_error: 0.4307\n",
      "Epoch 10/100\n",
      "4/4 [==============================] - 0s 5ms/step - loss: 0.0781 - mean_absolute_error: 0.2013 - val_loss: 0.2553 - val_mean_absolute_error: 0.4249\n",
      "Epoch 11/100\n",
      "4/4 [==============================] - 0s 5ms/step - loss: 0.1128 - mean_absolute_error: 0.2506 - val_loss: 0.1899 - val_mean_absolute_error: 0.3482\n",
      "Epoch 12/100\n",
      "4/4 [==============================] - 0s 5ms/step - loss: 0.1159 - mean_absolute_error: 0.2401 - val_loss: 0.1798 - val_mean_absolute_error: 0.3431\n",
      "Epoch 13/100\n",
      "4/4 [==============================] - 0s 5ms/step - loss: 0.1065 - mean_absolute_error: 0.2431 - val_loss: 0.1756 - val_mean_absolute_error: 0.3578\n",
      "Epoch 14/100\n",
      "4/4 [==============================] - 0s 5ms/step - loss: 0.0776 - mean_absolute_error: 0.1950 - val_loss: 0.1803 - val_mean_absolute_error: 0.3472\n",
      "Epoch 15/100\n",
      "4/4 [==============================] - 0s 5ms/step - loss: 0.0710 - mean_absolute_error: 0.1937 - val_loss: 0.1755 - val_mean_absolute_error: 0.3366\n",
      "Epoch 16/100\n",
      "4/4 [==============================] - 0s 5ms/step - loss: 0.0763 - mean_absolute_error: 0.1836 - val_loss: 0.1395 - val_mean_absolute_error: 0.3057\n",
      "Epoch 17/100\n",
      "4/4 [==============================] - 0s 4ms/step - loss: 0.0870 - mean_absolute_error: 0.2135 - val_loss: 0.1421 - val_mean_absolute_error: 0.3055\n",
      "Epoch 18/100\n",
      "4/4 [==============================] - 0s 5ms/step - loss: 0.0804 - mean_absolute_error: 0.1950 - val_loss: 0.1749 - val_mean_absolute_error: 0.3460\n",
      "Epoch 19/100\n",
      "4/4 [==============================] - 0s 5ms/step - loss: 0.0817 - mean_absolute_error: 0.1945 - val_loss: 0.1236 - val_mean_absolute_error: 0.2923\n",
      "Epoch 20/100\n",
      "4/4 [==============================] - 0s 5ms/step - loss: 0.0734 - mean_absolute_error: 0.2006 - val_loss: 0.1136 - val_mean_absolute_error: 0.2635\n",
      "Epoch 21/100\n",
      "4/4 [==============================] - 0s 5ms/step - loss: 0.0618 - mean_absolute_error: 0.1654 - val_loss: 0.1116 - val_mean_absolute_error: 0.2622\n",
      "Epoch 22/100\n",
      "4/4 [==============================] - 0s 5ms/step - loss: 0.0534 - mean_absolute_error: 0.1525 - val_loss: 0.1125 - val_mean_absolute_error: 0.2640\n",
      "Epoch 23/100\n",
      "4/4 [==============================] - 0s 5ms/step - loss: 0.0654 - mean_absolute_error: 0.1789 - val_loss: 0.1183 - val_mean_absolute_error: 0.2644\n",
      "Epoch 24/100\n",
      "4/4 [==============================] - 0s 5ms/step - loss: 0.0564 - mean_absolute_error: 0.1579 - val_loss: 0.0961 - val_mean_absolute_error: 0.2395\n",
      "Epoch 25/100\n",
      "4/4 [==============================] - 0s 5ms/step - loss: 0.0680 - mean_absolute_error: 0.1769 - val_loss: 0.0957 - val_mean_absolute_error: 0.2347\n",
      "Epoch 26/100\n",
      "4/4 [==============================] - 0s 5ms/step - loss: 0.0740 - mean_absolute_error: 0.1780 - val_loss: 0.0823 - val_mean_absolute_error: 0.2086\n",
      "Epoch 27/100\n",
      "4/4 [==============================] - 0s 5ms/step - loss: 0.0598 - mean_absolute_error: 0.1707 - val_loss: 0.0604 - val_mean_absolute_error: 0.1632\n",
      "Epoch 28/100\n",
      "4/4 [==============================] - 0s 5ms/step - loss: 0.0669 - mean_absolute_error: 0.1715 - val_loss: 0.0681 - val_mean_absolute_error: 0.1758\n",
      "Epoch 29/100\n",
      "4/4 [==============================] - 0s 5ms/step - loss: 0.0521 - mean_absolute_error: 0.1601 - val_loss: 0.0691 - val_mean_absolute_error: 0.1817\n",
      "Epoch 30/100\n",
      "4/4 [==============================] - 0s 5ms/step - loss: 0.0583 - mean_absolute_error: 0.1584 - val_loss: 0.0606 - val_mean_absolute_error: 0.1649\n",
      "Epoch 31/100\n",
      "4/4 [==============================] - 0s 5ms/step - loss: 0.0666 - mean_absolute_error: 0.1762 - val_loss: 0.0679 - val_mean_absolute_error: 0.1680\n",
      "Epoch 32/100\n",
      "4/4 [==============================] - 0s 5ms/step - loss: 0.0604 - mean_absolute_error: 0.1688 - val_loss: 0.0772 - val_mean_absolute_error: 0.1896\n",
      "Epoch 33/100\n",
      "4/4 [==============================] - 0s 4ms/step - loss: 0.0584 - mean_absolute_error: 0.1674 - val_loss: 0.0593 - val_mean_absolute_error: 0.1688\n",
      "Epoch 34/100\n",
      "4/4 [==============================] - 0s 5ms/step - loss: 0.0511 - mean_absolute_error: 0.1507 - val_loss: 0.0537 - val_mean_absolute_error: 0.1566\n",
      "Epoch 35/100\n",
      "4/4 [==============================] - 0s 5ms/step - loss: 0.0412 - mean_absolute_error: 0.1300 - val_loss: 0.0488 - val_mean_absolute_error: 0.1452\n",
      "Epoch 36/100\n",
      "4/4 [==============================] - 0s 5ms/step - loss: 0.0458 - mean_absolute_error: 0.1389 - val_loss: 0.0416 - val_mean_absolute_error: 0.1312\n",
      "Epoch 37/100\n",
      "4/4 [==============================] - 0s 5ms/step - loss: 0.0505 - mean_absolute_error: 0.1435 - val_loss: 0.0346 - val_mean_absolute_error: 0.1149\n",
      "Epoch 38/100\n",
      "4/4 [==============================] - 0s 5ms/step - loss: 0.0559 - mean_absolute_error: 0.1564 - val_loss: 0.0479 - val_mean_absolute_error: 0.1500\n",
      "Epoch 39/100\n",
      "4/4 [==============================] - 0s 4ms/step - loss: 0.0462 - mean_absolute_error: 0.1361 - val_loss: 0.0402 - val_mean_absolute_error: 0.1323\n",
      "Epoch 40/100\n",
      "4/4 [==============================] - 0s 4ms/step - loss: 0.0517 - mean_absolute_error: 0.1508 - val_loss: 0.0348 - val_mean_absolute_error: 0.1113\n",
      "Epoch 41/100\n",
      "4/4 [==============================] - 0s 4ms/step - loss: 0.0415 - mean_absolute_error: 0.1282 - val_loss: 0.0386 - val_mean_absolute_error: 0.1254\n",
      "Epoch 42/100\n",
      "4/4 [==============================] - 0s 4ms/step - loss: 0.0456 - mean_absolute_error: 0.1373 - val_loss: 0.0318 - val_mean_absolute_error: 0.1062\n",
      "Epoch 43/100\n",
      "4/4 [==============================] - 0s 4ms/step - loss: 0.0444 - mean_absolute_error: 0.1221 - val_loss: 0.0391 - val_mean_absolute_error: 0.1265\n",
      "Epoch 44/100\n",
      "4/4 [==============================] - 0s 4ms/step - loss: 0.0466 - mean_absolute_error: 0.1449 - val_loss: 0.0287 - val_mean_absolute_error: 0.0962\n",
      "Epoch 45/100\n",
      "4/4 [==============================] - 0s 4ms/step - loss: 0.0503 - mean_absolute_error: 0.1501 - val_loss: 0.0454 - val_mean_absolute_error: 0.1507\n",
      "Epoch 46/100\n",
      "4/4 [==============================] - 0s 4ms/step - loss: 0.0443 - mean_absolute_error: 0.1321 - val_loss: 0.0334 - val_mean_absolute_error: 0.1107\n",
      "Epoch 47/100\n",
      "4/4 [==============================] - 0s 4ms/step - loss: 0.0373 - mean_absolute_error: 0.1212 - val_loss: 0.0311 - val_mean_absolute_error: 0.1047\n",
      "Epoch 48/100\n",
      "4/4 [==============================] - 0s 4ms/step - loss: 0.0451 - mean_absolute_error: 0.1301 - val_loss: 0.0370 - val_mean_absolute_error: 0.1219\n",
      "Epoch 49/100\n",
      "4/4 [==============================] - 0s 4ms/step - loss: 0.0476 - mean_absolute_error: 0.1403 - val_loss: 0.0317 - val_mean_absolute_error: 0.1153\n",
      "Epoch 50/100\n",
      "4/4 [==============================] - 0s 4ms/step - loss: 0.0468 - mean_absolute_error: 0.1418 - val_loss: 0.0339 - val_mean_absolute_error: 0.1236\n",
      "Epoch 51/100\n"
     ]
    },
    {
     "name": "stdout",
     "output_type": "stream",
     "text": [
      "4/4 [==============================] - 0s 4ms/step - loss: 0.0482 - mean_absolute_error: 0.1451 - val_loss: 0.0417 - val_mean_absolute_error: 0.1450\n",
      "Epoch 52/100\n",
      "4/4 [==============================] - 0s 4ms/step - loss: 0.0553 - mean_absolute_error: 0.1563 - val_loss: 0.0290 - val_mean_absolute_error: 0.0993\n",
      "Epoch 53/100\n",
      "4/4 [==============================] - 0s 4ms/step - loss: 0.0467 - mean_absolute_error: 0.1440 - val_loss: 0.0414 - val_mean_absolute_error: 0.1324\n",
      "Epoch 54/100\n",
      "4/4 [==============================] - 0s 4ms/step - loss: 0.0461 - mean_absolute_error: 0.1394 - val_loss: 0.0372 - val_mean_absolute_error: 0.1316\n"
     ]
    }
   ],
   "source": [
    "model = tuner.hypermodel.build(best_hps)\n",
    "epochs = 100\n",
    "history_dat = model.fit(datasets['train_dataset'],\n",
    "                        validation_data=datasets['val_dataset'],\n",
    "                        epochs=epochs,\n",
    "                        callbacks=[stop_early]\n",
    "                       )"
   ]
  },
  {
   "cell_type": "code",
   "execution_count": 55,
   "metadata": {},
   "outputs": [
    {
     "data": {
      "image/png": "[encoded data removed]",
      "text/plain": [
       "<Figure size 576x576 with 2 Axes>"
      ]
     },
     "metadata": {
      "needs_background": "light"
     },
     "output_type": "display_data"
    }
   ],
   "source": [
    "epochs = len(history_dat.history['loss'])\n",
    "plot_training_results(history_dat, epochs)"
   ]
  },
  {
   "cell_type": "markdown",
   "metadata": {},
   "source": [
    "#### Process 2\n",
    "datasets = datasets_extended"
   ]
  },
  {
   "cell_type": "code",
   "execution_count": 56,
   "metadata": {},
   "outputs": [
    {
     "name": "stdout",
     "output_type": "stream",
     "text": [
      "Epoch 1/100\n",
      "8/8 [==============================] - 1s 18ms/step - loss: 0.5405 - mean_absolute_error: 0.5408 - val_loss: 0.4541 - val_mean_absolute_error: 0.5647\n",
      "Epoch 2/100\n",
      "8/8 [==============================] - 0s 3ms/step - loss: 0.3000 - mean_absolute_error: 0.4261 - val_loss: 0.3877 - val_mean_absolute_error: 0.5247\n",
      "Epoch 3/100\n",
      "8/8 [==============================] - 0s 2ms/step - loss: 0.3091 - mean_absolute_error: 0.4278 - val_loss: 0.2974 - val_mean_absolute_error: 0.4511\n",
      "Epoch 4/100\n",
      "8/8 [==============================] - 0s 3ms/step - loss: 0.1865 - mean_absolute_error: 0.3236 - val_loss: 0.2528 - val_mean_absolute_error: 0.4269\n",
      "Epoch 5/100\n",
      "8/8 [==============================] - 0s 2ms/step - loss: 0.2164 - mean_absolute_error: 0.3548 - val_loss: 0.3801 - val_mean_absolute_error: 0.5111\n",
      "Epoch 6/100\n",
      "8/8 [==============================] - 0s 3ms/step - loss: 0.1888 - mean_absolute_error: 0.3242 - val_loss: 0.2432 - val_mean_absolute_error: 0.4034\n",
      "Epoch 7/100\n",
      "8/8 [==============================] - 0s 3ms/step - loss: 0.1514 - mean_absolute_error: 0.2897 - val_loss: 0.1591 - val_mean_absolute_error: 0.3198\n",
      "Epoch 8/100\n",
      "8/8 [==============================] - 0s 3ms/step - loss: 0.1303 - mean_absolute_error: 0.2624 - val_loss: 0.2069 - val_mean_absolute_error: 0.3695\n",
      "Epoch 9/100\n",
      "8/8 [==============================] - 0s 3ms/step - loss: 0.1090 - mean_absolute_error: 0.2356 - val_loss: 0.1472 - val_mean_absolute_error: 0.3126\n",
      "Epoch 10/100\n",
      "8/8 [==============================] - 0s 3ms/step - loss: 0.1021 - mean_absolute_error: 0.2296 - val_loss: 0.1354 - val_mean_absolute_error: 0.2993\n",
      "Epoch 11/100\n",
      "8/8 [==============================] - 0s 3ms/step - loss: 0.0913 - mean_absolute_error: 0.2230 - val_loss: 0.0945 - val_mean_absolute_error: 0.2383\n",
      "Epoch 12/100\n",
      "8/8 [==============================] - 0s 3ms/step - loss: 0.0924 - mean_absolute_error: 0.2149 - val_loss: 0.0797 - val_mean_absolute_error: 0.2090\n",
      "Epoch 13/100\n",
      "8/8 [==============================] - 0s 2ms/step - loss: 0.0833 - mean_absolute_error: 0.2015 - val_loss: 0.0777 - val_mean_absolute_error: 0.2019\n",
      "Epoch 14/100\n",
      "8/8 [==============================] - 0s 3ms/step - loss: 0.0834 - mean_absolute_error: 0.2108 - val_loss: 0.0776 - val_mean_absolute_error: 0.2027\n",
      "Epoch 15/100\n",
      "8/8 [==============================] - 0s 3ms/step - loss: 0.0839 - mean_absolute_error: 0.2072 - val_loss: 0.0675 - val_mean_absolute_error: 0.1953\n",
      "Epoch 16/100\n",
      "8/8 [==============================] - 0s 3ms/step - loss: 0.0833 - mean_absolute_error: 0.2040 - val_loss: 0.0562 - val_mean_absolute_error: 0.1647\n",
      "Epoch 17/100\n",
      "8/8 [==============================] - 0s 3ms/step - loss: 0.0709 - mean_absolute_error: 0.1877 - val_loss: 0.0537 - val_mean_absolute_error: 0.1561\n",
      "Epoch 18/100\n",
      "8/8 [==============================] - 0s 2ms/step - loss: 0.0929 - mean_absolute_error: 0.2164 - val_loss: 0.0460 - val_mean_absolute_error: 0.1492\n",
      "Epoch 19/100\n",
      "8/8 [==============================] - 0s 2ms/step - loss: 0.0829 - mean_absolute_error: 0.2081 - val_loss: 0.0615 - val_mean_absolute_error: 0.1824\n",
      "Epoch 20/100\n",
      "8/8 [==============================] - 0s 3ms/step - loss: 0.0909 - mean_absolute_error: 0.2132 - val_loss: 0.0436 - val_mean_absolute_error: 0.1296\n",
      "Epoch 21/100\n",
      "8/8 [==============================] - 0s 3ms/step - loss: 0.0764 - mean_absolute_error: 0.1998 - val_loss: 0.0453 - val_mean_absolute_error: 0.1436\n",
      "Epoch 22/100\n",
      "8/8 [==============================] - 0s 3ms/step - loss: 0.0876 - mean_absolute_error: 0.2097 - val_loss: 0.0371 - val_mean_absolute_error: 0.1225\n",
      "Epoch 23/100\n",
      "8/8 [==============================] - 0s 3ms/step - loss: 0.0776 - mean_absolute_error: 0.1975 - val_loss: 0.0449 - val_mean_absolute_error: 0.1418\n",
      "Epoch 24/100\n",
      "8/8 [==============================] - 0s 3ms/step - loss: 0.0854 - mean_absolute_error: 0.2012 - val_loss: 0.0272 - val_mean_absolute_error: 0.0847\n",
      "Epoch 25/100\n",
      "8/8 [==============================] - 0s 3ms/step - loss: 0.0685 - mean_absolute_error: 0.1889 - val_loss: 0.0517 - val_mean_absolute_error: 0.1637\n",
      "Epoch 26/100\n",
      "8/8 [==============================] - 0s 3ms/step - loss: 0.0793 - mean_absolute_error: 0.2012 - val_loss: 0.0308 - val_mean_absolute_error: 0.1007\n",
      "Epoch 27/100\n",
      "8/8 [==============================] - 0s 3ms/step - loss: 0.0812 - mean_absolute_error: 0.1962 - val_loss: 0.0307 - val_mean_absolute_error: 0.0996\n",
      "Epoch 28/100\n",
      "8/8 [==============================] - 0s 3ms/step - loss: 0.0694 - mean_absolute_error: 0.1923 - val_loss: 0.0470 - val_mean_absolute_error: 0.1549\n",
      "Epoch 29/100\n",
      "8/8 [==============================] - 0s 3ms/step - loss: 0.0840 - mean_absolute_error: 0.2006 - val_loss: 0.0335 - val_mean_absolute_error: 0.1114\n",
      "Epoch 30/100\n",
      "8/8 [==============================] - 0s 3ms/step - loss: 0.0711 - mean_absolute_error: 0.1884 - val_loss: 0.0396 - val_mean_absolute_error: 0.1317\n",
      "Epoch 31/100\n",
      "8/8 [==============================] - 0s 4ms/step - loss: 0.0780 - mean_absolute_error: 0.1943 - val_loss: 0.0254 - val_mean_absolute_error: 0.0825\n",
      "Epoch 32/100\n",
      "8/8 [==============================] - 0s 3ms/step - loss: 0.0819 - mean_absolute_error: 0.2038 - val_loss: 0.0270 - val_mean_absolute_error: 0.0899\n",
      "Epoch 33/100\n",
      "8/8 [==============================] - 0s 3ms/step - loss: 0.0674 - mean_absolute_error: 0.1756 - val_loss: 0.0379 - val_mean_absolute_error: 0.1263\n",
      "Epoch 34/100\n",
      "8/8 [==============================] - 0s 3ms/step - loss: 0.0736 - mean_absolute_error: 0.1873 - val_loss: 0.0336 - val_mean_absolute_error: 0.1092\n",
      "Epoch 35/100\n",
      "8/8 [==============================] - 0s 3ms/step - loss: 0.0648 - mean_absolute_error: 0.1773 - val_loss: 0.0484 - val_mean_absolute_error: 0.1579\n",
      "Epoch 36/100\n",
      "8/8 [==============================] - 0s 2ms/step - loss: 0.0625 - mean_absolute_error: 0.1736 - val_loss: 0.0428 - val_mean_absolute_error: 0.1532\n",
      "Epoch 37/100\n",
      "8/8 [==============================] - 0s 2ms/step - loss: 0.0706 - mean_absolute_error: 0.1789 - val_loss: 0.0360 - val_mean_absolute_error: 0.1297\n",
      "Epoch 38/100\n",
      "8/8 [==============================] - 0s 3ms/step - loss: 0.0589 - mean_absolute_error: 0.1632 - val_loss: 0.0276 - val_mean_absolute_error: 0.0979\n",
      "Epoch 39/100\n",
      "8/8 [==============================] - 0s 3ms/step - loss: 0.0638 - mean_absolute_error: 0.1731 - val_loss: 0.0392 - val_mean_absolute_error: 0.1314\n",
      "Epoch 40/100\n",
      "8/8 [==============================] - 0s 3ms/step - loss: 0.0512 - mean_absolute_error: 0.1557 - val_loss: 0.0280 - val_mean_absolute_error: 0.1031\n",
      "Epoch 41/100\n",
      "8/8 [==============================] - 0s 2ms/step - loss: 0.0613 - mean_absolute_error: 0.1718 - val_loss: 0.0456 - val_mean_absolute_error: 0.1456\n"
     ]
    }
   ],
   "source": [
    "model_extend = tuner.hypermodel.build(best_hps)\n",
    "epochs = 100\n",
    "history_dat_ext = model_extend.fit(datasets_extended['train_dataset'],\n",
    "                                   validation_data=datasets_extended['val_dataset'],\n",
    "                                   epochs=epochs,\n",
    "                                   callbacks=[stop_early]\n",
    "                                   )"
   ]
  },
  {
   "cell_type": "code",
   "execution_count": 57,
   "metadata": {},
   "outputs": [
    {
     "data": {
      "image/png": "[encoded data removed]",
      "text/plain": [
       "<Figure size 576x576 with 2 Axes>"
      ]
     },
     "metadata": {
      "needs_background": "light"
     },
     "output_type": "display_data"
    }
   ],
   "source": [
    "epochs = len(history_dat_ext.history['loss'])\n",
    "plot_training_results(history_dat_ext, epochs)"
   ]
  },
  {
   "cell_type": "markdown",
   "metadata": {},
   "source": [
    "### Calculate scores of both models on test set"
   ]
  },
  {
   "cell_type": "code",
   "execution_count": 58,
   "metadata": {},
   "outputs": [],
   "source": [
    "predictions = out_data['transformers'][1].inverse_transform(model.predict(datasets['test_dataset'])).reshape(-1, 1)\n",
    "predictions_ext = out_new_data['transformers'][1].inverse_transform(model_extend.predict(datasets['test_dataset'])).reshape(-1, 1)"
   ]
  },
  {
   "cell_type": "code",
   "execution_count": 59,
   "metadata": {},
   "outputs": [],
   "source": [
    "y_real = np.concatenate([y for x, y in datasets['test_dataset']], axis=0)"
   ]
  },
  {
   "cell_type": "code",
   "execution_count": 60,
   "metadata": {},
   "outputs": [],
   "source": [
    "#Defining MAPE function\n",
    "def mape(y_true, predictions):\n",
    "    mape = np.mean(np.abs((y_true - predictions)/y_true))*100\n",
    "    return mape"
   ]
  },
  {
   "cell_type": "code",
   "execution_count": 61,
   "metadata": {},
   "outputs": [],
   "source": [
    "def calculate_scores(y_true, predictions, predictions_ext):\n",
    "    \"\"\"\n",
    "    Calculate scores for both models.\n",
    "    :param y_true:           target variable true values\n",
    "    :param predictions:      base model predictions\n",
    "    :param predictions_ext:  extended model predictions\n",
    "    :return estimators:      dict, key-name of metric, value-metric score\n",
    "    \"\"\"\n",
    "    estimators = {'BaseModel': \n",
    "              {\n",
    "                  'mae': mean_absolute_error(y_true, predictions),\n",
    "                  'mape': mape(y_true, predictions),\n",
    "                  'r2_score': r2_score(y_true, predictions),\n",
    "                  'y_predict': predictions\n",
    "              }, \n",
    "              'ExtendModel':\n",
    "              {\n",
    "                  'mae': mean_absolute_error(y_true, predictions_ext),\n",
    "                  'mape': mape(y_true, predictions_ext),\n",
    "                  'r2_score': r2_score(y_true, predictions_ext),\n",
    "                  'y_predict': predictions_ext\n",
    "              }\n",
    "             }\n",
    "    \n",
    "    return estimators\n",
    "    "
   ]
  },
  {
   "cell_type": "code",
   "execution_count": 62,
   "metadata": {},
   "outputs": [],
   "source": [
    "estimators = calculate_scores(y_real, predictions, predictions_ext)"
   ]
  },
  {
   "cell_type": "code",
   "execution_count": 63,
   "metadata": {},
   "outputs": [],
   "source": [
    "def plot_regression_results(ax, y_true, y_pred, title, scores):\n",
    "    \"\"\"Scatter plot of the predicted vs true targets. \"\"\"\n",
    "    \n",
    "    ax.plot([y_true.min(), y_true.max()],\n",
    "            [y_true.min(), y_true.max()],\n",
    "            '--r', linewidth=2)\n",
    "    ax.scatter(y_true, y_pred, alpha=0.2)\n",
    "\n",
    "    ax.spines['top'].set_visible(False)\n",
    "    ax.spines['right'].set_visible(False)\n",
    "    ax.get_xaxis().tick_bottom()\n",
    "    ax.get_yaxis().tick_left()\n",
    "    ax.spines['left'].set_position(('outward', 10))\n",
    "    ax.spines['bottom'].set_position(('outward', 10))\n",
    "    ax.set_xlim([y_true.min(), y_true.max()])\n",
    "    ax.set_ylim([y_true.min(), y_true.max()])\n",
    "    ax.set_xlabel('Measured')\n",
    "    ax.set_ylabel('Predicted')\n",
    "    extra = plt.Rectangle((0, 0), 0, 0, fc=\"w\", fill=False,\n",
    "                          edgecolor='none', linewidth=0)\n",
    "    ax.legend([extra], [scores], loc='upper left')\n",
    "    title = title\n",
    "    ax.set_title(title)"
   ]
  },
  {
   "cell_type": "code",
   "execution_count": 64,
   "metadata": {},
   "outputs": [
    {
     "data": {
      "image/png": "[encoded data removed]",
      "text/plain": [
       "<Figure size 648x504 with 2 Axes>"
      ]
     },
     "metadata": {
      "needs_background": "light"
     },
     "output_type": "display_data"
    }
   ],
   "source": [
    "fig, axs = plt.subplots(1, 2, figsize=(9, 7))\n",
    "axs = np.ravel(axs)\n",
    "\n",
    "for ax, name in zip(axs, list(estimators.keys())):\n",
    "    \n",
    "    plot_regression_results(\n",
    "        ax, y_real, estimators[name]['y_predict'],\n",
    "        name,\n",
    "        (r'r2_score={:.2f}' + '\\n' + r'mae={:.2f}' + '\\n' + r'mape={:.2f}')\n",
    "        .format(estimators[name]['r2_score'],\n",
    "                estimators[name]['mae'],\n",
    "                estimators[name]['mape']))\n",
    "\n",
    "plt.suptitle('Predictors comparison ')\n",
    "plt.tight_layout()\n",
    "plt.subplots_adjust(top=0.9)\n",
    "plt.show()"
   ]
  },
  {
   "cell_type": "markdown",
   "metadata": {},
   "source": [
    "### Conclusion\n",
    "Both models shows great results with r2_score between 0.96 and 0.97. ExtendModel with more training data give lower mae and mape scores which means that we will get better score with more relevant data."
   ]
  },
  {
   "cell_type": "markdown",
   "metadata": {},
   "source": [
    "### Save models and transformers objects for deployment"
   ]
  },
  {
   "cell_type": "code",
   "execution_count": 65,
   "metadata": {},
   "outputs": [],
   "source": [
    "# save transformers\n",
    "dump(out_data['transformers'][0], open('./Transformers/BaseModelFT.pkl', 'wb'))\n",
    "dump(out_data['transformers'][1], open('./Transformers/BaseModelTT.pkl', 'wb'))\n",
    "dump(out_new_data['transformers'][0], open('./Transformers/ExtendModelFT.pkl', 'wb'))\n",
    "dump(out_new_data['transformers'][1], open('./Transformers/ExtendModelTT.pkl', 'wb'))"
   ]
  },
  {
   "cell_type": "code",
   "execution_count": 66,
   "metadata": {},
   "outputs": [
    {
     "name": "stdout",
     "output_type": "stream",
     "text": [
      "INFO:tensorflow:Assets written to: ./TensorflowModels/BaseModel\\assets\n"
     ]
    },
    {
     "name": "stderr",
     "output_type": "stream",
     "text": [
      "c:\\users\\mateo.polancec\\appdata\\local\\programs\\python\\python37\\lib\\site-packages\\tensorflow\\python\\keras\\utils\\generic_utils.py:497: CustomMaskWarning: Custom mask layers require a config and must override get_config. When loading, the custom mask layer must be passed to the custom_objects argument.\n",
      "  category=CustomMaskWarning)\n"
     ]
    },
    {
     "name": "stdout",
     "output_type": "stream",
     "text": [
      "INFO:tensorflow:Assets written to: ./TensorflowModels/ExtendModel\\assets\n"
     ]
    },
    {
     "name": "stderr",
     "output_type": "stream",
     "text": [
      "c:\\users\\mateo.polancec\\appdata\\local\\programs\\python\\python37\\lib\\site-packages\\tensorflow\\python\\keras\\utils\\generic_utils.py:497: CustomMaskWarning: Custom mask layers require a config and must override get_config. When loading, the custom mask layer must be passed to the custom_objects argument.\n",
      "  category=CustomMaskWarning)\n"
     ]
    }
   ],
   "source": [
    "# save tensorflow models models\n",
    "model.save('./TensorflowModels/BaseModel')\n",
    "model_extend.save('./TensorflowModels/ExtendModel')"
   ]
  }
 ],
 "metadata": {
  "accelerator": "GPU",
  "colab": {
   "authorship_tag": "ABX9TyN/Q55MEcY+4fsHCdXN42FQ",
   "include_colab_link": true,
   "name": "SemanticSegmentation.ipynb",
   "provenance": []
  },
  "kernelspec": {
   "display_name": "Python 3",
   "language": "python",
   "name": "python3"
  },
  "language_info": {
   "codemirror_mode": {
    "name": "ipython",
    "version": 3
   },
   "file_extension": ".py",
   "mimetype": "text/x-python",
   "name": "python",
   "nbconvert_exporter": "python",
   "pygments_lexer": "ipython3",
   "version": "3.7.9"
  }
 },
 "nbformat": 4,
 "nbformat_minor": 1
}
