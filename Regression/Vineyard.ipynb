{
 "cells": [
  {
   "cell_type": "markdown",
   "metadata": {
    "colab_type": "text",
    "id": "view-in-github"
   },
   "source": [
    "<a href=\"https://colab.research.google.com/github/mateopolancecofficial/DeepLearningProjects/blob/main/Regression/Vineyard.ipynb\" target=\"_parent\"><img src=\"https://colab.research.google.com/assets/colab-badge.svg\" alt=\"Open In Colab\"/></a>"
   ]
  },
  {
   "cell_type": "markdown",
   "metadata": {},
   "source": [
    "### ML training pipeline\n",
    "    - load dataset\n",
    "    - preprocess input dataset\n",
    "    - create tensorflow regression model\n",
    "    - run hyperparameter optimization process\n",
    "    - get predictions on a test set\n",
    "    - calculate different metrics scores\n",
    "    - save and export models"
   ]
  },
  {
   "cell_type": "code",
   "execution_count": 2,
   "metadata": {
    "id": "4gaL1fd3f1d2"
   },
   "outputs": [],
   "source": [
    "import os\n",
    "import warnings\n",
    "from pathlib import Path\n",
    "\n",
    "import matplotlib.pyplot as plt\n",
    "import numpy as np\n",
    "import pandas as pd\n",
    "import seaborn as sns\n",
    "from IPython.display import display\n",
    "\n",
    "from sklearn.feature_selection import mutual_info_regression\n",
    "from sklearn.model_selection import KFold, cross_val_score\n",
    "from sklearn.model_selection import train_test_split\n",
    "\n",
    "from sklearn.model_selection import train_test_split\n",
    "from sklearn.metrics import r2_score, mean_absolute_error\n",
    "from sklearn.preprocessing import PowerTransformer\n",
    "from sklearn.decomposition import PCA\n",
    "from pickle import dump"
   ]
  },
  {
   "cell_type": "code",
   "execution_count": 3,
   "metadata": {
    "id": "o_qp9YS8gKiM"
   },
   "outputs": [
    {
     "name": "stderr",
     "output_type": "stream",
     "text": [
      "c:\\users\\mateo.polancec\\appdata\\local\\programs\\python\\python37\\lib\\site-packages\\ipykernel_launcher.py:15: DeprecationWarning: `import kerastuner` is deprecated, please use `import keras_tuner`.\n",
      "  from ipykernel import kernelapp as app\n"
     ]
    }
   ],
   "source": [
    "import os\n",
    "import pandas as pd\n",
    "import numpy as np\n",
    "import tensorflow as tf\n",
    "import tensorflow_datasets as tfds\n",
    "from tensorflow import keras\n",
    "from tensorflow.keras.layers import (\n",
    "    Dense,\n",
    "    Dropout,\n",
    "    Input, \n",
    "    add,\n",
    "    BatchNormalization\n",
    ")\n",
    "\n",
    "import kerastuner as kt\n",
    "import matplotlib.pyplot as plt\n",
    "from sklearn.model_selection import train_test_split\n"
   ]
  },
  {
   "cell_type": "code",
   "execution_count": 4,
   "metadata": {
    "id": "soni8IcxQbIZ"
   },
   "outputs": [
    {
     "name": "stdout",
     "output_type": "stream",
     "text": [
      "WARNING:tensorflow:From <ipython-input-4-3a0fe0f5d3fa>:2: is_gpu_available (from tensorflow.python.framework.test_util) is deprecated and will be removed in a future version.\n",
      "Instructions for updating:\n",
      "Use `tf.config.list_physical_devices('GPU')` instead.\n"
     ]
    }
   ],
   "source": [
    "strategy = None\n",
    "if tf.test.is_gpu_available():\n",
    "  strategy = tf.distribute.MirroredStrategy()\n",
    "  print('Using GPU')"
   ]
  },
  {
   "cell_type": "code",
   "execution_count": 5,
   "metadata": {
    "id": "Mwv8sDiTPv_5"
   },
   "outputs": [],
   "source": [
    "# set column names\n",
    "columns = ['x0', 'x1', 'x2', 'x3', 'u']\n",
    "features = ['x0', 'x1', 'x2', 'x3']\n",
    "target = ['u']\n",
    "# define ranges of all features\n",
    "feature_ranges = {\"x0\": [1, 17], \"x1\": [-9, -4], \"x2\": [0, 3], \"x3\": [0, 50]}\n",
    "# path to data source\n",
    "source_path = \"./Data/podaci.csv\"\n",
    "# split sizes for train, validation and test subsets\n",
    "train_size, test_size, val_size = 0.8, 0.2, 0.2\n",
    "# num of new samples\n",
    "f_range = 100\n",
    "# set batch_size\n",
    "batch_size = 32\n",
    "AUTOTUNE = tf.data.AUTOTUNE"
   ]
  },
  {
   "cell_type": "code",
   "execution_count": 6,
   "metadata": {
    "id": "x6v4EYoLb56t"
   },
   "outputs": [],
   "source": [
    "df = pd.read_csv(source_path, names=columns)"
   ]
  },
  {
   "cell_type": "markdown",
   "metadata": {
    "id": "7WIkFVebcOhH"
   },
   "source": [
    "### Prepare datasets"
   ]
  },
  {
   "cell_type": "code",
   "execution_count": 7,
   "metadata": {
    "id": "Xbrlqq9sRZe1"
   },
   "outputs": [],
   "source": [
    "def split_data(df: pd.DataFrame, features: list, target: list, train_size: float, \n",
    "               test_size: float, val_size: float):\n",
    "  \"\"\"\n",
    "  Split dataset on train, test and validation subsets.\n",
    "  :param df:          input pandas DataFrame\n",
    "  :param features:    list of input features names\n",
    "  :param target:      list of target column names\n",
    "  :param train_size:  fraction of train size\n",
    "  :param test_size:   fraction of test size\n",
    "  :param val_size:    fraction of validation size\n",
    "  :return:            dictionary, keys=names of DataFrame, columns=DataFrame\n",
    "  \"\"\"\n",
    "  \n",
    "  # shuffle dataset\n",
    "  df = df.sample(frac = 1)\n",
    "  \n",
    "  # split on test and train set\n",
    "  x_train, x_test, y_train, y_test = train_test_split(df[features], df[target],\n",
    "                                     test_size=test_size, train_size=train_size)\n",
    "    \n",
    "  # split train set on train and validation subsets\n",
    "  x_train, x_val, y_train, y_val = train_test_split(x_train, y_train,\n",
    "                                      test_size=val_size, train_size=train_size)\n",
    "  \n",
    "  dataset_dict = {\n",
    "      'x_train': x_train,\n",
    "      'y_train': y_train,\n",
    "      'x_val': x_val,\n",
    "      'y_val': y_val,\n",
    "      'x_test': x_test,\n",
    "      'y_test': y_test\n",
    "  }\n",
    "\n",
    "  return dataset_dict"
   ]
  },
  {
   "cell_type": "code",
   "execution_count": 8,
   "metadata": {
    "id": "GuvOKPVRcAeK"
   },
   "outputs": [],
   "source": [
    "def cause_relevant_features(df: pd.DataFrame, features: list, f_range: int):\n",
    "  \"\"\"\n",
    "  Cause new data based on calculated statistics.\n",
    "  :param df:          input pandas DataFrame\n",
    "  :param f_range:     int, num of new samples\n",
    "  :return new_df:     pandas DataFrame with new data\n",
    "  \"\"\"\n",
    "\n",
    "  new_data = {}\n",
    "\n",
    "  for idx in range(len(features)):\n",
    "\n",
    "    std = df[features[idx]].std()\n",
    "    mean = df[features[idx]].mean()\n",
    "\n",
    "    data_range = [mean - (1.5 * std), mean + (1.5 * std)]\n",
    "\n",
    "    new_data[features[idx]] = np.random.uniform(data_range[0], data_range[1], f_range).reshape(f_range, 1).tolist()\n",
    "\n",
    "  new_df = pd.DataFrame.from_dict(new_data)\n",
    "  \n",
    "  for fidx in range(len(features)):\n",
    "    new_df[features[fidx]] = new_df[features[fidx]].map(lambda x: x[0])\n",
    "\n",
    "  return new_df"
   ]
  },
  {
   "cell_type": "code",
   "execution_count": 9,
   "metadata": {
    "id": "wvxcmC2VcIEP"
   },
   "outputs": [],
   "source": [
    "def get_target_values(df: pd.DataFrame, target: list):\n",
    "  \"\"\"\n",
    "  Return values of target variable based on input feature values.\n",
    "  :param df:               pandas dataframe with input features\n",
    "  :return target_result:   pandas dataframe with input features and target values\n",
    "  \"\"\"\n",
    "  \n",
    "  def calc_target_func(x0, x1, x2, x3):\n",
    "    \"\"\"\n",
    "    Return target value.\n",
    "    \"\"\"\n",
    "\n",
    "    return x0 + (x1**2) + x2 + (2*x3)\n",
    "  \n",
    "\n",
    "  df[target[0]] = df.apply(lambda row: calc_target_func(row['x0'], row['x1'], row['x2'], row['x3']), axis=1)\n",
    "\n",
    "  return df"
   ]
  },
  {
   "cell_type": "code",
   "execution_count": 10,
   "metadata": {
    "id": "KIpP_7cdc4Sf"
   },
   "outputs": [],
   "source": [
    "def create_extra_train_dataset(df: pd.DataFrame, df_new: pd.DataFrame):\n",
    "  \"\"\"\n",
    "  Extend train dataset with new data.\n",
    "  :param df:               pandas dataframe with input features\n",
    "  :param df_new:           pandas dataframe with input augmented features\n",
    "  :return df_result:       pandas dataframe with input features and target values\n",
    "  \"\"\"\n",
    "\n",
    "  return pd.concat([df, df_new], axis=0).reset_index()[features + target]"
   ]
  },
  {
   "cell_type": "code",
   "execution_count": 11,
   "metadata": {
    "id": "1q3kbER1c4U4"
   },
   "outputs": [],
   "source": [
    "def normalize_features(df: pd.DataFrame, features: list, target: list):\n",
    "  \"\"\"\n",
    "  Use Yeo-Johnson transform to normalize input features and target variable.\n",
    "  :param df:        dict with input pandas dataframes\n",
    "  :param features:  list of input features names\n",
    "  :param target:    list of target variables names\n",
    "  :return out_data: dict, data = pandas dataframe with transformed data,\n",
    "                          transformer = transformer objects\n",
    "  \"\"\"\n",
    "  \n",
    "  out_data = {'data': {}, 'transformers': []}\n",
    "  transformers = []\n",
    "  df_x = {}\n",
    "  df_y = {}\n",
    "\n",
    "  # normalize input data\n",
    "  for key in list(df.keys()):\n",
    "\n",
    "    if key == 'train_data':\n",
    "      # fit input features\n",
    "      transformer_f = PowerTransformer(method='yeo-johnson', standardize=True)\n",
    "      x_trans = transformer_f.fit_transform(df[key][features])\n",
    "      df_x[key] = pd.DataFrame(x_trans, columns=features)\n",
    "      transformers.append(transformer_f)\n",
    "\n",
    "      # fit input target\n",
    "      transformer_t = PowerTransformer(method='yeo-johnson', standardize=True)\n",
    "      y_trans = transformer_t.fit_transform(df[key][target])\n",
    "      df_y[key] = pd.DataFrame(y_trans, columns=target)\n",
    "      transformers.append(transformer_t)\n",
    "\n",
    "    elif key == 'test_data':\n",
    "      # transform input features\n",
    "      x_trans = transformers[0].transform(df[key][features])\n",
    "      df_x[key] = pd.DataFrame(x_trans, columns=features)\n",
    "\n",
    "      # use test target variable\n",
    "      y_trans = df[key][target]\n",
    "      df_y[key] = pd.DataFrame(y_trans, columns=target)\n",
    "    \n",
    "    else:\n",
    "      # transform input features\n",
    "      x_trans = transformers[0].transform(df[key][features])\n",
    "      df_x[key] = pd.DataFrame(x_trans, columns=features)\n",
    "\n",
    "      # transform target variable\n",
    "      y_trans = transformers[1].transform(df[key][target])\n",
    "      df_y[key] = pd.DataFrame(y_trans, columns=target)\n",
    "\n",
    "  # concatenate all transformed features dataframes with transformed target variables\n",
    "  for key in list(df.keys()):\n",
    "    out_data['data'][key] = pd.concat([df_x[key], df_y[key]], axis=1)\n",
    "  \n",
    "  out_data['transformers'] = transformers\n",
    "\n",
    "  return out_data"
   ]
  },
  {
   "cell_type": "code",
   "execution_count": 12,
   "metadata": {
    "id": "mOH6DKO7cIG3"
   },
   "outputs": [],
   "source": [
    "def run_data_prep():\n",
    "  \"\"\"\n",
    "    Prepare data sets.\n",
    "  \"\"\"\n",
    "  df_data = {}\n",
    "  df_extend_data = {}\n",
    "\n",
    "  # split dataset on train, validation and test subsets\n",
    "  dataset = split_data(df, features, target, train_size, test_size, val_size)\n",
    "\n",
    "  # create train dataset\n",
    "  x_train = dataset['x_train'].reset_index()[features]\n",
    "  y_train = dataset['y_train'].reset_index()[target]\n",
    "  train_data = pd.concat([x_train, y_train], axis=1)\n",
    "  df_data['train_data'] = train_data\n",
    "\n",
    "  # create validation dataset\n",
    "  x_val = dataset['x_val'].reset_index()[features]\n",
    "  y_val = dataset['y_val'].reset_index()[target]\n",
    "  val_data = pd.concat([x_val, y_val], axis=1)\n",
    "  df_data['val_data'] = val_data\n",
    "  \n",
    "  # create test dataset\n",
    "  x_test = dataset['x_test'].reset_index()[features]\n",
    "  y_test = dataset['y_test'].reset_index()[target]\n",
    "  test_data = pd.concat([x_test, y_test], axis=1)\n",
    "  df_data['test_data'] = test_data\n",
    "\n",
    "  # normalize input data\n",
    "  out_data = normalize_features(df_data, features, target)\n",
    "\n",
    "  # create new dataset with more input samples\n",
    "  new_data = cause_relevant_features(dataset['x_train'], features, f_range)\n",
    "  new_data = get_target_values(new_data, target)\n",
    "  new_data = new_data.reset_index()[features + target]\n",
    "  train_new_data = create_extra_train_dataset(train_data, new_data)\n",
    "  train_new_data = train_new_data.reset_index()[features + target]\n",
    "  df_extend_data['train_data'] = train_new_data\n",
    "  df_extend_data['val_data'] = val_data\n",
    "  df_extend_data['test_data'] = test_data\n",
    "\n",
    "  # normalize extended input data\n",
    "  out_new_data = normalize_features(df_extend_data, features, target)\n",
    "\n",
    "  return out_data, out_new_data\n"
   ]
  },
  {
   "cell_type": "code",
   "execution_count": 13,
   "metadata": {},
   "outputs": [],
   "source": [
    "def create_input_datasets(df_data: dict, features: list, target: list, batch_size: int):\n",
    "  \"\"\"\n",
    "  Create tensorflow datasets based on input dataframes for train, validation \n",
    "  and test subsets.\n",
    "  param df_data: dictionary, keys=names of dataframes, columns=dataframes\n",
    "  return:        dictionary, keys=names of datasets, columns=datasets\n",
    "  \"\"\"\n",
    "\n",
    "  # create train dataset for input in tensorflow model\n",
    "  train_dataset = tf.data.Dataset.from_tensor_slices((df_data['train_data'][features], \n",
    "                                                      df_data['train_data'][target]))\n",
    "  train_dataset = train_dataset.batch(batch_size)\n",
    "  train_ds = train_dataset.cache().prefetch(buffer_size=AUTOTUNE)\n",
    "\n",
    "  # create validation dataset for input in tensorflow model\n",
    "  val_dataset = tf.data.Dataset.from_tensor_slices((df_data['val_data'][features], \n",
    "                                                    df_data['val_data'][target]))\n",
    "  val_dataset = val_dataset.batch(batch_size)\n",
    "  val_ds = val_dataset.cache().prefetch(buffer_size=AUTOTUNE)\n",
    "\n",
    "  # create validation dataset for input in tensorflow model\n",
    "  test_dataset = tf.data.Dataset.from_tensor_slices((df_data['test_data'][features], \n",
    "                                                     df_data['test_data'][target]))\n",
    "  test_dataset = test_dataset.batch(batch_size)\n",
    "  test_ds = test_dataset.cache().prefetch(buffer_size=AUTOTUNE)\n",
    "\n",
    "  datasets = {\n",
    "      'train_dataset': train_dataset,\n",
    "      'val_dataset': val_dataset,\n",
    "      'test_dataset': test_dataset\n",
    "  } \n",
    "\n",
    "  return datasets"
   ]
  },
  {
   "cell_type": "code",
   "execution_count": 14,
   "metadata": {
    "scrolled": true
   },
   "outputs": [],
   "source": [
    "out_data, out_new_data = run_data_prep()\n",
    "datasets = create_input_datasets(out_data['data'], features, target, batch_size)\n",
    "datasets_extended = create_input_datasets(out_new_data['data'], features, target, batch_size)"
   ]
  },
  {
   "cell_type": "markdown",
   "metadata": {},
   "source": [
    "### Create model"
   ]
  },
  {
   "cell_type": "code",
   "execution_count": 15,
   "metadata": {},
   "outputs": [],
   "source": [
    "# define loss functions\n",
    "from tensorflow.keras import backend as K\n",
    "\n",
    "def rmse():\n",
    "  def root_mean_squared_error(y_true, y_pred):\n",
    "        return K.sqrt(K.mean(K.square(y_pred - y_true))) \n",
    "  return root_mean_squared_error\n",
    "\n",
    "def rmsle():\n",
    "  def root_mean_squared_log_error(y_true, y_pred):\n",
    "    return K.sqrt(K.mean(K.square(K.log(1+y_pred) - K.log(1+y_true))))\n",
    "  return root_mean_squared_log_error"
   ]
  },
  {
   "cell_type": "markdown",
   "metadata": {},
   "source": [
    "ANN model:\n",
    "   - Vanishing gradient problem - add residual connections and batch normalization layers\n",
    "   - Overfitting - add regularization and dropout layers\n",
    "   - prepare model for hyperparameter tuning\n",
    "   - use mse loss function\n",
    "   - use mae matric\n",
    "   - use adam optimizer with adaptive learning rate"
   ]
  },
  {
   "cell_type": "code",
   "execution_count": 34,
   "metadata": {},
   "outputs": [],
   "source": [
    "def model_builder(hp):\n",
    "  \"\"\"\n",
    "  Regression model.\n",
    "  \"\"\"\n",
    "    \n",
    "  hp_units = hp.Int('units', min_value=len(features), max_value=len(features)*8, step=len(features))\n",
    "\n",
    "  activation=hp.Choice(\n",
    "        'dense_activation',\n",
    "        values=['relu', 'tanh', 'sigmoid'],\n",
    "        default='relu'\n",
    "    )\n",
    "  \n",
    "  # set input shape\n",
    "  inputs = Input(shape=(len(features)), name=\"input_vineyard\")\n",
    "  \n",
    "  # add skip connections\n",
    "  x = Dense(units=len(features)*7, activation=\"relu\",\n",
    "           kernel_regularizer=tf.keras.regularizers.L2(1e-4),\n",
    "           bias_regularizer=tf.keras.regularizers.L2(1e-4))(inputs)\n",
    "    \n",
    "  block_out_1 = Dense(units=len(features)*8, activation=\"relu\",\n",
    "                     kernel_regularizer=tf.keras.regularizers.L2(1e-4),\n",
    "                     bias_regularizer=tf.keras.regularizers.L2(1e-4))(x)\n",
    "  \n",
    "  x = Dense(units=len(features)*8, activation=\"relu\",\n",
    "           kernel_regularizer=tf.keras.regularizers.L2(1e-4),\n",
    "           bias_regularizer=tf.keras.regularizers.L2(1e-4))(block_out_1)\n",
    "\n",
    "  x = Dense(units=len(features)*8, activation=\"relu\",\n",
    "           kernel_regularizer=tf.keras.regularizers.L2(1e-4),\n",
    "           bias_regularizer=tf.keras.regularizers.L2(1e-4))(x)\n",
    "  \n",
    "  block_out_2 = add([x, block_out_1])\n",
    "  \n",
    "  # add batch normalization\n",
    "  normalized = BatchNormalization()(block_out_2)\n",
    "\n",
    "  x = Dense(units=hp_units, activation=activation,\n",
    "           kernel_regularizer=tf.keras.regularizers.L2(1e-4),\n",
    "           bias_regularizer=tf.keras.regularizers.L2(1e-4))(normalized)\n",
    "    \n",
    "  x = Dropout(rate=hp.Float(\n",
    "                'dropout_1',\n",
    "                min_value=0.1,\n",
    "                max_value=0.5,\n",
    "                default=0.25,\n",
    "                step=0.1,\n",
    "            ))(x)\n",
    "\n",
    "  x = Dense(units=hp_units, activation=activation,\n",
    "           kernel_regularizer=tf.keras.regularizers.L2(1e-4),\n",
    "           bias_regularizer=tf.keras.regularizers.L2(1e-4))(x)\n",
    "  \n",
    "  # add dropout layers\n",
    "  x = Dropout(rate=hp.Float(\n",
    "                'dropout_2',\n",
    "                min_value=0.1,\n",
    "                max_value=0.5,\n",
    "                default=0.25,\n",
    "                step=0.1,\n",
    "            ))(x)\n",
    "    \n",
    "  outputs = Dense(units=1)(x)\n",
    "\n",
    "  model = keras.Model(inputs, outputs, name=\"vineyard_regressor\")\n",
    "\n",
    "  hp_learning_rate = hp.Choice('learning_rate', values=[1e-2, 1e-3, 1e-4])\n",
    "  \n",
    "  model.compile(optimizer=keras.optimizers.Adam(learning_rate=hp_learning_rate),\n",
    "                loss=\"mse\",\n",
    "                metrics=['mean_absolute_error'])\n",
    "\n",
    "  return model"
   ]
  },
  {
   "cell_type": "markdown",
   "metadata": {},
   "source": [
    "### Hyperparameter optimization"
   ]
  },
  {
   "cell_type": "code",
   "execution_count": 35,
   "metadata": {},
   "outputs": [],
   "source": [
    "def set_hyperparameter_optimizer(strategy):\n",
    "  \"\"\"\n",
    "  Set hyperparameter optimizer.\n",
    "  :param strategy: None if one CPU or GPU is available, else defined by mirrored strategy for multi GPU execution\n",
    "  :return tuner:   keras tuner object\n",
    "  \"\"\"\n",
    "  \n",
    "  tuner = kt.Hyperband(\n",
    "        hypermodel=model_builder,\n",
    "        objective=\"val_mean_absolute_error\",\n",
    "        max_epochs=10,\n",
    "        factor=2,\n",
    "        hyperband_iterations=3,\n",
    "        distribution_strategy=strategy,\n",
    "        directory='HpResultsDir',\n",
    "        project_name='vineyard_model')\n",
    "\n",
    "  return tuner"
   ]
  },
  {
   "cell_type": "code",
   "execution_count": 36,
   "metadata": {},
   "outputs": [],
   "source": [
    "# define early stop callback to prevent overfitting\n",
    "stop_early = tf.keras.callbacks.EarlyStopping(monitor='val_mean_absolute_error', patience=10, mode='min')"
   ]
  },
  {
   "cell_type": "code",
   "execution_count": 37,
   "metadata": {},
   "outputs": [
    {
     "name": "stdout",
     "output_type": "stream",
     "text": [
      "INFO:tensorflow:Reloading Oracle from existing project HpResultsDir\\vineyard_model\\oracle.json\n"
     ]
    }
   ],
   "source": [
    "tuner = set_hyperparameter_optimizer(strategy)"
   ]
  },
  {
   "cell_type": "markdown",
   "metadata": {},
   "source": [
    "Tune hyperparameters on non-extended train dataset."
   ]
  },
  {
   "cell_type": "code",
   "execution_count": 38,
   "metadata": {},
   "outputs": [
    {
     "name": "stdout",
     "output_type": "stream",
     "text": [
      "Trial 26 Complete [00h 00m 02s]\n",
      "val_mean_absolute_error: 0.9302234649658203\n",
      "\n",
      "Best val_mean_absolute_error So Far: 0.3553861677646637\n",
      "Total elapsed time: 00h 00m 40s\n",
      "INFO:tensorflow:Oracle triggered exit\n"
     ]
    }
   ],
   "source": [
    "tuner.search(datasets['train_dataset'],\n",
    "             validation_data=datasets['val_dataset'],\n",
    "             epochs=10,\n",
    "             callbacks=[stop_early])\n",
    "\n",
    "# get optimal hyperparameters\n",
    "best_hps = tuner.get_best_hyperparameters(num_trials=1)[0]"
   ]
  },
  {
   "cell_type": "markdown",
   "metadata": {},
   "source": [
    "### Training process\n",
    "Training will be done on two different datasets (dataset, dataset_extended)."
   ]
  },
  {
   "cell_type": "code",
   "execution_count": 39,
   "metadata": {},
   "outputs": [],
   "source": [
    "def plot_training_results(history, epochs):\n",
    "\n",
    "  acc = history.history['mean_absolute_error']\n",
    "  val_acc = history.history['val_mean_absolute_error']\n",
    "\n",
    "  loss = history.history['loss']\n",
    "  val_loss = history.history['val_loss']\n",
    "\n",
    "  epochs_range = range(epochs)\n",
    "\n",
    "  plt.figure(figsize=(8, 8))\n",
    "  plt.subplot(1, 2, 1)\n",
    "  plt.plot(epochs_range, acc, label='Training MAE')\n",
    "  plt.plot(epochs_range, val_acc, label='Validation MAE')\n",
    "  plt.legend(loc='upper right')\n",
    "  plt.title('Training and Validation MAE')\n",
    "\n",
    "  plt.subplot(1, 2, 2)\n",
    "  plt.plot(epochs_range, loss, label='Training Loss')\n",
    "  plt.plot(epochs_range, val_loss, label='Validation Loss')\n",
    "  plt.legend(loc='upper right')\n",
    "  plt.title('Training and Validation Loss')\n",
    "  plt.show()"
   ]
  },
  {
   "cell_type": "markdown",
   "metadata": {},
   "source": [
    "#### Process 1\n",
    "datasets = datasets"
   ]
  },
  {
   "cell_type": "code",
   "execution_count": 40,
   "metadata": {},
   "outputs": [
    {
     "name": "stdout",
     "output_type": "stream",
     "text": [
      "Epoch 1/100\n",
      "4/4 [==============================] - 1s 46ms/step - loss: 1.2403 - mean_absolute_error: 0.9397 - val_loss: 1.0703 - val_mean_absolute_error: 0.8614\n",
      "Epoch 2/100\n",
      "4/4 [==============================] - 0s 6ms/step - loss: 0.7270 - mean_absolute_error: 0.6787 - val_loss: 0.7433 - val_mean_absolute_error: 0.7072\n",
      "Epoch 3/100\n",
      "4/4 [==============================] - 0s 5ms/step - loss: 0.5496 - mean_absolute_error: 0.5952 - val_loss: 0.3795 - val_mean_absolute_error: 0.4664\n",
      "Epoch 4/100\n",
      "4/4 [==============================] - 0s 5ms/step - loss: 0.4586 - mean_absolute_error: 0.5254 - val_loss: 0.2557 - val_mean_absolute_error: 0.3869\n",
      "Epoch 5/100\n",
      "4/4 [==============================] - 0s 5ms/step - loss: 0.3951 - mean_absolute_error: 0.5007 - val_loss: 0.2439 - val_mean_absolute_error: 0.3960\n",
      "Epoch 6/100\n",
      "4/4 [==============================] - 0s 5ms/step - loss: 0.4264 - mean_absolute_error: 0.5256 - val_loss: 0.2380 - val_mean_absolute_error: 0.3869\n",
      "Epoch 7/100\n",
      "4/4 [==============================] - 0s 5ms/step - loss: 0.3603 - mean_absolute_error: 0.4575 - val_loss: 0.2441 - val_mean_absolute_error: 0.4003\n",
      "Epoch 8/100\n",
      "4/4 [==============================] - 0s 5ms/step - loss: 0.3174 - mean_absolute_error: 0.4264 - val_loss: 0.2558 - val_mean_absolute_error: 0.4302\n",
      "Epoch 9/100\n",
      "4/4 [==============================] - 0s 5ms/step - loss: 0.3019 - mean_absolute_error: 0.4302 - val_loss: 0.2369 - val_mean_absolute_error: 0.4169\n",
      "Epoch 10/100\n",
      "4/4 [==============================] - 0s 5ms/step - loss: 0.2813 - mean_absolute_error: 0.4285 - val_loss: 0.2122 - val_mean_absolute_error: 0.3805\n",
      "Epoch 11/100\n",
      "4/4 [==============================] - 0s 6ms/step - loss: 0.2812 - mean_absolute_error: 0.4006 - val_loss: 0.2061 - val_mean_absolute_error: 0.3596\n",
      "Epoch 12/100\n",
      "4/4 [==============================] - 0s 5ms/step - loss: 0.2933 - mean_absolute_error: 0.3844 - val_loss: 0.1966 - val_mean_absolute_error: 0.3543\n",
      "Epoch 13/100\n",
      "4/4 [==============================] - 0s 5ms/step - loss: 0.2595 - mean_absolute_error: 0.3758 - val_loss: 0.1926 - val_mean_absolute_error: 0.3624\n",
      "Epoch 14/100\n",
      "4/4 [==============================] - 0s 5ms/step - loss: 0.2286 - mean_absolute_error: 0.3515 - val_loss: 0.1888 - val_mean_absolute_error: 0.3612\n",
      "Epoch 15/100\n",
      "4/4 [==============================] - 0s 5ms/step - loss: 0.2402 - mean_absolute_error: 0.3644 - val_loss: 0.1798 - val_mean_absolute_error: 0.3541\n",
      "Epoch 16/100\n",
      "4/4 [==============================] - 0s 5ms/step - loss: 0.2316 - mean_absolute_error: 0.3525 - val_loss: 0.1546 - val_mean_absolute_error: 0.3113\n",
      "Epoch 17/100\n",
      "4/4 [==============================] - 0s 5ms/step - loss: 0.1851 - mean_absolute_error: 0.3125 - val_loss: 0.1364 - val_mean_absolute_error: 0.2847\n",
      "Epoch 18/100\n",
      "4/4 [==============================] - 0s 5ms/step - loss: 0.1914 - mean_absolute_error: 0.3342 - val_loss: 0.1444 - val_mean_absolute_error: 0.2878\n",
      "Epoch 19/100\n",
      "4/4 [==============================] - 0s 5ms/step - loss: 0.1910 - mean_absolute_error: 0.3367 - val_loss: 0.1470 - val_mean_absolute_error: 0.2839\n",
      "Epoch 20/100\n",
      "4/4 [==============================] - 0s 5ms/step - loss: 0.1784 - mean_absolute_error: 0.2936 - val_loss: 0.1303 - val_mean_absolute_error: 0.2469\n",
      "Epoch 21/100\n",
      "4/4 [==============================] - 0s 5ms/step - loss: 0.1543 - mean_absolute_error: 0.2879 - val_loss: 0.1108 - val_mean_absolute_error: 0.2258\n",
      "Epoch 22/100\n",
      "4/4 [==============================] - 0s 5ms/step - loss: 0.1836 - mean_absolute_error: 0.3187 - val_loss: 0.0959 - val_mean_absolute_error: 0.2083\n",
      "Epoch 23/100\n",
      "4/4 [==============================] - 0s 5ms/step - loss: 0.1516 - mean_absolute_error: 0.2852 - val_loss: 0.0969 - val_mean_absolute_error: 0.2199\n",
      "Epoch 24/100\n",
      "4/4 [==============================] - 0s 5ms/step - loss: 0.1695 - mean_absolute_error: 0.3095 - val_loss: 0.0999 - val_mean_absolute_error: 0.2271\n",
      "Epoch 25/100\n",
      "4/4 [==============================] - 0s 5ms/step - loss: 0.1555 - mean_absolute_error: 0.2753 - val_loss: 0.0950 - val_mean_absolute_error: 0.2076\n",
      "Epoch 26/100\n",
      "4/4 [==============================] - 0s 5ms/step - loss: 0.1449 - mean_absolute_error: 0.2722 - val_loss: 0.0942 - val_mean_absolute_error: 0.2025\n",
      "Epoch 27/100\n",
      "4/4 [==============================] - 0s 5ms/step - loss: 0.1532 - mean_absolute_error: 0.2821 - val_loss: 0.0964 - val_mean_absolute_error: 0.2067\n",
      "Epoch 28/100\n",
      "4/4 [==============================] - 0s 5ms/step - loss: 0.1477 - mean_absolute_error: 0.2741 - val_loss: 0.0923 - val_mean_absolute_error: 0.1983\n",
      "Epoch 29/100\n",
      "4/4 [==============================] - 0s 5ms/step - loss: 0.1326 - mean_absolute_error: 0.2582 - val_loss: 0.0805 - val_mean_absolute_error: 0.1766\n",
      "Epoch 30/100\n",
      "4/4 [==============================] - 0s 6ms/step - loss: 0.1448 - mean_absolute_error: 0.2835 - val_loss: 0.0761 - val_mean_absolute_error: 0.1543\n",
      "Epoch 31/100\n",
      "4/4 [==============================] - 0s 5ms/step - loss: 0.1269 - mean_absolute_error: 0.2416 - val_loss: 0.0715 - val_mean_absolute_error: 0.1446\n",
      "Epoch 32/100\n",
      "4/4 [==============================] - 0s 5ms/step - loss: 0.1132 - mean_absolute_error: 0.2524 - val_loss: 0.0727 - val_mean_absolute_error: 0.1691\n",
      "Epoch 33/100\n",
      "4/4 [==============================] - 0s 5ms/step - loss: 0.1120 - mean_absolute_error: 0.2341 - val_loss: 0.0697 - val_mean_absolute_error: 0.1516\n",
      "Epoch 34/100\n",
      "4/4 [==============================] - 0s 5ms/step - loss: 0.1262 - mean_absolute_error: 0.2481 - val_loss: 0.0708 - val_mean_absolute_error: 0.1615\n",
      "Epoch 35/100\n",
      "4/4 [==============================] - 0s 5ms/step - loss: 0.1284 - mean_absolute_error: 0.2579 - val_loss: 0.0688 - val_mean_absolute_error: 0.1567\n",
      "Epoch 36/100\n",
      "4/4 [==============================] - 0s 6ms/step - loss: 0.1195 - mean_absolute_error: 0.2537 - val_loss: 0.0673 - val_mean_absolute_error: 0.1479\n",
      "Epoch 37/100\n",
      "4/4 [==============================] - 0s 5ms/step - loss: 0.1336 - mean_absolute_error: 0.2611 - val_loss: 0.0617 - val_mean_absolute_error: 0.1331\n",
      "Epoch 38/100\n",
      "4/4 [==============================] - 0s 5ms/step - loss: 0.1130 - mean_absolute_error: 0.2348 - val_loss: 0.0576 - val_mean_absolute_error: 0.1243\n",
      "Epoch 39/100\n",
      "4/4 [==============================] - 0s 4ms/step - loss: 0.1196 - mean_absolute_error: 0.2443 - val_loss: 0.0562 - val_mean_absolute_error: 0.1340\n",
      "Epoch 40/100\n",
      "4/4 [==============================] - 0s 4ms/step - loss: 0.1117 - mean_absolute_error: 0.2276 - val_loss: 0.0573 - val_mean_absolute_error: 0.1377\n",
      "Epoch 41/100\n",
      "4/4 [==============================] - 0s 4ms/step - loss: 0.1303 - mean_absolute_error: 0.2609 - val_loss: 0.0587 - val_mean_absolute_error: 0.1462\n",
      "Epoch 42/100\n",
      "4/4 [==============================] - 0s 4ms/step - loss: 0.0989 - mean_absolute_error: 0.2276 - val_loss: 0.0618 - val_mean_absolute_error: 0.1424\n",
      "Epoch 43/100\n",
      "4/4 [==============================] - 0s 4ms/step - loss: 0.1192 - mean_absolute_error: 0.2509 - val_loss: 0.0680 - val_mean_absolute_error: 0.1576\n",
      "Epoch 44/100\n",
      "4/4 [==============================] - 0s 5ms/step - loss: 0.1281 - mean_absolute_error: 0.2555 - val_loss: 0.0670 - val_mean_absolute_error: 0.1473\n",
      "Epoch 45/100\n",
      "4/4 [==============================] - 0s 4ms/step - loss: 0.1348 - mean_absolute_error: 0.2576 - val_loss: 0.0760 - val_mean_absolute_error: 0.1624\n",
      "Epoch 46/100\n",
      "4/4 [==============================] - 0s 4ms/step - loss: 0.1331 - mean_absolute_error: 0.2525 - val_loss: 0.0691 - val_mean_absolute_error: 0.1401\n",
      "Epoch 47/100\n",
      "4/4 [==============================] - 0s 4ms/step - loss: 0.1390 - mean_absolute_error: 0.2637 - val_loss: 0.0645 - val_mean_absolute_error: 0.1523\n",
      "Epoch 48/100\n",
      "4/4 [==============================] - 0s 5ms/step - loss: 0.1149 - mean_absolute_error: 0.2388 - val_loss: 0.0642 - val_mean_absolute_error: 0.1611\n"
     ]
    }
   ],
   "source": [
    "model = tuner.hypermodel.build(best_hps)\n",
    "epochs = 100\n",
    "history_dat = model.fit(datasets['train_dataset'],\n",
    "                        validation_data=datasets['val_dataset'],\n",
    "                        epochs=epochs,\n",
    "                        callbacks=[stop_early]\n",
    "                       )"
   ]
  },
  {
   "cell_type": "code",
   "execution_count": 41,
   "metadata": {},
   "outputs": [
    {
     "data": {
      "image/png": "[encoded data removed]",
      "text/plain": [
       "<Figure size 576x576 with 2 Axes>"
      ]
     },
     "metadata": {
      "needs_background": "light"
     },
     "output_type": "display_data"
    }
   ],
   "source": [
    "epochs = len(history_dat.history['loss'])\n",
    "plot_training_results(history_dat, epochs)"
   ]
  },
  {
   "cell_type": "markdown",
   "metadata": {},
   "source": [
    "#### Process 2\n",
    "datasets = datasets_extended"
   ]
  },
  {
   "cell_type": "code",
   "execution_count": 42,
   "metadata": {},
   "outputs": [
    {
     "name": "stdout",
     "output_type": "stream",
     "text": [
      "Epoch 1/100\n",
      "8/8 [==============================] - 1s 20ms/step - loss: 1.2053 - mean_absolute_error: 0.8831 - val_loss: 1.1800 - val_mean_absolute_error: 0.8880\n",
      "Epoch 2/100\n",
      "8/8 [==============================] - 0s 3ms/step - loss: 0.5063 - mean_absolute_error: 0.5397 - val_loss: 0.8654 - val_mean_absolute_error: 0.8199\n",
      "Epoch 3/100\n",
      "8/8 [==============================] - 0s 3ms/step - loss: 0.3842 - mean_absolute_error: 0.4801 - val_loss: 0.8261 - val_mean_absolute_error: 0.8203\n",
      "Epoch 4/100\n",
      "8/8 [==============================] - 0s 3ms/step - loss: 0.2971 - mean_absolute_error: 0.4219 - val_loss: 0.8601 - val_mean_absolute_error: 0.8351\n",
      "Epoch 5/100\n",
      "8/8 [==============================] - 0s 3ms/step - loss: 0.2644 - mean_absolute_error: 0.3919 - val_loss: 0.8498 - val_mean_absolute_error: 0.8293\n",
      "Epoch 6/100\n",
      "8/8 [==============================] - 0s 3ms/step - loss: 0.2503 - mean_absolute_error: 0.3721 - val_loss: 0.7300 - val_mean_absolute_error: 0.7682\n",
      "Epoch 7/100\n",
      "8/8 [==============================] - 0s 3ms/step - loss: 0.2173 - mean_absolute_error: 0.3414 - val_loss: 0.4251 - val_mean_absolute_error: 0.5929\n",
      "Epoch 8/100\n",
      "8/8 [==============================] - 0s 3ms/step - loss: 0.2215 - mean_absolute_error: 0.3640 - val_loss: 0.4081 - val_mean_absolute_error: 0.5757\n",
      "Epoch 9/100\n",
      "8/8 [==============================] - 0s 3ms/step - loss: 0.1773 - mean_absolute_error: 0.3059 - val_loss: 0.3366 - val_mean_absolute_error: 0.5224\n",
      "Epoch 10/100\n",
      "8/8 [==============================] - 0s 3ms/step - loss: 0.1996 - mean_absolute_error: 0.3316 - val_loss: 0.3602 - val_mean_absolute_error: 0.5287\n",
      "Epoch 11/100\n",
      "8/8 [==============================] - 0s 3ms/step - loss: 0.2014 - mean_absolute_error: 0.3407 - val_loss: 0.2928 - val_mean_absolute_error: 0.4621\n",
      "Epoch 12/100\n",
      "8/8 [==============================] - 0s 3ms/step - loss: 0.1675 - mean_absolute_error: 0.3104 - val_loss: 0.2135 - val_mean_absolute_error: 0.3837\n",
      "Epoch 13/100\n",
      "8/8 [==============================] - 0s 3ms/step - loss: 0.1978 - mean_absolute_error: 0.3056 - val_loss: 0.1919 - val_mean_absolute_error: 0.3717\n",
      "Epoch 14/100\n",
      "8/8 [==============================] - 0s 3ms/step - loss: 0.1647 - mean_absolute_error: 0.2959 - val_loss: 0.2107 - val_mean_absolute_error: 0.3806\n",
      "Epoch 15/100\n",
      "8/8 [==============================] - 0s 3ms/step - loss: 0.1709 - mean_absolute_error: 0.3021 - val_loss: 0.1856 - val_mean_absolute_error: 0.3621\n",
      "Epoch 16/100\n",
      "8/8 [==============================] - 0s 3ms/step - loss: 0.1573 - mean_absolute_error: 0.2922 - val_loss: 0.1603 - val_mean_absolute_error: 0.3359\n",
      "Epoch 17/100\n",
      "8/8 [==============================] - 0s 3ms/step - loss: 0.1578 - mean_absolute_error: 0.2894 - val_loss: 0.1449 - val_mean_absolute_error: 0.3053\n",
      "Epoch 18/100\n",
      "8/8 [==============================] - 0s 3ms/step - loss: 0.1475 - mean_absolute_error: 0.2706 - val_loss: 0.1163 - val_mean_absolute_error: 0.2498\n",
      "Epoch 19/100\n",
      "8/8 [==============================] - 0s 3ms/step - loss: 0.1217 - mean_absolute_error: 0.2443 - val_loss: 0.1093 - val_mean_absolute_error: 0.2252\n",
      "Epoch 20/100\n",
      "8/8 [==============================] - 0s 3ms/step - loss: 0.1434 - mean_absolute_error: 0.2761 - val_loss: 0.1035 - val_mean_absolute_error: 0.1914\n",
      "Epoch 21/100\n",
      "8/8 [==============================] - 0s 2ms/step - loss: 0.1450 - mean_absolute_error: 0.2793 - val_loss: 0.0991 - val_mean_absolute_error: 0.2156\n",
      "Epoch 22/100\n",
      "8/8 [==============================] - 0s 3ms/step - loss: 0.1579 - mean_absolute_error: 0.2929 - val_loss: 0.1012 - val_mean_absolute_error: 0.2258\n",
      "Epoch 23/100\n",
      "8/8 [==============================] - 0s 3ms/step - loss: 0.1174 - mean_absolute_error: 0.2478 - val_loss: 0.0926 - val_mean_absolute_error: 0.2182\n",
      "Epoch 24/100\n",
      "8/8 [==============================] - 0s 3ms/step - loss: 0.1155 - mean_absolute_error: 0.2467 - val_loss: 0.0833 - val_mean_absolute_error: 0.1828\n",
      "Epoch 25/100\n",
      "8/8 [==============================] - 0s 3ms/step - loss: 0.1172 - mean_absolute_error: 0.2475 - val_loss: 0.0911 - val_mean_absolute_error: 0.1947\n",
      "Epoch 26/100\n",
      "8/8 [==============================] - 0s 3ms/step - loss: 0.1331 - mean_absolute_error: 0.2572 - val_loss: 0.1174 - val_mean_absolute_error: 0.2616\n",
      "Epoch 27/100\n",
      "8/8 [==============================] - 0s 3ms/step - loss: 0.1355 - mean_absolute_error: 0.2511 - val_loss: 0.1149 - val_mean_absolute_error: 0.2464\n",
      "Epoch 28/100\n",
      "8/8 [==============================] - 0s 3ms/step - loss: 0.1251 - mean_absolute_error: 0.2524 - val_loss: 0.1106 - val_mean_absolute_error: 0.2400\n",
      "Epoch 29/100\n",
      "8/8 [==============================] - 0s 3ms/step - loss: 0.1382 - mean_absolute_error: 0.2478 - val_loss: 0.0734 - val_mean_absolute_error: 0.1652\n",
      "Epoch 30/100\n",
      "8/8 [==============================] - 0s 3ms/step - loss: 0.1341 - mean_absolute_error: 0.2557 - val_loss: 0.0659 - val_mean_absolute_error: 0.1578\n",
      "Epoch 31/100\n",
      "8/8 [==============================] - 0s 3ms/step - loss: 0.1175 - mean_absolute_error: 0.2385 - val_loss: 0.0776 - val_mean_absolute_error: 0.1642\n",
      "Epoch 32/100\n",
      "8/8 [==============================] - 0s 3ms/step - loss: 0.1199 - mean_absolute_error: 0.2310 - val_loss: 0.0755 - val_mean_absolute_error: 0.1486\n",
      "Epoch 33/100\n",
      "8/8 [==============================] - 0s 3ms/step - loss: 0.1101 - mean_absolute_error: 0.2369 - val_loss: 0.0874 - val_mean_absolute_error: 0.1705\n",
      "Epoch 34/100\n",
      "8/8 [==============================] - 0s 3ms/step - loss: 0.1436 - mean_absolute_error: 0.2853 - val_loss: 0.0881 - val_mean_absolute_error: 0.1764\n",
      "Epoch 35/100\n",
      "8/8 [==============================] - 0s 3ms/step - loss: 0.1233 - mean_absolute_error: 0.2456 - val_loss: 0.0892 - val_mean_absolute_error: 0.2010\n",
      "Epoch 36/100\n",
      "8/8 [==============================] - 0s 3ms/step - loss: 0.1328 - mean_absolute_error: 0.2649 - val_loss: 0.0741 - val_mean_absolute_error: 0.1867\n",
      "Epoch 37/100\n",
      "8/8 [==============================] - 0s 3ms/step - loss: 0.1255 - mean_absolute_error: 0.2451 - val_loss: 0.0879 - val_mean_absolute_error: 0.1864\n",
      "Epoch 38/100\n",
      "8/8 [==============================] - 0s 3ms/step - loss: 0.1155 - mean_absolute_error: 0.2416 - val_loss: 0.0738 - val_mean_absolute_error: 0.1587\n",
      "Epoch 39/100\n",
      "8/8 [==============================] - 0s 3ms/step - loss: 0.1081 - mean_absolute_error: 0.2329 - val_loss: 0.0771 - val_mean_absolute_error: 0.1587\n",
      "Epoch 40/100\n",
      "8/8 [==============================] - 0s 2ms/step - loss: 0.1007 - mean_absolute_error: 0.2274 - val_loss: 0.0801 - val_mean_absolute_error: 0.1763\n",
      "Epoch 41/100\n",
      "8/8 [==============================] - 0s 2ms/step - loss: 0.1202 - mean_absolute_error: 0.2430 - val_loss: 0.0750 - val_mean_absolute_error: 0.1540\n",
      "Epoch 42/100\n",
      "8/8 [==============================] - 0s 2ms/step - loss: 0.0958 - mean_absolute_error: 0.2083 - val_loss: 0.0724 - val_mean_absolute_error: 0.1511\n"
     ]
    }
   ],
   "source": [
    "model_extend = tuner.hypermodel.build(best_hps)\n",
    "epochs = 100\n",
    "history_dat_ext = model_extend.fit(datasets_extended['train_dataset'],\n",
    "                                   validation_data=datasets_extended['val_dataset'],\n",
    "                                   epochs=epochs,\n",
    "                                   callbacks=[stop_early]\n",
    "                                   )"
   ]
  },
  {
   "cell_type": "code",
   "execution_count": 43,
   "metadata": {},
   "outputs": [
    {
     "data": {
      "image/png": "[encoded data removed]",
      "text/plain": [
       "<Figure size 576x576 with 2 Axes>"
      ]
     },
     "metadata": {
      "needs_background": "light"
     },
     "output_type": "display_data"
    }
   ],
   "source": [
    "epochs = len(history_dat_ext.history['loss'])\n",
    "plot_training_results(history_dat_ext, epochs)"
   ]
  },
  {
   "cell_type": "markdown",
   "metadata": {},
   "source": [
    "### Calculate scores of both models on test set"
   ]
  },
  {
   "cell_type": "code",
   "execution_count": 44,
   "metadata": {},
   "outputs": [],
   "source": [
    "predictions = out_data['transformers'][1].inverse_transform(model.predict(datasets['test_dataset'])).reshape(-1, 1)\n",
    "predictions_ext = out_new_data['transformers'][1].inverse_transform(model_extend.predict(datasets['test_dataset'])).reshape(-1, 1)"
   ]
  },
  {
   "cell_type": "code",
   "execution_count": 45,
   "metadata": {},
   "outputs": [],
   "source": [
    "y_real = np.concatenate([y for x, y in datasets['test_dataset']], axis=0)"
   ]
  },
  {
   "cell_type": "code",
   "execution_count": 46,
   "metadata": {},
   "outputs": [],
   "source": [
    "#Defining MAPE function\n",
    "def mape(y_true, predictions):\n",
    "    mape = np.mean(np.abs((y_true - predictions)/y_true))*100\n",
    "    return mape"
   ]
  },
  {
   "cell_type": "code",
   "execution_count": 47,
   "metadata": {},
   "outputs": [],
   "source": [
    "def calculate_scores(y_true, predictions, predictions_ext):\n",
    "    \"\"\"\n",
    "    Calculate scores for both models.\n",
    "    :param y_true:           target variable true values\n",
    "    :param predictions:      base model predictions\n",
    "    :param predictions_ext:  extended model predictions\n",
    "    :return estimators:      dict, key-name of metric, value-metric score\n",
    "    \"\"\"\n",
    "    estimators = {'BaseModel': \n",
    "              {\n",
    "                  'mae': mean_absolute_error(y_true, predictions),\n",
    "                  'mape': mape(y_true, predictions),\n",
    "                  'r2_score': r2_score(y_true, predictions),\n",
    "                  'y_predict': predictions\n",
    "              }, \n",
    "              'ExtendModel':\n",
    "              {\n",
    "                  'mae': mean_absolute_error(y_true, predictions_ext),\n",
    "                  'mape': mape(y_true, predictions_ext),\n",
    "                  'r2_score': r2_score(y_true, predictions_ext),\n",
    "                  'y_predict': predictions_ext\n",
    "              }\n",
    "             }\n",
    "    \n",
    "    return estimators\n",
    "    "
   ]
  },
  {
   "cell_type": "code",
   "execution_count": 48,
   "metadata": {},
   "outputs": [],
   "source": [
    "estimators = calculate_scores(y_real, predictions, predictions_ext)"
   ]
  },
  {
   "cell_type": "code",
   "execution_count": 49,
   "metadata": {},
   "outputs": [],
   "source": [
    "def plot_regression_results(ax, y_true, y_pred, title, scores):\n",
    "    \"\"\"Scatter plot of the predicted vs true targets. \"\"\"\n",
    "    \n",
    "    ax.plot([y_true.min(), y_true.max()],\n",
    "            [y_true.min(), y_true.max()],\n",
    "            '--r', linewidth=2)\n",
    "    ax.scatter(y_true, y_pred, alpha=0.2)\n",
    "\n",
    "    ax.spines['top'].set_visible(False)\n",
    "    ax.spines['right'].set_visible(False)\n",
    "    ax.get_xaxis().tick_bottom()\n",
    "    ax.get_yaxis().tick_left()\n",
    "    ax.spines['left'].set_position(('outward', 10))\n",
    "    ax.spines['bottom'].set_position(('outward', 10))\n",
    "    ax.set_xlim([y_true.min(), y_true.max()])\n",
    "    ax.set_ylim([y_true.min(), y_true.max()])\n",
    "    ax.set_xlabel('Measured')\n",
    "    ax.set_ylabel('Predicted')\n",
    "    extra = plt.Rectangle((0, 0), 0, 0, fc=\"w\", fill=False,\n",
    "                          edgecolor='none', linewidth=0)\n",
    "    ax.legend([extra], [scores], loc='upper left')\n",
    "    title = title\n",
    "    ax.set_title(title)"
   ]
  },
  {
   "cell_type": "code",
   "execution_count": 50,
   "metadata": {},
   "outputs": [
    {
     "data": {
      "image/png": "[encoded data removed]",
      "text/plain": [
       "<Figure size 648x504 with 2 Axes>"
      ]
     },
     "metadata": {
      "needs_background": "light"
     },
     "output_type": "display_data"
    }
   ],
   "source": [
    "fig, axs = plt.subplots(1, 2, figsize=(9, 7))\n",
    "axs = np.ravel(axs)\n",
    "\n",
    "for ax, name in zip(axs, list(estimators.keys())):\n",
    "    \n",
    "    plot_regression_results(\n",
    "        ax, y_real, estimators[name]['y_predict'],\n",
    "        name,\n",
    "        (r'r2_score={:.2f}' + '\\n' + r'mae={:.2f}' + '\\n' + r'mape={:.2f}')\n",
    "        .format(estimators[name]['r2_score'],\n",
    "                estimators[name]['mae'],\n",
    "                estimators[name]['mape']))\n",
    "\n",
    "plt.suptitle('Predictors comparison ')\n",
    "plt.tight_layout()\n",
    "plt.subplots_adjust(top=0.9)\n",
    "plt.show()"
   ]
  },
  {
   "cell_type": "markdown",
   "metadata": {},
   "source": [
    "### Conclusion\n",
    "Both models shows great results with r2_score between 0.97 and 0.98. ExtendModel with more training data give lower mae and mape scores which means that we will get better score with more relevant data."
   ]
  },
  {
   "cell_type": "markdown",
   "metadata": {},
   "source": [
    "### Calculate MAPE if one of the samples in test set will have have value u=0"
   ]
  },
  {
   "cell_type": "code",
   "execution_count": 54,
   "metadata": {
    "scrolled": true
   },
   "outputs": [
    {
     "data": {
      "text/plain": [
       "array([[  0.        ],\n",
       "       [125.42823474],\n",
       "       [116.77350102],\n",
       "       [148.80252689],\n",
       "       [ 53.90800726],\n",
       "       [114.2128485 ],\n",
       "       [ 55.50325249],\n",
       "       [154.03014744],\n",
       "       [ 92.59932901],\n",
       "       [ 94.42119063],\n",
       "       [ 56.49207302],\n",
       "       [146.17774455],\n",
       "       [104.18276179],\n",
       "       [118.70058135],\n",
       "       [118.54650578],\n",
       "       [149.37342304],\n",
       "       [ 62.90673171],\n",
       "       [122.70835524],\n",
       "       [ 86.39608196],\n",
       "       [135.07186122],\n",
       "       [ 45.94995442],\n",
       "       [ 71.32964406],\n",
       "       [ 85.77969632],\n",
       "       [143.57267137],\n",
       "       [ 62.329602  ],\n",
       "       [ 77.9977488 ],\n",
       "       [125.90775725],\n",
       "       [145.76626892],\n",
       "       [ 90.15268738],\n",
       "       [134.9301314 ],\n",
       "       [113.24412094],\n",
       "       [ 81.83667425],\n",
       "       [105.79223373],\n",
       "       [142.69282218],\n",
       "       [136.54375782],\n",
       "       [118.77497572],\n",
       "       [ 59.56120442],\n",
       "       [100.60061002],\n",
       "       [102.11153607],\n",
       "       [136.63682   ]])"
      ]
     },
     "execution_count": 54,
     "metadata": {},
     "output_type": "execute_result"
    }
   ],
   "source": [
    "y_real[0] = 0\n",
    "y_real"
   ]
  },
  {
   "cell_type": "code",
   "execution_count": 55,
   "metadata": {},
   "outputs": [
    {
     "name": "stderr",
     "output_type": "stream",
     "text": [
      "c:\\users\\mateo.polancec\\appdata\\local\\programs\\python\\python37\\lib\\site-packages\\ipykernel_launcher.py:3: RuntimeWarning: divide by zero encountered in true_divide\n",
      "  This is separate from the ipykernel package so we can avoid doing imports until\n"
     ]
    },
    {
     "data": {
      "text/plain": [
       "inf"
      ]
     },
     "execution_count": 55,
     "metadata": {},
     "output_type": "execute_result"
    }
   ],
   "source": [
    "mape(y_real, predictions)"
   ]
  },
  {
   "cell_type": "markdown",
   "metadata": {},
   "source": [
    "MAPE score is infinity."
   ]
  },
  {
   "cell_type": "markdown",
   "metadata": {},
   "source": [
    "### Save models and transformers objects for deployment"
   ]
  },
  {
   "cell_type": "code",
   "execution_count": 65,
   "metadata": {},
   "outputs": [],
   "source": [
    "# save transformers\n",
    "dump(out_data['transformers'][0], open('./Transformers/BaseModelFT.pkl', 'wb'))\n",
    "dump(out_data['transformers'][1], open('./Transformers/BaseModelTT.pkl', 'wb'))\n",
    "dump(out_new_data['transformers'][0], open('./Transformers/ExtendModelFT.pkl', 'wb'))\n",
    "dump(out_new_data['transformers'][1], open('./Transformers/ExtendModelTT.pkl', 'wb'))"
   ]
  },
  {
   "cell_type": "code",
   "execution_count": 66,
   "metadata": {},
   "outputs": [
    {
     "name": "stdout",
     "output_type": "stream",
     "text": [
      "INFO:tensorflow:Assets written to: ./TensorflowModels/BaseModel\\assets\n"
     ]
    },
    {
     "name": "stderr",
     "output_type": "stream",
     "text": [
      "c:\\users\\mateo.polancec\\appdata\\local\\programs\\python\\python37\\lib\\site-packages\\tensorflow\\python\\keras\\utils\\generic_utils.py:497: CustomMaskWarning: Custom mask layers require a config and must override get_config. When loading, the custom mask layer must be passed to the custom_objects argument.\n",
      "  category=CustomMaskWarning)\n"
     ]
    },
    {
     "name": "stdout",
     "output_type": "stream",
     "text": [
      "INFO:tensorflow:Assets written to: ./TensorflowModels/ExtendModel\\assets\n"
     ]
    },
    {
     "name": "stderr",
     "output_type": "stream",
     "text": [
      "c:\\users\\mateo.polancec\\appdata\\local\\programs\\python\\python37\\lib\\site-packages\\tensorflow\\python\\keras\\utils\\generic_utils.py:497: CustomMaskWarning: Custom mask layers require a config and must override get_config. When loading, the custom mask layer must be passed to the custom_objects argument.\n",
      "  category=CustomMaskWarning)\n"
     ]
    }
   ],
   "source": [
    "# save tensorflow models models\n",
    "model.save('./TensorflowModels/BaseModel')\n",
    "model_extend.save('./TensorflowModels/ExtendModel')"
   ]
  }
 ],
 "metadata": {
  "accelerator": "GPU",
  "colab": {
   "authorship_tag": "ABX9TyN/Q55MEcY+4fsHCdXN42FQ",
   "include_colab_link": true,
   "name": "SemanticSegmentation.ipynb",
   "provenance": []
  },
  "kernelspec": {
   "display_name": "Python 3",
   "language": "python",
   "name": "python3"
  },
  "language_info": {
   "codemirror_mode": {
    "name": "ipython",
    "version": 3
   },
   "file_extension": ".py",
   "mimetype": "text/x-python",
   "name": "python",
   "nbconvert_exporter": "python",
   "pygments_lexer": "ipython3",
   "version": "3.7.9"
  }
 },
 "nbformat": 4,
 "nbformat_minor": 1
}
